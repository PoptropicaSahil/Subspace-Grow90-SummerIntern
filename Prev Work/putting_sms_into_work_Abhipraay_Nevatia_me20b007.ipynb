{
  "cells": [
    {
      "cell_type": "markdown",
      "metadata": {
        "id": "_Xq03FCfZTTp"
      },
      "source": [
        "# Putting Sms Into Work\n",
        "\n",
        "1. You need to analyse the sms data and answer the questions listed below.\n",
        "2. You are free to use anything of your choice.\n",
        "3. The data provided is highly sensitive so please don't share with anyone"
      ],
      "id": "_Xq03FCfZTTp"
    },
    {
      "cell_type": "markdown",
      "metadata": {
        "id": "CKmgSO6cZTTz"
      },
      "source": [
        "# Abhipraay Nevatia\n",
        "# ME20B007"
      ],
      "id": "CKmgSO6cZTTz"
    },
    {
      "cell_type": "code",
      "execution_count": null,
      "metadata": {
        "id": "wiJAIQrMZTT4"
      },
      "outputs": [],
      "source": [
        "import json\n",
        "import pandas as pd\n",
        "from pandas.io.json import json_normalize #package for flattening json in pandas df"
      ],
      "id": "wiJAIQrMZTT4"
    },
    {
      "cell_type": "code",
      "execution_count": null,
      "metadata": {
        "id": "Rd_EpjX4ZTT_"
      },
      "outputs": [],
      "source": [
        "data = pd.read_json(\"data_small.json\")"
      ],
      "id": "Rd_EpjX4ZTT_"
    },
    {
      "cell_type": "code",
      "execution_count": null,
      "metadata": {
        "id": "NZcikUoAZTUE",
        "outputId": "b0bce13d-e5d4-473c-e8e4-d13a584cefbb"
      },
      "outputs": [
        {
          "data": {
            "text/html": [
              "<div>\n",
              "<style scoped>\n",
              "    .dataframe tbody tr th:only-of-type {\n",
              "        vertical-align: middle;\n",
              "    }\n",
              "\n",
              "    .dataframe tbody tr th {\n",
              "        vertical-align: top;\n",
              "    }\n",
              "\n",
              "    .dataframe thead th {\n",
              "        text-align: right;\n",
              "    }\n",
              "</style>\n",
              "<table border=\"1\" class=\"dataframe\">\n",
              "  <thead>\n",
              "    <tr style=\"text-align: right;\">\n",
              "      <th></th>\n",
              "      <th>user_message_id</th>\n",
              "      <th>sender</th>\n",
              "      <th>message</th>\n",
              "      <th>timestamp</th>\n",
              "      <th>created_at</th>\n",
              "      <th>user_id</th>\n",
              "      <th>user_subscription_id</th>\n",
              "      <th>okay</th>\n",
              "    </tr>\n",
              "  </thead>\n",
              "  <tbody>\n",
              "    <tr>\n",
              "      <th>0</th>\n",
              "      <td>4317860</td>\n",
              "      <td>ADSBUXIN</td>\n",
              "      <td>Hi, our siren is at home and safe and we hope ...</td>\n",
              "      <td>2020-03-25 07:33:39.442</td>\n",
              "      <td>2021-09-16 04:43:11.234</td>\n",
              "      <td>40ec6ba2-af1b-4037-9e01-3d108faa937b</td>\n",
              "      <td>NaN</td>\n",
              "      <td>True</td>\n",
              "    </tr>\n",
              "    <tr>\n",
              "      <th>1</th>\n",
              "      <td>4317861</td>\n",
              "      <td>TMKOTAKB</td>\n",
              "      <td>Due to COVID-19, some of the banking services ...</td>\n",
              "      <td>2020-03-25 06:34:38.445</td>\n",
              "      <td>2021-09-16 04:43:11.236</td>\n",
              "      <td>40ec6ba2-af1b-4037-9e01-3d108faa937b</td>\n",
              "      <td>NaN</td>\n",
              "      <td>True</td>\n",
              "    </tr>\n",
              "    <tr>\n",
              "      <th>2</th>\n",
              "      <td>4317862</td>\n",
              "      <td>ADMONVEW</td>\n",
              "      <td>Youre a few steps away from completing your Cr...</td>\n",
              "      <td>2020-03-25 06:04:45.183</td>\n",
              "      <td>2021-09-16 04:43:11.238</td>\n",
              "      <td>40ec6ba2-af1b-4037-9e01-3d108faa937b</td>\n",
              "      <td>NaN</td>\n",
              "      <td>True</td>\n",
              "    </tr>\n",
              "    <tr>\n",
              "      <th>3</th>\n",
              "      <td>4317863</td>\n",
              "      <td>VKEZHOME</td>\n",
              "      <td>Hi Niraj, a special Home Loan offer for you: \\...</td>\n",
              "      <td>2020-03-25 06:02:46.155</td>\n",
              "      <td>2021-09-16 04:43:11.241</td>\n",
              "      <td>40ec6ba2-af1b-4037-9e01-3d108faa937b</td>\n",
              "      <td>NaN</td>\n",
              "      <td>True</td>\n",
              "    </tr>\n",
              "    <tr>\n",
              "      <th>4</th>\n",
              "      <td>4317864</td>\n",
              "      <td>JXJIOMNY</td>\n",
              "      <td>Dear JioMoney Customer, Pay from Home using My...</td>\n",
              "      <td>2020-03-25 05:54:36.521</td>\n",
              "      <td>2021-09-16 04:43:11.244</td>\n",
              "      <td>40ec6ba2-af1b-4037-9e01-3d108faa937b</td>\n",
              "      <td>NaN</td>\n",
              "      <td>True</td>\n",
              "    </tr>\n",
              "  </tbody>\n",
              "</table>\n",
              "</div>"
            ],
            "text/plain": [
              "   user_message_id    sender  \\\n",
              "0          4317860  ADSBUXIN   \n",
              "1          4317861  TMKOTAKB   \n",
              "2          4317862  ADMONVEW   \n",
              "3          4317863  VKEZHOME   \n",
              "4          4317864  JXJIOMNY   \n",
              "\n",
              "                                             message               timestamp  \\\n",
              "0  Hi, our siren is at home and safe and we hope ... 2020-03-25 07:33:39.442   \n",
              "1  Due to COVID-19, some of the banking services ... 2020-03-25 06:34:38.445   \n",
              "2  Youre a few steps away from completing your Cr... 2020-03-25 06:04:45.183   \n",
              "3  Hi Niraj, a special Home Loan offer for you: \\... 2020-03-25 06:02:46.155   \n",
              "4  Dear JioMoney Customer, Pay from Home using My... 2020-03-25 05:54:36.521   \n",
              "\n",
              "               created_at                               user_id  \\\n",
              "0 2021-09-16 04:43:11.234  40ec6ba2-af1b-4037-9e01-3d108faa937b   \n",
              "1 2021-09-16 04:43:11.236  40ec6ba2-af1b-4037-9e01-3d108faa937b   \n",
              "2 2021-09-16 04:43:11.238  40ec6ba2-af1b-4037-9e01-3d108faa937b   \n",
              "3 2021-09-16 04:43:11.241  40ec6ba2-af1b-4037-9e01-3d108faa937b   \n",
              "4 2021-09-16 04:43:11.244  40ec6ba2-af1b-4037-9e01-3d108faa937b   \n",
              "\n",
              "   user_subscription_id  okay  \n",
              "0                   NaN  True  \n",
              "1                   NaN  True  \n",
              "2                   NaN  True  \n",
              "3                   NaN  True  \n",
              "4                   NaN  True  "
            ]
          },
          "execution_count": 3,
          "metadata": {},
          "output_type": "execute_result"
        }
      ],
      "source": [
        "data.head()"
      ],
      "id": "NZcikUoAZTUE"
    },
    {
      "cell_type": "code",
      "execution_count": null,
      "metadata": {
        "id": "F6QM-nIXZTUK",
        "outputId": "e3313fcb-5147-457e-e3f4-8a452e068413"
      },
      "outputs": [
        {
          "data": {
            "text/plain": [
              "array(['40ec6ba2-af1b-4037-9e01-3d108faa937b',\n",
              "       'e1eb6177-cf74-4727-b1c5-370d6c1a5fd1',\n",
              "       '301ff388-c5ae-4dff-b6f5-83103cbbb5d0',\n",
              "       'e042e6b7-466a-4ba9-af43-90d3eb346ccc',\n",
              "       '6a453330-9801-4208-b0e0-9bc8f3608ec4'], dtype=object)"
            ]
          },
          "execution_count": 4,
          "metadata": {},
          "output_type": "execute_result"
        }
      ],
      "source": [
        "# Listing down all the users id\n",
        "data[\"user_id\"].unique()[:5]"
      ],
      "id": "F6QM-nIXZTUK"
    },
    {
      "cell_type": "code",
      "execution_count": null,
      "metadata": {
        "id": "VyOa8oN0ZTUN",
        "outputId": "6c743bd8-a119-4686-d6cb-519428e2aa8e"
      },
      "outputs": [
        {
          "data": {
            "text/html": [
              "<div>\n",
              "<style scoped>\n",
              "    .dataframe tbody tr th:only-of-type {\n",
              "        vertical-align: middle;\n",
              "    }\n",
              "\n",
              "    .dataframe tbody tr th {\n",
              "        vertical-align: top;\n",
              "    }\n",
              "\n",
              "    .dataframe thead th {\n",
              "        text-align: right;\n",
              "    }\n",
              "</style>\n",
              "<table border=\"1\" class=\"dataframe\">\n",
              "  <thead>\n",
              "    <tr style=\"text-align: right;\">\n",
              "      <th></th>\n",
              "      <th>user_message_id</th>\n",
              "      <th>sender</th>\n",
              "      <th>message</th>\n",
              "      <th>timestamp</th>\n",
              "      <th>created_at</th>\n",
              "      <th>user_id</th>\n",
              "      <th>user_subscription_id</th>\n",
              "      <th>okay</th>\n",
              "    </tr>\n",
              "  </thead>\n",
              "  <tbody>\n",
              "    <tr>\n",
              "      <th>0</th>\n",
              "      <td>4317860</td>\n",
              "      <td>ADSBUXIN</td>\n",
              "      <td>Hi, our siren is at home and safe and we hope ...</td>\n",
              "      <td>2020-03-25 07:33:39.442</td>\n",
              "      <td>2021-09-16 04:43:11.234</td>\n",
              "      <td>40ec6ba2-af1b-4037-9e01-3d108faa937b</td>\n",
              "      <td>NaN</td>\n",
              "      <td>True</td>\n",
              "    </tr>\n",
              "    <tr>\n",
              "      <th>1</th>\n",
              "      <td>4317861</td>\n",
              "      <td>TMKOTAKB</td>\n",
              "      <td>Due to COVID-19, some of the banking services ...</td>\n",
              "      <td>2020-03-25 06:34:38.445</td>\n",
              "      <td>2021-09-16 04:43:11.236</td>\n",
              "      <td>40ec6ba2-af1b-4037-9e01-3d108faa937b</td>\n",
              "      <td>NaN</td>\n",
              "      <td>True</td>\n",
              "    </tr>\n",
              "    <tr>\n",
              "      <th>2</th>\n",
              "      <td>4317862</td>\n",
              "      <td>ADMONVEW</td>\n",
              "      <td>Youre a few steps away from completing your Cr...</td>\n",
              "      <td>2020-03-25 06:04:45.183</td>\n",
              "      <td>2021-09-16 04:43:11.238</td>\n",
              "      <td>40ec6ba2-af1b-4037-9e01-3d108faa937b</td>\n",
              "      <td>NaN</td>\n",
              "      <td>True</td>\n",
              "    </tr>\n",
              "    <tr>\n",
              "      <th>3</th>\n",
              "      <td>4317863</td>\n",
              "      <td>VKEZHOME</td>\n",
              "      <td>Hi Niraj, a special Home Loan offer for you: \\...</td>\n",
              "      <td>2020-03-25 06:02:46.155</td>\n",
              "      <td>2021-09-16 04:43:11.241</td>\n",
              "      <td>40ec6ba2-af1b-4037-9e01-3d108faa937b</td>\n",
              "      <td>NaN</td>\n",
              "      <td>True</td>\n",
              "    </tr>\n",
              "    <tr>\n",
              "      <th>4</th>\n",
              "      <td>4317864</td>\n",
              "      <td>JXJIOMNY</td>\n",
              "      <td>Dear JioMoney Customer, Pay from Home using My...</td>\n",
              "      <td>2020-03-25 05:54:36.521</td>\n",
              "      <td>2021-09-16 04:43:11.244</td>\n",
              "      <td>40ec6ba2-af1b-4037-9e01-3d108faa937b</td>\n",
              "      <td>NaN</td>\n",
              "      <td>True</td>\n",
              "    </tr>\n",
              "  </tbody>\n",
              "</table>\n",
              "</div>"
            ],
            "text/plain": [
              "   user_message_id    sender  \\\n",
              "0          4317860  ADSBUXIN   \n",
              "1          4317861  TMKOTAKB   \n",
              "2          4317862  ADMONVEW   \n",
              "3          4317863  VKEZHOME   \n",
              "4          4317864  JXJIOMNY   \n",
              "\n",
              "                                             message               timestamp  \\\n",
              "0  Hi, our siren is at home and safe and we hope ... 2020-03-25 07:33:39.442   \n",
              "1  Due to COVID-19, some of the banking services ... 2020-03-25 06:34:38.445   \n",
              "2  Youre a few steps away from completing your Cr... 2020-03-25 06:04:45.183   \n",
              "3  Hi Niraj, a special Home Loan offer for you: \\... 2020-03-25 06:02:46.155   \n",
              "4  Dear JioMoney Customer, Pay from Home using My... 2020-03-25 05:54:36.521   \n",
              "\n",
              "               created_at                               user_id  \\\n",
              "0 2021-09-16 04:43:11.234  40ec6ba2-af1b-4037-9e01-3d108faa937b   \n",
              "1 2021-09-16 04:43:11.236  40ec6ba2-af1b-4037-9e01-3d108faa937b   \n",
              "2 2021-09-16 04:43:11.238  40ec6ba2-af1b-4037-9e01-3d108faa937b   \n",
              "3 2021-09-16 04:43:11.241  40ec6ba2-af1b-4037-9e01-3d108faa937b   \n",
              "4 2021-09-16 04:43:11.244  40ec6ba2-af1b-4037-9e01-3d108faa937b   \n",
              "\n",
              "   user_subscription_id  okay  \n",
              "0                   NaN  True  \n",
              "1                   NaN  True  \n",
              "2                   NaN  True  \n",
              "3                   NaN  True  \n",
              "4                   NaN  True  "
            ]
          },
          "execution_count": 5,
          "metadata": {},
          "output_type": "execute_result"
        }
      ],
      "source": [
        "# msg of a given user id\n",
        "user_msg = data[data[\"user_id\"]==\"40ec6ba2-af1b-4037-9e01-3d108faa937b\"]\n",
        "user_msg.head()"
      ],
      "id": "VyOa8oN0ZTUN"
    },
    {
      "cell_type": "code",
      "execution_count": null,
      "metadata": {
        "id": "DIZKvFQgZTUQ"
      },
      "outputs": [],
      "source": [
        "# filter out transactional messages(10 pts)\n",
        "# Hint: Filter messages based on keywords\n",
        "# .*spent.*\n",
        "# .*debited.*\n",
        "# .*charged.*\n",
        "# .*paid.*\n",
        "# .*sent.*\n",
        "# .*txn.*\n",
        "# .*billed.*\n",
        "# .*transaction.*"
      ],
      "id": "DIZKvFQgZTUQ"
    },
    {
      "cell_type": "code",
      "execution_count": null,
      "metadata": {
        "id": "cXS3J3LKZTUU"
      },
      "outputs": [],
      "source": [
        "filtered_data = data[(data.message.str.contains('spent')) | (data.message.str.contains('debited')) | (data.message.str.contains('charged')) | (data.message.str.contains('paid')) | (data.message.str.contains('billed')) ]"
      ],
      "id": "cXS3J3LKZTUU"
    },
    {
      "cell_type": "code",
      "execution_count": null,
      "metadata": {
        "id": "FxCroFhQZTUX",
        "outputId": "7d422151-fd52-4a0a-fd9f-6f2f37b7d622"
      },
      "outputs": [
        {
          "data": {
            "text/html": [
              "<div>\n",
              "<style scoped>\n",
              "    .dataframe tbody tr th:only-of-type {\n",
              "        vertical-align: middle;\n",
              "    }\n",
              "\n",
              "    .dataframe tbody tr th {\n",
              "        vertical-align: top;\n",
              "    }\n",
              "\n",
              "    .dataframe thead th {\n",
              "        text-align: right;\n",
              "    }\n",
              "</style>\n",
              "<table border=\"1\" class=\"dataframe\">\n",
              "  <thead>\n",
              "    <tr style=\"text-align: right;\">\n",
              "      <th></th>\n",
              "      <th>user_message_id</th>\n",
              "      <th>sender</th>\n",
              "      <th>message</th>\n",
              "      <th>timestamp</th>\n",
              "      <th>created_at</th>\n",
              "      <th>user_id</th>\n",
              "      <th>user_subscription_id</th>\n",
              "      <th>okay</th>\n",
              "    </tr>\n",
              "  </thead>\n",
              "  <tbody>\n",
              "    <tr>\n",
              "      <th>12</th>\n",
              "      <td>4317872</td>\n",
              "      <td>ADHDFCBK</td>\n",
              "      <td>Rs 120.00 debited from a/c **1541 on 24-03-20 ...</td>\n",
              "      <td>2020-03-24 12:27:47.798</td>\n",
              "      <td>2021-09-16 04:43:11.263</td>\n",
              "      <td>40ec6ba2-af1b-4037-9e01-3d108faa937b</td>\n",
              "      <td>NaN</td>\n",
              "      <td>True</td>\n",
              "    </tr>\n",
              "    <tr>\n",
              "      <th>17</th>\n",
              "      <td>4317877</td>\n",
              "      <td>AMAIRBIL</td>\n",
              "      <td>Hi! Bill dated 12-MAR-20 for your Airtel No. 8...</td>\n",
              "      <td>2020-03-24 07:28:59.006</td>\n",
              "      <td>2021-09-16 04:43:11.275</td>\n",
              "      <td>40ec6ba2-af1b-4037-9e01-3d108faa937b</td>\n",
              "      <td>NaN</td>\n",
              "      <td>True</td>\n",
              "    </tr>\n",
              "    <tr>\n",
              "      <th>32</th>\n",
              "      <td>4317892</td>\n",
              "      <td>BPIPAYTM</td>\n",
              "      <td>Your bill for Airtel - Consumer Number  887976...</td>\n",
              "      <td>2020-03-23 09:43:07.666</td>\n",
              "      <td>2021-09-16 04:43:11.318</td>\n",
              "      <td>40ec6ba2-af1b-4037-9e01-3d108faa937b</td>\n",
              "      <td>NaN</td>\n",
              "      <td>True</td>\n",
              "    </tr>\n",
              "    <tr>\n",
              "      <th>45</th>\n",
              "      <td>4317905</td>\n",
              "      <td>AMAIRBIL</td>\n",
              "      <td>Hi, Bill dated 12-MAR-20 for Airtel No. 887976...</td>\n",
              "      <td>2020-03-22 07:51:03.033</td>\n",
              "      <td>2021-09-16 04:43:11.350</td>\n",
              "      <td>40ec6ba2-af1b-4037-9e01-3d108faa937b</td>\n",
              "      <td>NaN</td>\n",
              "      <td>True</td>\n",
              "    </tr>\n",
              "    <tr>\n",
              "      <th>55</th>\n",
              "      <td>4317915</td>\n",
              "      <td>ADHDFCBK</td>\n",
              "      <td>Rs 30.00 debited from a/c **1541 on 21-03-20 t...</td>\n",
              "      <td>2020-03-21 16:43:57.301</td>\n",
              "      <td>2021-09-16 04:43:11.375</td>\n",
              "      <td>40ec6ba2-af1b-4037-9e01-3d108faa937b</td>\n",
              "      <td>NaN</td>\n",
              "      <td>True</td>\n",
              "    </tr>\n",
              "  </tbody>\n",
              "</table>\n",
              "</div>"
            ],
            "text/plain": [
              "    user_message_id    sender  \\\n",
              "12          4317872  ADHDFCBK   \n",
              "17          4317877  AMAIRBIL   \n",
              "32          4317892  BPIPAYTM   \n",
              "45          4317905  AMAIRBIL   \n",
              "55          4317915  ADHDFCBK   \n",
              "\n",
              "                                              message               timestamp  \\\n",
              "12  Rs 120.00 debited from a/c **1541 on 24-03-20 ... 2020-03-24 12:27:47.798   \n",
              "17  Hi! Bill dated 12-MAR-20 for your Airtel No. 8... 2020-03-24 07:28:59.006   \n",
              "32  Your bill for Airtel - Consumer Number  887976... 2020-03-23 09:43:07.666   \n",
              "45  Hi, Bill dated 12-MAR-20 for Airtel No. 887976... 2020-03-22 07:51:03.033   \n",
              "55  Rs 30.00 debited from a/c **1541 on 21-03-20 t... 2020-03-21 16:43:57.301   \n",
              "\n",
              "                created_at                               user_id  \\\n",
              "12 2021-09-16 04:43:11.263  40ec6ba2-af1b-4037-9e01-3d108faa937b   \n",
              "17 2021-09-16 04:43:11.275  40ec6ba2-af1b-4037-9e01-3d108faa937b   \n",
              "32 2021-09-16 04:43:11.318  40ec6ba2-af1b-4037-9e01-3d108faa937b   \n",
              "45 2021-09-16 04:43:11.350  40ec6ba2-af1b-4037-9e01-3d108faa937b   \n",
              "55 2021-09-16 04:43:11.375  40ec6ba2-af1b-4037-9e01-3d108faa937b   \n",
              "\n",
              "    user_subscription_id  okay  \n",
              "12                   NaN  True  \n",
              "17                   NaN  True  \n",
              "32                   NaN  True  \n",
              "45                   NaN  True  \n",
              "55                   NaN  True  "
            ]
          },
          "execution_count": 8,
          "metadata": {},
          "output_type": "execute_result"
        }
      ],
      "source": [
        "filtered_data.head()"
      ],
      "id": "FxCroFhQZTUX"
    },
    {
      "cell_type": "markdown",
      "metadata": {
        "id": "lpaizb7hZTUa"
      },
      "source": [
        "## I didn't filter out transaction as transaction is used in many promotial messages"
      ],
      "id": "lpaizb7hZTUa"
    },
    {
      "cell_type": "code",
      "execution_count": null,
      "metadata": {
        "id": "eZqqVO7-ZTUc"
      },
      "outputs": [],
      "source": [
        "# His expense and earning for a particular month? (40 pts)\n",
        "# Hint: Use https://duckling.wit.ai/ for parsing money\n",
        "# Find out total money credited and total money debited"
      ],
      "id": "eZqqVO7-ZTUc"
    },
    {
      "cell_type": "markdown",
      "metadata": {
        "id": "7SGdqjELZTUf"
      },
      "source": [
        "## I read about duckling and understood how to use parse money, but wasn't able to implement it on python."
      ],
      "id": "7SGdqjELZTUf"
    },
    {
      "cell_type": "code",
      "execution_count": null,
      "metadata": {
        "id": "mSA57urqZTUg"
      },
      "outputs": [],
      "source": [
        "# Any Extra insights (60 pts)\n",
        "# https://arxiv.org/pdf/2002.02755.pdf\n",
        "# https://www.analyticsvidhya.com/blog/2020/07/machine-learning-study-clustering-transactions-text-descriptions/\n",
        "# https://hasgeek.com/fifthelephant/2017/sub/designing-machine-learning-pipelines-for-mining-tr-HF2RRbi7nJ3qqXVJvEQnYy\n",
        "# https://medium.com/analytics-vidhya/making-sms-useful-again-db94d92e3490"
      ],
      "id": "mSA57urqZTUg"
    },
    {
      "cell_type": "markdown",
      "metadata": {
        "id": "iLViINfeZTUi"
      },
      "source": [
        "## implementation of the research paper https://arxiv.org/pdf/2002.02755.pdf"
      ],
      "id": "iLViINfeZTUi"
    },
    {
      "cell_type": "markdown",
      "metadata": {
        "id": "e1tr226oZTUj"
      },
      "source": [
        "### Since the given dataset is not labeled, I cannot clearly show the results of my model. But to get a general idea if the model works, I labeled the transactional data(filtered in 1) as 1 and the remaining as 0. So basically the model predicts whether the message has transactional data or no."
      ],
      "id": "e1tr226oZTUj"
    },
    {
      "cell_type": "markdown",
      "metadata": {
        "id": "TiSaVf0PZTUl"
      },
      "source": [
        "## Creating vocabulary"
      ],
      "id": "TiSaVf0PZTUl"
    },
    {
      "cell_type": "code",
      "execution_count": null,
      "metadata": {
        "id": "OZdTQPLNZTUm"
      },
      "outputs": [],
      "source": [
        "import spacy\n",
        "spacy_eng = spacy.load(\"en_core_web_sm\")\n",
        "class Vocabulary:\n",
        "    PAD_token = 0   # Used for padding short sentences\n",
        "    SOS_token = 1   # Start-of-sentence token\n",
        "    EOS_token = 2   # End-of-sentence token\n",
        "\n",
        "    def __init__(self, name):\n",
        "        self.name = name\n",
        "        self.word2index = {'PAD': 0, 'SOS': 1, 'EOS': 2, 'UNK':3}\n",
        "        self.word2count = {}\n",
        "        self.index2word = {0: \"PAD\", 1: \"SOS\", 2: \"EOS\", 3: \"UNK\"}\n",
        "        self.num_words = 4\n",
        "        self.num_sentences = 0 \n",
        "        self.longest_sentence = 0\n",
        "    \n",
        "\n",
        "\n",
        "    def add_word(self, word):\n",
        "        \n",
        "        if word not in self.word2count:\n",
        "            # First entry of word into vocabulary\n",
        "            self.word2count[word] = 1\n",
        "        else:\n",
        "            if self.word2count[word]== 5:\n",
        "                self.word2index[word] = self.num_words\n",
        "                self.index2word[self.num_words] = word\n",
        "                self.num_words += 1\n",
        "                self.word2count[word] +=1\n",
        "            else:\n",
        "                self.word2count[word] += 1\n",
        "             \n",
        "    def tokenizer(self,text):\n",
        "        return [tok.text.lower() for tok in spacy_eng.tokenizer(text)]\n",
        "    \n",
        "    def add_sentence(self, sentence):\n",
        "        sentence_len = 0\n",
        "        for word in self.tokenizer(sentence):\n",
        "            sentence_len += 1\n",
        "            self.add_word(word)\n",
        "        if sentence_len > self.longest_sentence:\n",
        "            # This is the longest sentence\n",
        "            self.longest_sentence = sentence_len\n",
        "        # Count the number of sentences\n",
        "        self.num_sentences += 1\n",
        "\n",
        "    def to_word(self, index):\n",
        "        return self.index2word[index]\n",
        "\n",
        "    def to_index(self, word):\n",
        "        return self.word2index[word]"
      ],
      "id": "OZdTQPLNZTUm"
    },
    {
      "cell_type": "code",
      "execution_count": null,
      "metadata": {
        "id": "wLep0j_aZTUp",
        "outputId": "9e0291ec-d37d-4c0d-8a69-a9d3b30a3095"
      },
      "outputs": [
        {
          "data": {
            "text/plain": [
              "(10000, 178)"
            ]
          },
          "execution_count": 208,
          "metadata": {},
          "output_type": "execute_result"
        }
      ],
      "source": [
        "vocab = Vocabulary('sms')\n",
        "\n",
        "# adding words to the vocabulary \n",
        "for sentence in data['message'][:10000]:\n",
        "    vocab.add_sentence(sentence)\n",
        "\n",
        "# converting the captions to tokens \n",
        "sent_idxs = []\n",
        "captions = []\n",
        "for idx, sentence in enumerate (data['message'][:10000]):\n",
        "    i = 0\n",
        "    \n",
        "    for word in vocab.tokenizer(sentence):\n",
        "        if word not in vocab.word2index:\n",
        "            sent_idxs.append(3)\n",
        "        else:\n",
        "            sent_idxs.append(vocab.to_index(word))\n",
        "        i+=1\n",
        "    while i < ((vocab.longest_sentence) + 1):\n",
        "        sent_idxs.append(0)\n",
        "        i+=1\n",
        "    captions.append(sent_idxs)\n",
        "    sent_idxs = []\n",
        "\n",
        "import numpy as np\n",
        "captions = np.array(captions)\n",
        "captions.shape"
      ],
      "id": "wLep0j_aZTUp"
    },
    {
      "cell_type": "code",
      "execution_count": null,
      "metadata": {
        "id": "8Y0psr4GZTUr",
        "outputId": "330acf84-8e3b-4bc9-95e0-4ba681e12934"
      },
      "outputs": [
        {
          "data": {
            "text/plain": [
              "3158"
            ]
          },
          "execution_count": 170,
          "metadata": {},
          "output_type": "execute_result"
        }
      ],
      "source": [
        "vocab.num_words"
      ],
      "id": "8Y0psr4GZTUr"
    },
    {
      "cell_type": "markdown",
      "metadata": {
        "id": "obTN0pkBZTUt"
      },
      "source": [
        "## Creating the dataset"
      ],
      "id": "obTN0pkBZTUt"
    },
    {
      "cell_type": "code",
      "execution_count": null,
      "metadata": {
        "id": "y364BwfdZTUu",
        "outputId": "b0f5a028-bb01-4eb6-adcb-8ee93520bf09"
      },
      "outputs": [
        {
          "name": "stdout",
          "output_type": "stream",
          "text": [
            "0    9212\n",
            "1     788\n",
            "Name: label, dtype: int64\n"
          ]
        }
      ],
      "source": [
        "from torch.utils.data import Dataset, DataLoader, random_split\n",
        "train_data = pd.DataFrame(columns = ['message', 'label'])\n",
        "train_data['message'] = data['message'][:10000]\n",
        "train_data['label'] = [1 if ('spent' in (train_data['message'].iloc[i])) | ('debited' in (train_data['message'].iloc[i]) )else 0 for i in range(len(train_data))]\n",
        "print(train_data['label'].value_counts())\n",
        "train_data = [(captions[i], train_data['label'].iloc[i]) for i in range(len(train_data))]\n",
        "trainset, valset = random_split(train_data, [int(0.8*len(train_data)), (len(train_data) - int(0.8*len(train_data)))])\n",
        "trainloader = DataLoader(dataset=trainset, batch_size=32, shuffle = True)"
      ],
      "id": "y364BwfdZTUu"
    },
    {
      "cell_type": "markdown",
      "metadata": {
        "id": "zGgpXA6LZTUv"
      },
      "source": [
        "## Model"
      ],
      "id": "zGgpXA6LZTUv"
    },
    {
      "cell_type": "code",
      "execution_count": null,
      "metadata": {
        "id": "frkObfddZTUx"
      },
      "outputs": [],
      "source": [
        "import torch\n",
        "import torch.nn as nn\n",
        "import torch.nn.functional as F\n",
        "class Model(nn.Module):\n",
        "    def __init__(self, num_words, embed_size):\n",
        "        super().__init__()\n",
        "\n",
        "        self.num_words = num_words\n",
        "        self.embed_size = embed_size\n",
        "        self.embed = nn.Embedding(self.num_words, self.embed_size)   \n",
        "        self.cnn = nn.Conv2d(1,16, kernel_size= 3)\n",
        "        self.lstm = nn.LSTM(16*24, 256, batch_first = True) \n",
        "        self.fc = nn.Linear(256, 2)\n",
        "        self.pool = nn.MaxPool2d(kernel_size=4)\n",
        "    \n",
        "    def forward(self, sms):\n",
        "        batch_size = sms.shape[0]\n",
        "        sms_embed = self.embed(sms)  #[batch_size, 1,num_words, embed_size]\n",
        "        conv_out = self.cnn(sms_embed.unsqueeze(1)) #[batch_size, 16, ]\n",
        "        conv_out = self.pool(conv_out)\n",
        "        conv_out = conv_out.reshape(batch_size, conv_out.shape[2], 16*conv_out.shape[3])\n",
        "        lstm_out, _ = self.lstm(conv_out)\n",
        "        out = self.fc(lstm_out[:,-1])\n",
        "        return F.log_softmax(out, dim = 1)"
      ],
      "id": "frkObfddZTUx"
    },
    {
      "cell_type": "markdown",
      "metadata": {
        "id": "PRvmpHiVZTU1"
      },
      "source": [
        "# Training"
      ],
      "id": "PRvmpHiVZTU1"
    },
    {
      "cell_type": "code",
      "execution_count": null,
      "metadata": {
        "id": "uPn7o1FVZTU2",
        "outputId": "b907f383-1888-48a6-e1c5-5fcb4c5157d0"
      },
      "outputs": [
        {
          "name": "stdout",
          "output_type": "stream",
          "text": [
            "epoch 1 loss = 0.0023635923941643855\n"
          ]
        }
      ],
      "source": [
        "import numpy as np\n",
        "model = Model(3158, 100)\n",
        "device = torch.device('cuda' if torch.cuda.is_available() else 'cpu')\n",
        "criterion = nn.NLLLoss(ignore_index = 0 )\n",
        "criterion.to(device)\n",
        "optimizer = torch.optim.Adam(model.parameters(), lr = 1e-2)\n",
        "epochs = 1\n",
        "for epoch in range(epochs):\n",
        "    train_loss = []\n",
        "    for idx, (sms,y) in enumerate(trainloader):\n",
        "        sms.to(device)\n",
        "        preds = model(sms)\n",
        "        optimizer.zero_grad()\n",
        "        loss = criterion(preds, y)\n",
        "        train_loss.append(loss.item())\n",
        "        loss.backward()\n",
        "        optimizer.step()\n",
        "        y_pred = torch.argmax(preds, dim = 1)\n",
        "        \n",
        "    print(f'epoch {epoch+1} loss = {np.mean(train_loss)}')"
      ],
      "id": "uPn7o1FVZTU2"
    },
    {
      "cell_type": "markdown",
      "metadata": {
        "id": "cHY_KjiCZTU3"
      },
      "source": [
        "## Checking for a random sms"
      ],
      "id": "cHY_KjiCZTU3"
    },
    {
      "cell_type": "code",
      "execution_count": null,
      "metadata": {
        "id": "nDLFHemCZTU4",
        "outputId": "fa9dc429-69f7-44b0-d21b-7e90807179dd"
      },
      "outputs": [
        {
          "name": "stdout",
          "output_type": "stream",
          "text": [
            "sms:\n",
            "rs . 1.00 credited to a / c xxxxxx1541 on 14 - 02 - 20 by a / c linked to vpa UNK ( upi ref no   UNK ) . \n",
            "prediction:\n",
            "it is a transactional sms\n"
          ]
        }
      ],
      "source": [
        "pred = model(sms[12].unsqueeze(0))\n",
        "print('sms:')\n",
        "for i in sms[12]:\n",
        "    if i == 0:\n",
        "        break\n",
        "    print(vocab.to_word(int(i)), end = ' ')\n",
        "\n",
        "print()\n",
        "print('prediction:')\n",
        "if (torch.argmax(pred, dim = 1) == 1):\n",
        "    print('it is a transactional sms')\n",
        "else:\n",
        "    print('it is not a transactional sms')\n",
        "    "
      ],
      "id": "nDLFHemCZTU4"
    },
    {
      "cell_type": "markdown",
      "metadata": {
        "id": "u2KuLlAQZTU6"
      },
      "source": [
        "## I read the other two articles and saw the video but did not get sufficient time to implement them"
      ],
      "id": "u2KuLlAQZTU6"
    }
  ],
  "metadata": {
    "interpreter": {
      "hash": "220904bb1b11ba5d67ca5e275a7648fe664f61a92953245a3b038700f67bf254"
    },
    "kernelspec": {
      "display_name": "Python 3.8.8 64-bit ('base': conda)",
      "name": "python3"
    },
    "language_info": {
      "codemirror_mode": {
        "name": "ipython",
        "version": 3
      },
      "file_extension": ".py",
      "mimetype": "text/x-python",
      "name": "python",
      "nbconvert_exporter": "python",
      "pygments_lexer": "ipython3",
      "version": "3.8.8"
    },
    "colab": {
      "name": "putting_sms_into_work - Abhipraay Nevatia me20b007.ipynb",
      "provenance": []
    }
  },
  "nbformat": 4,
  "nbformat_minor": 5
}