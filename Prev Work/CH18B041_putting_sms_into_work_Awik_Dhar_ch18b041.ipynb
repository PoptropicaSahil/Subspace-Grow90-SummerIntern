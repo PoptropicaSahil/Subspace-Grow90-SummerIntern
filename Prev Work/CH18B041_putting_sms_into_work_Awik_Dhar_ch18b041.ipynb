{
  "nbformat": 4,
  "nbformat_minor": 5,
  "metadata": {
    "accelerator": "TPU",
    "colab": {
      "name": "CH18B041_putting_sms_into_work - Awik Dhar ch18b041.ipynb",
      "provenance": [],
      "collapsed_sections": []
    },
    "kernelspec": {
      "display_name": "Python 3",
      "language": "python",
      "name": "python3"
    },
    "language_info": {
      "codemirror_mode": {
        "name": "ipython",
        "version": 3
      },
      "file_extension": ".py",
      "mimetype": "text/x-python",
      "name": "python",
      "nbconvert_exporter": "python",
      "pygments_lexer": "ipython3",
      "version": "3.9.0"
    }
  },
  "cells": [
    {
      "cell_type": "markdown",
      "metadata": {
        "id": "9e563045"
      },
      "source": [
        "# Putting Sms Into Work\n",
        "\n",
        "1. You need to analyse the sms data and answer the questions listed below.\n",
        "2. You are free to use anything of your choice.\n",
        "3. The data provided is highly sensitive so please don't share with anyone"
      ],
      "id": "9e563045"
    },
    {
      "cell_type": "code",
      "metadata": {
        "id": "e039180d"
      },
      "source": [
        "import json\n",
        "import pandas as pd\n",
        "from pandas.io.json import json_normalize #package for flattening json in pandas df"
      ],
      "id": "e039180d",
      "execution_count": null,
      "outputs": []
    },
    {
      "cell_type": "code",
      "metadata": {
        "id": "Ea9YtQK0OVK0"
      },
      "source": [
        "from wordcloud import WordCloud\n",
        "import numpy as np\n",
        "import matplotlib.pyplot as plt"
      ],
      "id": "Ea9YtQK0OVK0",
      "execution_count": null,
      "outputs": []
    },
    {
      "cell_type": "code",
      "metadata": {
        "colab": {
          "base_uri": "https://localhost:8080/",
          "height": 324
        },
        "id": "7RawA0LK4P5Z",
        "outputId": "6f8570a8-fe71-43d0-c45a-f845da5c830d"
      },
      "source": [
        "!pip install duckling==1.8.0\n",
        "!pip install --force-reinstall JPype1==0.7.0"
      ],
      "id": "7RawA0LK4P5Z",
      "execution_count": null,
      "outputs": [
        {
          "output_type": "stream",
          "name": "stdout",
          "text": [
            "Requirement already satisfied: duckling==1.8.0 in /usr/local/lib/python3.7/dist-packages (1.8.0)\n",
            "Requirement already satisfied: JPype1 in /usr/local/lib/python3.7/dist-packages (from duckling==1.8.0) (0.7.0)\n",
            "Requirement already satisfied: six in /usr/local/lib/python3.7/dist-packages (from duckling==1.8.0) (1.15.0)\n",
            "Requirement already satisfied: python-dateutil in /usr/local/lib/python3.7/dist-packages (from duckling==1.8.0) (2.8.2)\n",
            "Collecting JPype1==0.7.0\n",
            "  Using cached JPype1-0.7.0-cp37-cp37m-manylinux2010_x86_64.whl (2.8 MB)\n",
            "Installing collected packages: JPype1\n",
            "  Attempting uninstall: JPype1\n",
            "    Found existing installation: JPype1 0.7.0\n",
            "    Uninstalling JPype1-0.7.0:\n",
            "      Successfully uninstalled JPype1-0.7.0\n",
            "Successfully installed JPype1-0.7.0\n"
          ]
        },
        {
          "output_type": "display_data",
          "data": {
            "application/vnd.colab-display-data+json": {
              "pip_warning": {
                "packages": [
                  "_jpype",
                  "jpype"
                ]
              }
            }
          },
          "metadata": {}
        }
      ]
    },
    {
      "cell_type": "code",
      "metadata": {
        "colab": {
          "base_uri": "https://localhost:8080/"
        },
        "id": "w0f0IrcBVA9X",
        "outputId": "1896f991-1b46-4987-887f-3221130fe5c4"
      },
      "source": [
        "from google.colab import drive\n",
        "drive.mount('/content/drive')"
      ],
      "id": "w0f0IrcBVA9X",
      "execution_count": null,
      "outputs": [
        {
          "output_type": "stream",
          "name": "stdout",
          "text": [
            "Drive already mounted at /content/drive; to attempt to forcibly remount, call drive.mount(\"/content/drive\", force_remount=True).\n"
          ]
        }
      ]
    },
    {
      "cell_type": "code",
      "metadata": {
        "id": "ikFu5EBV71VM"
      },
      "source": [
        "from duckling import DucklingWrapper, Duckling\n",
        "d = DucklingWrapper()"
      ],
      "id": "ikFu5EBV71VM",
      "execution_count": null,
      "outputs": []
    },
    {
      "cell_type": "code",
      "metadata": {
        "id": "aadf8da3"
      },
      "source": [
        "data = pd.read_json(\"/content/drive/MyDrive/Colab Notebooks/G90/data_small.json\")"
      ],
      "id": "aadf8da3",
      "execution_count": null,
      "outputs": []
    },
    {
      "cell_type": "code",
      "metadata": {
        "colab": {
          "base_uri": "https://localhost:8080/"
        },
        "id": "811034d9",
        "outputId": "17be74f7-b62f-412d-8fe7-4428f02e4c7c"
      },
      "source": [
        "data.shape"
      ],
      "id": "811034d9",
      "execution_count": null,
      "outputs": [
        {
          "output_type": "execute_result",
          "data": {
            "text/plain": [
              "(1898953, 8)"
            ]
          },
          "metadata": {},
          "execution_count": 143
        }
      ]
    },
    {
      "cell_type": "code",
      "metadata": {
        "colab": {
          "base_uri": "https://localhost:8080/"
        },
        "id": "3ab2e4b7",
        "outputId": "48239fe6-02bb-40f3-c946-034ecbf6f1fa"
      },
      "source": [
        "# Listing down all the users id\n",
        "data[\"user_id\"].unique()"
      ],
      "id": "3ab2e4b7",
      "execution_count": null,
      "outputs": [
        {
          "output_type": "execute_result",
          "data": {
            "text/plain": [
              "array(['40ec6ba2-af1b-4037-9e01-3d108faa937b',\n",
              "       'e1eb6177-cf74-4727-b1c5-370d6c1a5fd1',\n",
              "       '301ff388-c5ae-4dff-b6f5-83103cbbb5d0',\n",
              "       'e042e6b7-466a-4ba9-af43-90d3eb346ccc',\n",
              "       '6a453330-9801-4208-b0e0-9bc8f3608ec4',\n",
              "       '6f28bcf7-9e64-423b-8d7b-ea7c03f5f691',\n",
              "       'c385fa59-8d9b-4f4e-9f41-ea3dc454b488',\n",
              "       'feb6542d-b15e-4eac-b1a8-b68b2e8a3f58',\n",
              "       '8f659f61-b21c-48ae-9a11-e73e0130a02f',\n",
              "       'cce50213-e98e-4390-bdd5-c86323071760',\n",
              "       'd526455c-b4e4-4807-b12c-29278a65fe55',\n",
              "       '05748776-fe93-4f90-8a49-40f1cab76be6',\n",
              "       '87865ed3-3b06-42fe-bf87-857feff5fb9a',\n",
              "       'f5a33af3-2852-4ec2-8b8a-967cabbb7864',\n",
              "       'fcadb10d-c4a8-407a-8c3a-9a11bc7ade75',\n",
              "       '2f33a137-840d-4a61-8fa2-2b1036c6b4de',\n",
              "       'c364cbfe-4232-4716-a5d7-11379520e5ba',\n",
              "       'f1c22112-db6f-42aa-859a-de53c7b82e7b',\n",
              "       '32f60934-a312-42da-a767-26242c5a236f',\n",
              "       '940fd2e3-880c-4ec9-8c66-66f7cb25e6a6',\n",
              "       '6894da3f-a76e-4152-b91e-3bc186107a39',\n",
              "       '25d3f84d-fb5b-4bf0-add0-fa8590e3f947',\n",
              "       '8899433c-4bea-4f9f-a9ee-1e04e7bd3224',\n",
              "       '84048a0f-2fa6-4887-bca3-a880218ba558',\n",
              "       'fc2ddea9-eab4-4709-82a5-6579c798539c',\n",
              "       '59836142-4c88-4bc3-9db1-2e674912d134',\n",
              "       '374b9708-9124-4030-b0f5-f5016e6e63b8',\n",
              "       'c45175b8-49e0-4ce5-a969-ec8a072bc441',\n",
              "       '0261ce8a-f801-447f-b416-afa6c65e74f6',\n",
              "       '38013d0a-7541-4a4f-afbf-ab1fef98f691',\n",
              "       'ef7699d7-6720-438c-8c07-858b8faa5418',\n",
              "       '8900fce6-cb35-4891-8e5f-bbc28aa420dc',\n",
              "       '40c4ac4b-5b57-4aed-9fbe-bf7366976b8c',\n",
              "       '83267f07-15be-4cae-9cc9-c0c1b2220e0a',\n",
              "       '132aa1e0-bc63-4ce9-9919-502cb906d7bc',\n",
              "       '90a00aaa-ce22-44bf-922c-7bce57516f4c',\n",
              "       '6735056b-70db-4376-b21c-38ea2f2b7fc4',\n",
              "       '9e466594-d812-4494-8571-905e6a917f22',\n",
              "       'c3dfcc85-c7b5-4fba-adcc-172330bc9eb4',\n",
              "       'b57c4435-e95d-4803-9f24-b165aa67f030',\n",
              "       '08909925-3469-4c55-9b22-70298e4af700',\n",
              "       'ce0ac789-cd12-4389-9f27-90de371ad529',\n",
              "       '4e27c932-918a-446f-a317-f9e69dacd16b',\n",
              "       '38b19022-2d28-4262-8db8-13b45748f7c2',\n",
              "       '41619797-509c-417f-9ae6-6ab0fb5a0aed',\n",
              "       'e3423fc0-e02d-4293-abc1-3764790ae442',\n",
              "       'fa3e9a23-27ac-4c06-936b-5edafbd9f6d9',\n",
              "       '4f8c18d7-7ea0-43c2-9d89-818d99a42025',\n",
              "       '89445313-2627-4daa-90a8-49e8d3a510ca',\n",
              "       '1b7e09e4-5827-4ae5-a8ac-9e080e0def40',\n",
              "       '50034449-0427-443b-86c7-b0c5520b665c',\n",
              "       'ccf0d555-6281-4258-9e3a-e9517e821c0d',\n",
              "       '98404046-f5a5-4a19-b95a-73533d7dd1a3',\n",
              "       'ff8c7ae6-8176-4ea8-9431-428d5786eea9',\n",
              "       '8413cb14-f3c4-4d17-89aa-c04d2a8849ca',\n",
              "       'bda16bd3-ca10-4930-ab21-4943fc7718aa',\n",
              "       'b9f0d679-f3fe-4616-93c6-5418f1e6ac90',\n",
              "       'e2d8bfaa-c844-4143-a7ae-f7d306be8a0a',\n",
              "       '9dc8b372-b551-4759-bd06-d8d1ae542b19',\n",
              "       'd6c7f731-8e39-465b-ac52-56d3f3a015ed',\n",
              "       '6bc1dcde-fc5f-457d-9cf5-592f0293ba26',\n",
              "       'a6bfa0ba-0d7e-481f-abec-327fc8767d4d',\n",
              "       '9a8cf409-7e9c-43b4-a743-bfa2237cb874',\n",
              "       'a313c6e3-de3c-47ae-a5b8-5196eedd3fb2',\n",
              "       '0ac1e396-41c2-44e4-8ff0-22c9278615fc',\n",
              "       '93314eb7-8167-4c49-8144-28a3476d05e2',\n",
              "       'eaaf206d-2a5e-45ce-bcf5-9995e02ff366',\n",
              "       'bf68b2de-8257-440b-894c-eeb03e70e18b',\n",
              "       'e8ad6bc2-7250-401c-9ebe-576a1dedfc70',\n",
              "       '7a17f82d-6eee-4ee2-bc12-6a5ea2e31bc7',\n",
              "       'e2dbbab3-085b-4ef6-9ac3-8d3327e79544',\n",
              "       'b59090ee-1e17-4339-9306-374a19c77df2',\n",
              "       '7fd85e43-666e-4e40-9b84-e31c55a1f8f1',\n",
              "       '3fb75ada-a998-4d97-850a-db87df9231e2',\n",
              "       '96cb2310-8f89-4184-a2a0-8b58ffe5fcb6',\n",
              "       '6c76b99c-0869-4a5e-abfe-f343e5a20fa4',\n",
              "       'd5eda6d1-639c-4cb3-afed-2de5e0652b03',\n",
              "       'aaf2258b-d915-4f58-b837-4378c3c16247',\n",
              "       '5f96d4ef-4fec-4cec-9579-42b4663e1276',\n",
              "       'af267a22-e180-436c-92af-9e8a542e1c53',\n",
              "       '3a666b7f-4098-4305-b9b8-f59ee419cfc6',\n",
              "       '77f3f237-289c-443b-9b0c-d5f925500ac1',\n",
              "       'dc19b5e1-1ee6-4bfa-b10f-a72dd70db2c9',\n",
              "       'db2745f2-a446-47ad-af84-98ecabe88a6c',\n",
              "       'da4abb4c-82f9-4bc1-b192-a522e7ea6aea',\n",
              "       '2681dede-54ff-4e0b-b6d0-ee3f889cd63d',\n",
              "       '015c55b5-fc81-420a-bd3a-29981f898d7a',\n",
              "       '30d949b3-358d-46b8-8262-96851e5ca049',\n",
              "       'af163fbb-7c59-435e-a16d-c50d84cda6bf',\n",
              "       'f674a377-4978-4183-8d71-c12e7ca37977',\n",
              "       '12fe0401-1132-402b-b2fe-ab0e1252fea5',\n",
              "       'd53ebad3-3a44-4388-bc38-a741501ac036',\n",
              "       '4bd6f4bd-437c-46ec-ab7e-2312d1523c19',\n",
              "       '3c8e61dc-4b32-4974-b3f3-c52df8882994',\n",
              "       '830772e1-179c-438f-9114-bc45836b26a8',\n",
              "       '99c1f2f7-085c-418f-9163-18105aeaed9c',\n",
              "       '6064575e-9c58-4de4-8f91-7599feea87b3',\n",
              "       'a24079d8-5af7-4d90-8fac-473bcceb3680',\n",
              "       '7fe2d0d6-ada3-4b56-9a1a-ef8343e80771',\n",
              "       '1aadbe37-1a46-40d2-95f0-a57ea7e10c75',\n",
              "       '80cbbd87-b640-483d-8ebe-8fe7757a433f',\n",
              "       'a8b0dce1-38b9-48b9-9daf-9e764b277f9f',\n",
              "       '170e39fd-c4be-4b10-896b-6f1ea0dc1414',\n",
              "       '6888c6ac-c3ec-4133-8f7a-87a067bf8557',\n",
              "       '0ee4a97c-b3ea-435a-9d8b-9d3e8b191b34',\n",
              "       '16f2847a-7a02-4bc0-87c7-9938e591c6bb',\n",
              "       'deefe876-c019-46ff-b194-8e62d21595a6',\n",
              "       'ae66cd91-913f-448e-917d-8ea30a2e578f',\n",
              "       '087a8b9a-fb7b-40b4-866c-7fd0cdf23a24',\n",
              "       'e4572da3-f10a-4f35-af32-e4c6486f82a9',\n",
              "       '77a257b8-3d0e-4309-b4c9-d4a9d4200b50',\n",
              "       '90d3e8a3-8f98-4b9d-93f1-bbb16fd2b4a4',\n",
              "       'c97f4c2d-559f-4425-b21d-87cf06b6ebc0',\n",
              "       'fa0a1098-bd48-4fa0-8aa8-c3a9f3f2ccac',\n",
              "       '8d74ae84-0e22-4cdd-8ce6-9580a1c6656a',\n",
              "       'd26c75d3-2996-49e2-8b4a-03b3c7eddacf',\n",
              "       'd55bb5be-804d-4ca5-aa2e-ca210deaef74',\n",
              "       '54947c6c-afa3-4f98-a3da-0d2d39f5f4fa',\n",
              "       '1a9d8245-7cbe-4be4-a39e-46df19db4c03',\n",
              "       '2b60d1df-8b67-49e5-aeed-69ca9edaf0ef',\n",
              "       '006b4500-8b54-44e4-91ee-3eb7f9b34e5e',\n",
              "       '4f882756-3840-4df5-94b9-ba23d5466d7f',\n",
              "       'd4d2f08d-16f5-43e9-9616-49bdb2e74773',\n",
              "       '8e4a21dd-d83e-4859-acaf-b8b124a81c84',\n",
              "       'a2f9db49-7427-4d95-9042-6821912a084b',\n",
              "       '219ab560-7a6a-4162-aac9-324e07791be4',\n",
              "       'ad62445d-7600-4c7c-a4f0-f67e5cb8ae65',\n",
              "       '57c1b34d-230a-4b2a-a6f5-2dea9a93b442',\n",
              "       'f9c0dadf-6154-4932-a75e-9fcedb008f7e',\n",
              "       '9216fc33-f210-431d-ae90-a0c71d7ffd42',\n",
              "       '7e981ad1-a8d6-4968-8b19-3d86f3fcadc6',\n",
              "       '74552aed-3b2d-44da-a847-d236b1e068b1',\n",
              "       '22606a5b-137f-4765-bb96-716e0e970971',\n",
              "       '7abcffe2-b94b-457b-a492-94b0c802ed47',\n",
              "       '45aef354-2907-4211-b244-39496934d44a',\n",
              "       '7381aedd-8849-46b8-b0a2-a6b9dcbe3894',\n",
              "       '12bf2588-b219-42af-a248-50660dc759a5',\n",
              "       '8f5f2d35-75d8-413b-b6f4-abca80e9f790',\n",
              "       'e11aa27b-1bba-4049-bdd3-d41c40f89dad',\n",
              "       'ed8d8a14-6705-4be3-bda6-192ce53c198e',\n",
              "       '395733a2-5e46-431a-a2c6-fda94850bc11',\n",
              "       '93d72941-3829-4373-91ea-b8a52c15814b',\n",
              "       '958b6e3e-1eb6-4b51-8983-37d3d7712283',\n",
              "       '5255d497-26b6-407f-ae1c-5942d62dec46',\n",
              "       '46fb1011-4c03-4dd6-b36f-d3fe8bb79a09',\n",
              "       '85832fc7-2ce8-4cd4-a7e4-cc12bc5f4542',\n",
              "       'f3cf7985-1137-467b-87d9-082cf1271c28',\n",
              "       '2668fc60-e8c0-48ab-9452-8009641c4b36',\n",
              "       '48149f8e-3880-44d3-8eb6-c5c40617cc1a',\n",
              "       '499d2c29-fd75-45c4-a838-f68917145885',\n",
              "       '7e5f7e2d-89d3-4705-8d17-d1b09f9d144b',\n",
              "       '23a523eb-a621-4c9c-9cd8-05c0f59a6562',\n",
              "       '86591882-a96d-47e7-b466-00df6aa69501',\n",
              "       '91dfe405-2976-424c-b605-18ae8fa59397',\n",
              "       '13bf0128-337b-49eb-9e5d-ef4814d3e25d',\n",
              "       '13092b74-d629-4f6c-87fd-98ad27ffeda1',\n",
              "       'bc0b7797-30be-4670-be12-6f2102f87084',\n",
              "       '1754c2dd-b243-47c3-992a-2d2880ccd997',\n",
              "       'fd4249ec-ad10-47c3-ad46-1e38312651d9',\n",
              "       'cc38f39f-f72a-48cd-9ba2-a7c470888dc2',\n",
              "       'add0119a-9196-4365-94e2-88155669551b',\n",
              "       '8e2dcc98-c10c-4cfe-b85b-03e124502e23',\n",
              "       '3c97810a-77fe-4fd5-a3aa-c4977ef223be',\n",
              "       '3f5dada3-17ea-43e8-82d0-d8fed185e256',\n",
              "       'df54c8d2-d964-4aa3-bb00-e23127106a89',\n",
              "       '5b2b9a57-0587-4969-b519-031a2461d3e4',\n",
              "       'd6f06eb8-6942-495d-9236-ff99cb83847a',\n",
              "       'd504ea46-5510-4952-ac4c-517bd4c73359',\n",
              "       '29a815c0-41bc-46d1-bf3f-0406fd10982d',\n",
              "       '7a36c768-09db-4518-87ed-4a663f5b6e92',\n",
              "       'e03c65df-6a5f-4244-841f-88ab404fa508',\n",
              "       'e4dbee5b-4947-4d25-9648-5764f08871db',\n",
              "       'fca2aa8e-5750-4fc4-982c-b14f3e8095fd',\n",
              "       '52521c9d-e41d-42b6-baac-469ebeb04c24',\n",
              "       '69c9791f-72fe-49f5-987c-0740ee8709d6',\n",
              "       'b26b64df-c5ee-49ad-87c6-40b5da4aefd3',\n",
              "       '3a793764-725b-4d54-817f-479a814cda91',\n",
              "       '2190ac16-a12d-4ffb-8ed3-080a470936ce',\n",
              "       '7b72e028-e0c4-4323-aeff-9f8017406fef',\n",
              "       'e219dbef-7873-487c-92fa-cd7c7ff1e6d5',\n",
              "       '6b41ed94-ced8-4c6c-86c2-61fea5f91e1c',\n",
              "       '18c45de6-f22b-42fc-9121-c131e190006c',\n",
              "       'ddf4c0b1-ac52-4cb4-ab46-36631d85e6fc',\n",
              "       '4caaff09-c1f2-419d-8bc6-751926962bfb',\n",
              "       '6566da53-fd1e-4d5e-bf39-eaa7e1976fe4',\n",
              "       'b4cd4178-1824-45a4-a5ae-3a3f8c2a2523',\n",
              "       '2022714b-373b-4a5a-b1ea-c89cdb36acd4',\n",
              "       'ebdff589-031d-40e2-b607-a0a8523332a4',\n",
              "       '29ae2f1d-549d-410e-a461-898c1b0b7fd3',\n",
              "       '9e79afd8-9cca-4dab-b6eb-8557ff4dbcb1',\n",
              "       '5093b52a-888a-401a-ac24-072dec691b79',\n",
              "       '45929e6f-44bb-47f4-a64b-00cf6436507c',\n",
              "       '292a69be-c65d-4e41-a2f4-3aaea4bc9bc7',\n",
              "       'cab5e7e7-9688-4ede-8de7-6ed8f82fe63a',\n",
              "       'bc1d2076-2615-4df2-8245-458839734009',\n",
              "       '75c5f52b-4909-4811-8044-72f7ed352e4e',\n",
              "       '1e77e7cb-561b-4f73-8747-e44f300dcfc0',\n",
              "       '6601d4c1-df86-4d12-b22a-9557af3b2874',\n",
              "       '52cc4528-1715-43e2-9dc6-3fb95cfa30b0',\n",
              "       'db04a367-33bf-4bf2-9820-b2c8e0f5747a',\n",
              "       '4e384aa9-6e11-419b-a25d-c591360091b9',\n",
              "       'a3cdfdbe-1b35-4da0-90c2-9daa307c20bb',\n",
              "       'c9a52c95-b2e1-4386-835f-36afec546098',\n",
              "       '80538298-0b23-4ede-a48a-fb1e8eb50783',\n",
              "       '61db90d9-b835-4fa8-9220-9ea9cf3f6ebf',\n",
              "       '574e249e-2b62-49ac-9bc7-fc18e014c015',\n",
              "       '4401ed5b-0258-4cdb-8872-c095a64cce0c',\n",
              "       '48695232-52e0-48ca-89c7-3d495aab341f',\n",
              "       '8766ab59-bf90-42fd-9c6a-8a139c3d6255',\n",
              "       '81c5e843-ce63-49f9-a7dc-11a409cd72e3',\n",
              "       'fa29e710-3195-4a0e-ac91-889adaec1de2',\n",
              "       '78fe0a77-7783-46f8-a3ab-0cabb8611540',\n",
              "       'ba2a263a-71b9-46b7-a60e-790afb793d35',\n",
              "       '8c25582b-3fd1-4eca-ada9-25434a0ecd71',\n",
              "       '21ed80e6-44f7-448e-9ee2-9f79ec592d72',\n",
              "       '706c9c12-e30b-4623-b32c-3b4b2486526f',\n",
              "       '494622c8-39e0-4d3f-8ee7-a1bb58bba420',\n",
              "       '1b742fcf-6762-46d0-bbfd-79f4260b6392',\n",
              "       '2c453cd7-2ad7-4b2c-b308-6bb61a51c683',\n",
              "       'fd36d4ff-2c1c-41fe-b4e6-b7862de9e522',\n",
              "       '311fdb77-b2dc-44c3-870d-16af3db8f340',\n",
              "       'd28a5e67-fc2d-4c64-87ce-5280ee96d7f5',\n",
              "       '6d579bf1-958c-450d-867c-c4f50ef25f73',\n",
              "       'cee819fa-fc53-4fc2-99ed-9b962f9eb667',\n",
              "       '6b682b42-3c35-471d-aa07-a7f14ad44a0e',\n",
              "       '93c689cb-27be-4698-99e4-94f40f55cc47',\n",
              "       'ae17cd9c-1cda-420b-aa9c-d848e14943cd',\n",
              "       '827c6469-f92a-4023-aaa2-e18ef599ad22',\n",
              "       '8e0390d5-1295-40c9-8aef-a25ddc1f41a7',\n",
              "       '00886f69-9a8d-43f6-86af-6ce404b457dd',\n",
              "       '252da449-76e6-4011-ad63-384760fdc420',\n",
              "       '54980236-a10a-4787-a21a-47d08364dda0',\n",
              "       '4ebe8c6e-9cea-4f97-8d0a-ab7ffea6c144',\n",
              "       '868d1981-94a7-4af5-b14f-ac737746320f',\n",
              "       'ac5cef80-05aa-4c85-a94b-5101a6d283aa',\n",
              "       'f87dbe7c-db4d-437c-894b-a9f10f158a82',\n",
              "       '0c1f6ad7-5b5a-4b7b-9df7-2f07b1809c6f',\n",
              "       'e73cea71-4996-48b9-909b-62c100493a98',\n",
              "       '47bc3b2c-590a-4388-a8cb-fafb19f6f45e',\n",
              "       'e33606f6-d4df-4645-b8f1-7514d2b729e8',\n",
              "       '319c4646-23cd-42f2-9dac-d24e62f72434',\n",
              "       '2f9073ca-0725-40e5-9fc1-808e0c79c43d',\n",
              "       '7d69ff51-036d-44cc-a54a-3361041277ce',\n",
              "       'da6d0664-7372-4a39-9b7e-4b3451f413f1',\n",
              "       '4558bdc8-ce50-4364-8b69-a1beebf8409d',\n",
              "       'a8891b98-2cb4-4c29-824a-a79eef38adc1',\n",
              "       'b14ef30a-2dbb-49c5-9ba8-ca661807a54f'], dtype=object)"
            ]
          },
          "metadata": {},
          "execution_count": 144
        }
      ]
    },
    {
      "cell_type": "code",
      "metadata": {
        "id": "e243fe28"
      },
      "source": [
        "# msg of a given user id\n",
        "user_msg = data[data[\"user_id\"]==\"da6d0664-7372-4a39-9b7e-4b3451f413f1\"]"
      ],
      "id": "e243fe28",
      "execution_count": null,
      "outputs": []
    },
    {
      "cell_type": "code",
      "metadata": {
        "colab": {
          "base_uri": "https://localhost:8080/",
          "height": 380
        },
        "id": "a5bab87a",
        "outputId": "4291f1ca-1ddf-42ee-972e-dc82e13323eb"
      },
      "source": [
        "user_msg.head()"
      ],
      "id": "a5bab87a",
      "execution_count": null,
      "outputs": [
        {
          "output_type": "execute_result",
          "data": {
            "text/html": [
              "<div>\n",
              "<style scoped>\n",
              "    .dataframe tbody tr th:only-of-type {\n",
              "        vertical-align: middle;\n",
              "    }\n",
              "\n",
              "    .dataframe tbody tr th {\n",
              "        vertical-align: top;\n",
              "    }\n",
              "\n",
              "    .dataframe thead th {\n",
              "        text-align: right;\n",
              "    }\n",
              "</style>\n",
              "<table border=\"1\" class=\"dataframe\">\n",
              "  <thead>\n",
              "    <tr style=\"text-align: right;\">\n",
              "      <th></th>\n",
              "      <th>user_message_id</th>\n",
              "      <th>sender</th>\n",
              "      <th>message</th>\n",
              "      <th>timestamp</th>\n",
              "      <th>created_at</th>\n",
              "      <th>user_id</th>\n",
              "      <th>user_subscription_id</th>\n",
              "      <th>okay</th>\n",
              "    </tr>\n",
              "  </thead>\n",
              "  <tbody>\n",
              "    <tr>\n",
              "      <th>880973</th>\n",
              "      <td>5230763</td>\n",
              "      <td>+919741840237</td>\n",
              "      <td>You have 1 missed call(s) from +919741840237 ....</td>\n",
              "      <td>2021-08-25 05:58:35.276</td>\n",
              "      <td>2021-09-18 14:25:09.078</td>\n",
              "      <td>da6d0664-7372-4a39-9b7e-4b3451f413f1</td>\n",
              "      <td>NaN</td>\n",
              "      <td>True</td>\n",
              "    </tr>\n",
              "    <tr>\n",
              "      <th>881520</th>\n",
              "      <td>5243623</td>\n",
              "      <td>+919790802750</td>\n",
              "      <td>Phone okke valicherinju pottichu njaan.. Athre...</td>\n",
              "      <td>2019-01-30 18:13:06.016</td>\n",
              "      <td>2021-09-18 14:25:44.064</td>\n",
              "      <td>da6d0664-7372-4a39-9b7e-4b3451f413f1</td>\n",
              "      <td>NaN</td>\n",
              "      <td>True</td>\n",
              "    </tr>\n",
              "    <tr>\n",
              "      <th>881966</th>\n",
              "      <td>5243624</td>\n",
              "      <td>+919790802750</td>\n",
              "      <td>Pettanu oru dhairyam varum oru stage lu..</td>\n",
              "      <td>2019-01-30 18:11:26.640</td>\n",
              "      <td>2021-09-18 14:25:44.067</td>\n",
              "      <td>da6d0664-7372-4a39-9b7e-4b3451f413f1</td>\n",
              "      <td>NaN</td>\n",
              "      <td>True</td>\n",
              "    </tr>\n",
              "    <tr>\n",
              "      <th>882313</th>\n",
              "      <td>5243625</td>\n",
              "      <td>+919790802750</td>\n",
              "      <td>Onnum venda will stay independent enna stage v...</td>\n",
              "      <td>2019-01-30 18:11:00.757</td>\n",
              "      <td>2021-09-18 14:25:44.070</td>\n",
              "      <td>da6d0664-7372-4a39-9b7e-4b3451f413f1</td>\n",
              "      <td>NaN</td>\n",
              "      <td>True</td>\n",
              "    </tr>\n",
              "    <tr>\n",
              "      <th>883428</th>\n",
              "      <td>5243626</td>\n",
              "      <td>+919790802750</td>\n",
              "      <td>Myself n abhi last two months lu faced so many...</td>\n",
              "      <td>2019-01-30 18:10:20.143</td>\n",
              "      <td>2021-09-18 14:25:44.072</td>\n",
              "      <td>da6d0664-7372-4a39-9b7e-4b3451f413f1</td>\n",
              "      <td>NaN</td>\n",
              "      <td>True</td>\n",
              "    </tr>\n",
              "  </tbody>\n",
              "</table>\n",
              "</div>"
            ],
            "text/plain": [
              "        user_message_id         sender  ... user_subscription_id  okay\n",
              "880973          5230763  +919741840237  ...                  NaN  True\n",
              "881520          5243623  +919790802750  ...                  NaN  True\n",
              "881966          5243624  +919790802750  ...                  NaN  True\n",
              "882313          5243625  +919790802750  ...                  NaN  True\n",
              "883428          5243626  +919790802750  ...                  NaN  True\n",
              "\n",
              "[5 rows x 8 columns]"
            ]
          },
          "metadata": {},
          "execution_count": 146
        }
      ]
    },
    {
      "cell_type": "code",
      "metadata": {
        "colab": {
          "base_uri": "https://localhost:8080/",
          "height": 380
        },
        "id": "b34d7344",
        "outputId": "74bab598-5be7-4eb1-c249-271e6e7d74bf"
      },
      "source": [
        "# filter out transactional messages(10 pts)\n",
        "# Hint: Filter messages based on keywords\n",
        "# .*spent.*\n",
        "# .*debited.*\n",
        "# .*charged.*\n",
        "# .*paid.*\n",
        "# .*sent.*\n",
        "# .*txn.*\n",
        "# .*billed.*\n",
        "# .*transaction.*\n",
        "txn_msg = data[data[\"message\"].str.contains(\"credited|spent|debited|charged|paid|sent|txn|billed|transaction\")]\n",
        "txn_msg.head()"
      ],
      "id": "b34d7344",
      "execution_count": null,
      "outputs": [
        {
          "output_type": "execute_result",
          "data": {
            "text/html": [
              "<div>\n",
              "<style scoped>\n",
              "    .dataframe tbody tr th:only-of-type {\n",
              "        vertical-align: middle;\n",
              "    }\n",
              "\n",
              "    .dataframe tbody tr th {\n",
              "        vertical-align: top;\n",
              "    }\n",
              "\n",
              "    .dataframe thead th {\n",
              "        text-align: right;\n",
              "    }\n",
              "</style>\n",
              "<table border=\"1\" class=\"dataframe\">\n",
              "  <thead>\n",
              "    <tr style=\"text-align: right;\">\n",
              "      <th></th>\n",
              "      <th>user_message_id</th>\n",
              "      <th>sender</th>\n",
              "      <th>message</th>\n",
              "      <th>timestamp</th>\n",
              "      <th>created_at</th>\n",
              "      <th>user_id</th>\n",
              "      <th>user_subscription_id</th>\n",
              "      <th>okay</th>\n",
              "    </tr>\n",
              "  </thead>\n",
              "  <tbody>\n",
              "    <tr>\n",
              "      <th>9</th>\n",
              "      <td>4317869</td>\n",
              "      <td>AXDHANIP</td>\n",
              "      <td>Congrats! Your Dhani Credit Line is now ready....</td>\n",
              "      <td>2020-03-24 16:41:07.137</td>\n",
              "      <td>2021-09-16 04:43:11.256</td>\n",
              "      <td>40ec6ba2-af1b-4037-9e01-3d108faa937b</td>\n",
              "      <td>NaN</td>\n",
              "      <td>True</td>\n",
              "    </tr>\n",
              "    <tr>\n",
              "      <th>12</th>\n",
              "      <td>4317872</td>\n",
              "      <td>ADHDFCBK</td>\n",
              "      <td>Rs 120.00 debited from a/c **1541 on 24-03-20 ...</td>\n",
              "      <td>2020-03-24 12:27:47.798</td>\n",
              "      <td>2021-09-16 04:43:11.263</td>\n",
              "      <td>40ec6ba2-af1b-4037-9e01-3d108faa937b</td>\n",
              "      <td>NaN</td>\n",
              "      <td>True</td>\n",
              "    </tr>\n",
              "    <tr>\n",
              "      <th>17</th>\n",
              "      <td>4317877</td>\n",
              "      <td>AMAIRBIL</td>\n",
              "      <td>Hi! Bill dated 12-MAR-20 for your Airtel No. 8...</td>\n",
              "      <td>2020-03-24 07:28:59.006</td>\n",
              "      <td>2021-09-16 04:43:11.275</td>\n",
              "      <td>40ec6ba2-af1b-4037-9e01-3d108faa937b</td>\n",
              "      <td>NaN</td>\n",
              "      <td>True</td>\n",
              "    </tr>\n",
              "    <tr>\n",
              "      <th>25</th>\n",
              "      <td>4317885</td>\n",
              "      <td>AD044036</td>\n",
              "      <td>Dear Patron, Dr Jariwala Laboratory will be wo...</td>\n",
              "      <td>2020-03-23 14:30:11.053</td>\n",
              "      <td>2021-09-16 04:43:11.295</td>\n",
              "      <td>40ec6ba2-af1b-4037-9e01-3d108faa937b</td>\n",
              "      <td>NaN</td>\n",
              "      <td>True</td>\n",
              "    </tr>\n",
              "    <tr>\n",
              "      <th>32</th>\n",
              "      <td>4317892</td>\n",
              "      <td>BPIPAYTM</td>\n",
              "      <td>Your bill for Airtel - Consumer Number  887976...</td>\n",
              "      <td>2020-03-23 09:43:07.666</td>\n",
              "      <td>2021-09-16 04:43:11.318</td>\n",
              "      <td>40ec6ba2-af1b-4037-9e01-3d108faa937b</td>\n",
              "      <td>NaN</td>\n",
              "      <td>True</td>\n",
              "    </tr>\n",
              "  </tbody>\n",
              "</table>\n",
              "</div>"
            ],
            "text/plain": [
              "    user_message_id    sender  ... user_subscription_id  okay\n",
              "9           4317869  AXDHANIP  ...                  NaN  True\n",
              "12          4317872  ADHDFCBK  ...                  NaN  True\n",
              "17          4317877  AMAIRBIL  ...                  NaN  True\n",
              "25          4317885  AD044036  ...                  NaN  True\n",
              "32          4317892  BPIPAYTM  ...                  NaN  True\n",
              "\n",
              "[5 rows x 8 columns]"
            ]
          },
          "metadata": {},
          "execution_count": 147
        }
      ]
    },
    {
      "cell_type": "code",
      "metadata": {
        "id": "5be2ec31"
      },
      "source": [
        "# His expense and earning for a particular month? (40 pts)\n",
        "# Hint: Use https://duckling.wit.ai/ for parsing money\n",
        "# Find out total money credited and total money debited\n",
        "\n",
        "#A user with a lot of credit records has been chosen since a lot of randomly chosen users had almost no significant credit records\n"
      ],
      "id": "5be2ec31",
      "execution_count": null,
      "outputs": []
    },
    {
      "cell_type": "code",
      "metadata": {
        "colab": {
          "base_uri": "https://localhost:8080/",
          "height": 311
        },
        "id": "9NdnFI1n61vl",
        "outputId": "810a8b7a-5fc5-4296-dc6b-e3155ecc941f"
      },
      "source": [
        "txn_msg_eg_user = txn_msg[txn_msg['user_id']=='6f28bcf7-9e64-423b-8d7b-ea7c03f5f691']\n",
        "print(txn_msg_eg_user.shape)\n",
        "txn_msg_eg_user.head()"
      ],
      "id": "9NdnFI1n61vl",
      "execution_count": null,
      "outputs": [
        {
          "output_type": "stream",
          "name": "stdout",
          "text": [
            "(4649, 8)\n"
          ]
        },
        {
          "output_type": "execute_result",
          "data": {
            "text/html": [
              "<div>\n",
              "<style scoped>\n",
              "    .dataframe tbody tr th:only-of-type {\n",
              "        vertical-align: middle;\n",
              "    }\n",
              "\n",
              "    .dataframe tbody tr th {\n",
              "        vertical-align: top;\n",
              "    }\n",
              "\n",
              "    .dataframe thead th {\n",
              "        text-align: right;\n",
              "    }\n",
              "</style>\n",
              "<table border=\"1\" class=\"dataframe\">\n",
              "  <thead>\n",
              "    <tr style=\"text-align: right;\">\n",
              "      <th></th>\n",
              "      <th>user_message_id</th>\n",
              "      <th>sender</th>\n",
              "      <th>message</th>\n",
              "      <th>timestamp</th>\n",
              "      <th>created_at</th>\n",
              "      <th>user_id</th>\n",
              "      <th>user_subscription_id</th>\n",
              "      <th>okay</th>\n",
              "    </tr>\n",
              "  </thead>\n",
              "  <tbody>\n",
              "    <tr>\n",
              "      <th>4431</th>\n",
              "      <td>4324537</td>\n",
              "      <td>BP-PAYTMB</td>\n",
              "      <td>Rs.11300.00 sent to  chandan89089@okhdfcbank f...</td>\n",
              "      <td>2021-06-20 08:14:09.444</td>\n",
              "      <td>2021-09-16 04:55:31.557</td>\n",
              "      <td>6f28bcf7-9e64-423b-8d7b-ea7c03f5f691</td>\n",
              "      <td>NaN</td>\n",
              "      <td>True</td>\n",
              "    </tr>\n",
              "    <tr>\n",
              "      <th>4891</th>\n",
              "      <td>4325092</td>\n",
              "      <td>AX-DBSBNK</td>\n",
              "      <td>Dear Customer, Your account no ********4699 is...</td>\n",
              "      <td>2021-04-27 15:19:49.207</td>\n",
              "      <td>2021-09-16 04:55:32.967</td>\n",
              "      <td>6f28bcf7-9e64-423b-8d7b-ea7c03f5f691</td>\n",
              "      <td>NaN</td>\n",
              "      <td>True</td>\n",
              "    </tr>\n",
              "    <tr>\n",
              "      <th>5334</th>\n",
              "      <td>4323158</td>\n",
              "      <td>AD-HDFCBK</td>\n",
              "      <td>UPDATE: INR 10,778.48 debited from HDFC Bank X...</td>\n",
              "      <td>2021-09-16 02:23:28.517</td>\n",
              "      <td>2021-09-16 04:55:27.904</td>\n",
              "      <td>6f28bcf7-9e64-423b-8d7b-ea7c03f5f691</td>\n",
              "      <td>NaN</td>\n",
              "      <td>True</td>\n",
              "    </tr>\n",
              "    <tr>\n",
              "      <th>5339</th>\n",
              "      <td>4323163</td>\n",
              "      <td>AX-HDFCBK</td>\n",
              "      <td>HDFC Bank: Rs. 7580.00 credited to a/c XXXXXX5...</td>\n",
              "      <td>2021-09-15 10:26:25.253</td>\n",
              "      <td>2021-09-16 04:55:27.916</td>\n",
              "      <td>6f28bcf7-9e64-423b-8d7b-ea7c03f5f691</td>\n",
              "      <td>NaN</td>\n",
              "      <td>True</td>\n",
              "    </tr>\n",
              "    <tr>\n",
              "      <th>5354</th>\n",
              "      <td>4323178</td>\n",
              "      <td>JX-SBICRD</td>\n",
              "      <td>Dear SBI Cardholder, you have consumed 80% of ...</td>\n",
              "      <td>2021-09-14 14:17:44.147</td>\n",
              "      <td>2021-09-16 04:55:27.951</td>\n",
              "      <td>6f28bcf7-9e64-423b-8d7b-ea7c03f5f691</td>\n",
              "      <td>NaN</td>\n",
              "      <td>True</td>\n",
              "    </tr>\n",
              "  </tbody>\n",
              "</table>\n",
              "</div>"
            ],
            "text/plain": [
              "      user_message_id     sender  ... user_subscription_id  okay\n",
              "4431          4324537  BP-PAYTMB  ...                  NaN  True\n",
              "4891          4325092  AX-DBSBNK  ...                  NaN  True\n",
              "5334          4323158  AD-HDFCBK  ...                  NaN  True\n",
              "5339          4323163  AX-HDFCBK  ...                  NaN  True\n",
              "5354          4323178  JX-SBICRD  ...                  NaN  True\n",
              "\n",
              "[5 rows x 8 columns]"
            ]
          },
          "metadata": {},
          "execution_count": 149
        }
      ]
    },
    {
      "cell_type": "code",
      "metadata": {
        "colab": {
          "base_uri": "https://localhost:8080/",
          "height": 597
        },
        "id": "ESWE6Kb69bqV",
        "outputId": "b1b66f00-33bc-4dec-917a-f0313f112a32"
      },
      "source": [
        "## NOTE: THE USER SPENDS AND RECEIVES LARGE AMOUNTS OF MONEY\n",
        "txn_msg[txn_msg[\"message\"].str.contains(\"An RTGS\")]"
      ],
      "id": "ESWE6Kb69bqV",
      "execution_count": null,
      "outputs": [
        {
          "output_type": "execute_result",
          "data": {
            "text/html": [
              "<div>\n",
              "<style scoped>\n",
              "    .dataframe tbody tr th:only-of-type {\n",
              "        vertical-align: middle;\n",
              "    }\n",
              "\n",
              "    .dataframe tbody tr th {\n",
              "        vertical-align: top;\n",
              "    }\n",
              "\n",
              "    .dataframe thead th {\n",
              "        text-align: right;\n",
              "    }\n",
              "</style>\n",
              "<table border=\"1\" class=\"dataframe\">\n",
              "  <thead>\n",
              "    <tr style=\"text-align: right;\">\n",
              "      <th></th>\n",
              "      <th>user_message_id</th>\n",
              "      <th>sender</th>\n",
              "      <th>message</th>\n",
              "      <th>timestamp</th>\n",
              "      <th>created_at</th>\n",
              "      <th>user_id</th>\n",
              "      <th>user_subscription_id</th>\n",
              "      <th>okay</th>\n",
              "    </tr>\n",
              "  </thead>\n",
              "  <tbody>\n",
              "    <tr>\n",
              "      <th>9176</th>\n",
              "      <td>4326997</td>\n",
              "      <td>VK-DBSBNK</td>\n",
              "      <td>An RTGS payment of INR 400,000.00 (  INR 400,0...</td>\n",
              "      <td>2021-01-09 06:01:09.687</td>\n",
              "      <td>2021-09-16 04:55:37.940</td>\n",
              "      <td>6f28bcf7-9e64-423b-8d7b-ea7c03f5f691</td>\n",
              "      <td>NaN</td>\n",
              "      <td>True</td>\n",
              "    </tr>\n",
              "    <tr>\n",
              "      <th>9177</th>\n",
              "      <td>4326998</td>\n",
              "      <td>VM-DBSBNK</td>\n",
              "      <td>An RTGS payment of INR 250,000.00 (  INR 250,0...</td>\n",
              "      <td>2021-01-09 05:49:19.373</td>\n",
              "      <td>2021-09-16 04:55:37.943</td>\n",
              "      <td>6f28bcf7-9e64-423b-8d7b-ea7c03f5f691</td>\n",
              "      <td>NaN</td>\n",
              "      <td>True</td>\n",
              "    </tr>\n",
              "    <tr>\n",
              "      <th>10160</th>\n",
              "      <td>4327973</td>\n",
              "      <td>TM-DBSBNK</td>\n",
              "      <td>An RTGS payment of INR 500,000.00 (  INR 500,0...</td>\n",
              "      <td>2020-12-04 06:08:54.504</td>\n",
              "      <td>2021-09-16 04:55:40.498</td>\n",
              "      <td>6f28bcf7-9e64-423b-8d7b-ea7c03f5f691</td>\n",
              "      <td>NaN</td>\n",
              "      <td>True</td>\n",
              "    </tr>\n",
              "    <tr>\n",
              "      <th>10208</th>\n",
              "      <td>4328022</td>\n",
              "      <td>AD-DBSBNK</td>\n",
              "      <td>An RTGS payment of INR 200,000.00 (  INR 200,0...</td>\n",
              "      <td>2020-12-02 08:13:19.813</td>\n",
              "      <td>2021-09-16 04:55:40.622</td>\n",
              "      <td>6f28bcf7-9e64-423b-8d7b-ea7c03f5f691</td>\n",
              "      <td>NaN</td>\n",
              "      <td>True</td>\n",
              "    </tr>\n",
              "    <tr>\n",
              "      <th>10549</th>\n",
              "      <td>4328362</td>\n",
              "      <td>TX-DBSBNK</td>\n",
              "      <td>An RTGS payment of INR 400,000.00 (  INR 400,0...</td>\n",
              "      <td>2020-11-19 08:01:46.100</td>\n",
              "      <td>2021-09-16 04:55:41.469</td>\n",
              "      <td>6f28bcf7-9e64-423b-8d7b-ea7c03f5f691</td>\n",
              "      <td>NaN</td>\n",
              "      <td>True</td>\n",
              "    </tr>\n",
              "    <tr>\n",
              "      <th>...</th>\n",
              "      <td>...</td>\n",
              "      <td>...</td>\n",
              "      <td>...</td>\n",
              "      <td>...</td>\n",
              "      <td>...</td>\n",
              "      <td>...</td>\n",
              "      <td>...</td>\n",
              "      <td>...</td>\n",
              "    </tr>\n",
              "    <tr>\n",
              "      <th>19157</th>\n",
              "      <td>4336966</td>\n",
              "      <td>VK-DBSBNK</td>\n",
              "      <td>An RTGS payment of INR 700,000.00 (  INR 700,0...</td>\n",
              "      <td>2019-12-09 11:33:35.785</td>\n",
              "      <td>2021-09-16 04:56:04.584</td>\n",
              "      <td>6f28bcf7-9e64-423b-8d7b-ea7c03f5f691</td>\n",
              "      <td>NaN</td>\n",
              "      <td>True</td>\n",
              "    </tr>\n",
              "    <tr>\n",
              "      <th>19196</th>\n",
              "      <td>4337005</td>\n",
              "      <td>VK-DBSBNK</td>\n",
              "      <td>An RTGS payment of INR 900,000.00 (  INR 900,0...</td>\n",
              "      <td>2019-12-07 09:21:19.889</td>\n",
              "      <td>2021-09-16 04:56:04.682</td>\n",
              "      <td>6f28bcf7-9e64-423b-8d7b-ea7c03f5f691</td>\n",
              "      <td>NaN</td>\n",
              "      <td>True</td>\n",
              "    </tr>\n",
              "    <tr>\n",
              "      <th>19221</th>\n",
              "      <td>4337030</td>\n",
              "      <td>VK-DBSBNK</td>\n",
              "      <td>An RTGS payment of INR 1,150,000.00 (  INR 1,1...</td>\n",
              "      <td>2019-12-06 07:40:21.103</td>\n",
              "      <td>2021-09-16 04:56:04.743</td>\n",
              "      <td>6f28bcf7-9e64-423b-8d7b-ea7c03f5f691</td>\n",
              "      <td>NaN</td>\n",
              "      <td>True</td>\n",
              "    </tr>\n",
              "    <tr>\n",
              "      <th>19240</th>\n",
              "      <td>4337049</td>\n",
              "      <td>VK-DBSBNK</td>\n",
              "      <td>An RTGS payment of INR 1,050,000.00 (  INR 1,0...</td>\n",
              "      <td>2019-12-05 08:24:30.150</td>\n",
              "      <td>2021-09-16 04:56:04.789</td>\n",
              "      <td>6f28bcf7-9e64-423b-8d7b-ea7c03f5f691</td>\n",
              "      <td>NaN</td>\n",
              "      <td>True</td>\n",
              "    </tr>\n",
              "    <tr>\n",
              "      <th>19269</th>\n",
              "      <td>4337078</td>\n",
              "      <td>VK-DBSBNK</td>\n",
              "      <td>An RTGS payment of INR 860,000.00 (  INR 860,0...</td>\n",
              "      <td>2019-12-04 11:00:00.403</td>\n",
              "      <td>2021-09-16 04:56:04.861</td>\n",
              "      <td>6f28bcf7-9e64-423b-8d7b-ea7c03f5f691</td>\n",
              "      <td>NaN</td>\n",
              "      <td>True</td>\n",
              "    </tr>\n",
              "  </tbody>\n",
              "</table>\n",
              "<p>509 rows × 8 columns</p>\n",
              "</div>"
            ],
            "text/plain": [
              "       user_message_id     sender  ... user_subscription_id  okay\n",
              "9176           4326997  VK-DBSBNK  ...                  NaN  True\n",
              "9177           4326998  VM-DBSBNK  ...                  NaN  True\n",
              "10160          4327973  TM-DBSBNK  ...                  NaN  True\n",
              "10208          4328022  AD-DBSBNK  ...                  NaN  True\n",
              "10549          4328362  TX-DBSBNK  ...                  NaN  True\n",
              "...                ...        ...  ...                  ...   ...\n",
              "19157          4336966  VK-DBSBNK  ...                  NaN  True\n",
              "19196          4337005  VK-DBSBNK  ...                  NaN  True\n",
              "19221          4337030  VK-DBSBNK  ...                  NaN  True\n",
              "19240          4337049  VK-DBSBNK  ...                  NaN  True\n",
              "19269          4337078  VK-DBSBNK  ...                  NaN  True\n",
              "\n",
              "[509 rows x 8 columns]"
            ]
          },
          "metadata": {},
          "execution_count": 150
        }
      ]
    },
    {
      "cell_type": "code",
      "metadata": {
        "colab": {
          "base_uri": "https://localhost:8080/"
        },
        "id": "ffygQGjj8bTo",
        "outputId": "59387011-92f7-413e-b9f6-3c0defe3b012"
      },
      "source": [
        "credit = txn_msg_eg_user[txn_msg_eg_user[\"message\"].str.contains(\"credited\")]\n",
        "credit = credit[~credit[\"message\"].str.contains(\"debited\")]\n",
        "credit = credit[credit[\"timestamp\"].dt.month==3]\n",
        "credit = credit[\"message\"]\n",
        "\n",
        "credit"
      ],
      "id": "ffygQGjj8bTo",
      "execution_count": null,
      "outputs": [
        {
          "output_type": "execute_result",
          "data": {
            "text/plain": [
              "7857     Rs. 2000.00 credited to a/c XXXXXX5290 on 19-0...\n",
              "7878     Rs. 6200.00 credited to a/c XXXXXX5290 on 19-0...\n",
              "7883     Rs. 6500.00 credited to a/c XXXXXX5290 on 18-0...\n",
              "7962     Rs 65,000 credited@UPI frm A/c XXX8609 on 14-0...\n",
              "7976     Your VPA 8820XXXX30 linked to your A/C XXXXXX8...\n",
              "                               ...                        \n",
              "16378       An IMPS payment of  INR   200,000.00  (  IN...\n",
              "16388       An IMPS payment of  INR   200,000.00  (  IN...\n",
              "16392    Incoming fund of INR 1,665,000.00 has been cre...\n",
              "16393       An IMPS payment of  INR   70,000.00  (  INR...\n",
              "16395       An IMPS payment of  INR   200,000.00  (  IN...\n",
              "Name: message, Length: 226, dtype: object"
            ]
          },
          "metadata": {},
          "execution_count": 151
        }
      ]
    },
    {
      "cell_type": "code",
      "metadata": {
        "colab": {
          "base_uri": "https://localhost:8080/"
        },
        "id": "T99pIF9KDQ1H",
        "outputId": "88d3bf5a-2796-4e8f-fa2a-14a67efac7c9"
      },
      "source": [
        "debit = txn_msg_eg_user[txn_msg_eg_user[\"message\"].str.contains(\"debited\")]\n",
        "debit = debit[~debit[\"message\"].str.contains(\"credited\")]\n",
        "debit = debit[debit[\"timestamp\"].dt.month==3]\n",
        "debit = debit[\"message\"]\n",
        "\n",
        "debit"
      ],
      "id": "T99pIF9KDQ1H",
      "execution_count": null,
      "outputs": [
        {
          "output_type": "execute_result",
          "data": {
            "text/plain": [
              "7685     Tata Sky ID 1049428640 has been deactivated du...\n",
              "7851     Payment attempt of INR 1,540 for ICICI Bank cr...\n",
              "7870     UPDATE: INR 6,200.00 debited from A/c XX5290 o...\n",
              "7871     Rs 6200.00 debited from a/c **5290 on 19-03-21...\n",
              "7906     Rs.150.00 is debited from your account 91XX303...\n",
              "                               ...                        \n",
              "16333    Rs 56.37 debited from a/c **5290 on 03-03-20 t...\n",
              "16335    Rs 15.00 debited from a/c **5290 on 03-03-20 t...\n",
              "16337    Rs 15.00 debited from a/c **5290 on 03-03-20 t...\n",
              "16383    Dear Customer, Your Bank A/C ending ****5290 w...\n",
              "16385    Dear Customer, Your Bank A/C ending ****5290 w...\n",
              "Name: message, Length: 83, dtype: object"
            ]
          },
          "metadata": {},
          "execution_count": 152
        }
      ]
    },
    {
      "cell_type": "code",
      "metadata": {
        "id": "LE7mdcTb4uiV"
      },
      "source": [
        "def get_txn(text):\n",
        "  if len(text)>150:\n",
        "    text = text[0:100]  # Prevented integeroverfow but Credit amt would lie in the beginning of text anyway. Will explain further in interview.\n",
        "  rec = d.parse_money(u'{}'.format(text.replace(',', '').replace('A/c','').replace('a/c', ''))) #to not consider A\\c number as money in \"cents\".\n",
        "  return max(0,rec[0]['value']['value']) if rec!=[] else 0\n",
        "# def get_debit(text):\n",
        "#   if len(text)>150:\n",
        "#     text = text[0:100]\n",
        "#   rec = d.parse_money(u'{}'.format(text.replace(',', '').replace('A/c','').replace('a/c', '')))\n",
        "#   return max(0,rec[0]['value']['value']) if rec!=[] else 0"
      ],
      "id": "LE7mdcTb4uiV",
      "execution_count": null,
      "outputs": []
    },
    {
      "cell_type": "code",
      "metadata": {
        "id": "vhblKwXM8zHV"
      },
      "source": [
        "credit = credit.apply(get_txn)"
      ],
      "id": "vhblKwXM8zHV",
      "execution_count": null,
      "outputs": []
    },
    {
      "cell_type": "code",
      "metadata": {
        "id": "2zoN8N_aDiao"
      },
      "source": [
        "debit = debit.apply(get_txn)"
      ],
      "id": "2zoN8N_aDiao",
      "execution_count": null,
      "outputs": []
    },
    {
      "cell_type": "code",
      "metadata": {
        "colab": {
          "base_uri": "https://localhost:8080/"
        },
        "id": "4IHzS9E9oWwN",
        "outputId": "532c43da-08ac-473e-9ca9-86d770a334a9"
      },
      "source": [
        "credit[credit==credit.max()]"
      ],
      "id": "4IHzS9E9oWwN",
      "execution_count": null,
      "outputs": [
        {
          "output_type": "execute_result",
          "data": {
            "text/plain": [
              "16227    2840000.0\n",
              "Name: message, dtype: float64"
            ]
          },
          "metadata": {},
          "execution_count": 156
        }
      ]
    },
    {
      "cell_type": "code",
      "metadata": {
        "colab": {
          "base_uri": "https://localhost:8080/"
        },
        "id": "3dIckDHFDtfd",
        "outputId": "cfdf80b5-e137-4f1e-e708-8e7dc46fd677"
      },
      "source": [
        "debit[debit==debit.max()]"
      ],
      "id": "3dIckDHFDtfd",
      "execution_count": null,
      "outputs": [
        {
          "output_type": "execute_result",
          "data": {
            "text/plain": [
              "15518    200000.0\n",
              "16051    200000.0\n",
              "Name: message, dtype: float64"
            ]
          },
          "metadata": {},
          "execution_count": 169
        }
      ]
    },
    {
      "cell_type": "code",
      "metadata": {
        "colab": {
          "base_uri": "https://localhost:8080/"
        },
        "id": "NMpXjmTHrX0I",
        "outputId": "86475a40-abfa-4ad0-d398-4394ed31f7aa"
      },
      "source": [
        "print(\"Total earnings for March : Rs.\", round(credit.sum(),2), \"\\n\\nTotal expense for March : Rs.\", round(debit.sum(),2))\n",
        "print(\"\\nCheck above to confirm this user does receive and spend large amounts of money\")"
      ],
      "id": "NMpXjmTHrX0I",
      "execution_count": null,
      "outputs": [
        {
          "output_type": "stream",
          "name": "stdout",
          "text": [
            "Total earnings for March : Rs. 64845024.0 \n",
            "\n",
            "Total expense for March : Rs. 816813.43\n",
            "\n",
            "Check above to confirm this user does receive and spend large amounts of money\n"
          ]
        }
      ]
    },
    {
      "cell_type": "code",
      "metadata": {
        "id": "69da9398"
      },
      "source": [
        "# Any Extra insights (60 pts)\n",
        "# https://arxiv.org/pdf/2002.02755.pdf\n",
        "# https://www.analyticsvidhya.com/blog/2020/07/machine-learning-study-clustering-transactions-text-descriptions/\n",
        "# https://hasgeek.com/fifthelephant/2017/sub/designing-machine-learning-pipelines-for-mining-tr-HF2RRbi7nJ3qqXVJvEQnYy\n",
        "# https://medium.com/analytics-vidhya/making-sms-useful-again-db94d92e3490\n"
      ],
      "id": "69da9398",
      "execution_count": null,
      "outputs": []
    },
    {
      "cell_type": "code",
      "metadata": {
        "colab": {
          "base_uri": "https://localhost:8080/"
        },
        "id": "cNPdaAHrtGhZ",
        "outputId": "1731caf6-f081-4426-8ee1-dd8e08354c7f"
      },
      "source": [
        "print(\"Most common transactional sms senders: \\n\")\n",
        "txn_msg_eg_user['sender'].value_counts()[:15]"
      ],
      "id": "cNPdaAHrtGhZ",
      "execution_count": null,
      "outputs": [
        {
          "output_type": "stream",
          "name": "stdout",
          "text": [
            "Most common transactional sms senders: \n",
            "\n"
          ]
        },
        {
          "output_type": "execute_result",
          "data": {
            "text/plain": [
              "VM-DBSBNK    660\n",
              "VK-DBSBNK    644\n",
              "AD-DBSBNK    536\n",
              "AD-HDFCBK    469\n",
              "AX-DBSBNK    406\n",
              "TM-DBSBNK    296\n",
              "TX-DBSBNK    136\n",
              "DBSBNK       128\n",
              "MD-DBSBNK    107\n",
              "VM-SBICRD     69\n",
              "BP-PAYTMB     66\n",
              "JD-DBSBNK     64\n",
              "AX-HDFCBK     56\n",
              "BT-DBSBNK     51\n",
              "BP-DBSBNK     38\n",
              "Name: sender, dtype: int64"
            ]
          },
          "metadata": {},
          "execution_count": 160
        }
      ]
    },
    {
      "cell_type": "code",
      "metadata": {
        "colab": {
          "base_uri": "https://localhost:8080/"
        },
        "id": "P_3hc3Ob58jI",
        "outputId": "c76be019-1972-4fe9-e4b7-3623ae4f20ed"
      },
      "source": [
        "DBSBNK = txn_msg_eg_user[txn_msg_eg_user['sender'].str.contains('DBSBNK')]\n",
        "DBSBNK['amount'] = DBSBNK['message'].apply(get_txn)  "
      ],
      "id": "P_3hc3Ob58jI",
      "execution_count": null,
      "outputs": [
        {
          "output_type": "stream",
          "name": "stderr",
          "text": [
            "/usr/local/lib/python3.7/dist-packages/ipykernel_launcher.py:2: SettingWithCopyWarning: \n",
            "A value is trying to be set on a copy of a slice from a DataFrame.\n",
            "Try using .loc[row_indexer,col_indexer] = value instead\n",
            "\n",
            "See the caveats in the documentation: https://pandas.pydata.org/pandas-docs/stable/user_guide/indexing.html#returning-a-view-versus-a-copy\n",
            "  \n"
          ]
        }
      ]
    },
    {
      "cell_type": "code",
      "metadata": {
        "id": "RtFT_Nc_BPHl"
      },
      "source": [
        "DBSBNK = DBSBNK[DBSBNK['amount']!=0]  #removes the rare erroneous txn record, mean txn amount calculated below nearly same as before"
      ],
      "id": "RtFT_Nc_BPHl",
      "execution_count": null,
      "outputs": []
    },
    {
      "cell_type": "code",
      "metadata": {
        "colab": {
          "base_uri": "https://localhost:8080/",
          "height": 381
        },
        "id": "NOQ398CmKzDi",
        "outputId": "31e5e981-8773-416f-e569-aa034bb8cc50"
      },
      "source": [
        "print(\"Transaction amounts for the DBS Bank, the most common text sender :\\n\")\n",
        "DBSBNK.head()"
      ],
      "id": "NOQ398CmKzDi",
      "execution_count": null,
      "outputs": [
        {
          "output_type": "stream",
          "name": "stdout",
          "text": [
            "Transaction amounts for the DBS Bank, the most common text sender :\n",
            "\n"
          ]
        },
        {
          "output_type": "execute_result",
          "data": {
            "text/html": [
              "<div>\n",
              "<style scoped>\n",
              "    .dataframe tbody tr th:only-of-type {\n",
              "        vertical-align: middle;\n",
              "    }\n",
              "\n",
              "    .dataframe tbody tr th {\n",
              "        vertical-align: top;\n",
              "    }\n",
              "\n",
              "    .dataframe thead th {\n",
              "        text-align: right;\n",
              "    }\n",
              "</style>\n",
              "<table border=\"1\" class=\"dataframe\">\n",
              "  <thead>\n",
              "    <tr style=\"text-align: right;\">\n",
              "      <th></th>\n",
              "      <th>user_message_id</th>\n",
              "      <th>sender</th>\n",
              "      <th>message</th>\n",
              "      <th>timestamp</th>\n",
              "      <th>created_at</th>\n",
              "      <th>user_id</th>\n",
              "      <th>user_subscription_id</th>\n",
              "      <th>okay</th>\n",
              "      <th>amount</th>\n",
              "    </tr>\n",
              "  </thead>\n",
              "  <tbody>\n",
              "    <tr>\n",
              "      <th>4891</th>\n",
              "      <td>4325092</td>\n",
              "      <td>AX-DBSBNK</td>\n",
              "      <td>Dear Customer, Your account no ********4699 is...</td>\n",
              "      <td>2021-04-27 15:19:49.207</td>\n",
              "      <td>2021-09-16 04:55:32.967</td>\n",
              "      <td>6f28bcf7-9e64-423b-8d7b-ea7c03f5f691</td>\n",
              "      <td>NaN</td>\n",
              "      <td>True</td>\n",
              "      <td>5000.0</td>\n",
              "    </tr>\n",
              "    <tr>\n",
              "      <th>5546</th>\n",
              "      <td>4323368</td>\n",
              "      <td>VM-DBSBNK</td>\n",
              "      <td>&lt;DBS eAdvice&gt;\\n   Incoming fund of  INR   300....</td>\n",
              "      <td>2021-09-04 07:06:30.086</td>\n",
              "      <td>2021-09-16 04:55:28.483</td>\n",
              "      <td>6f28bcf7-9e64-423b-8d7b-ea7c03f5f691</td>\n",
              "      <td>NaN</td>\n",
              "      <td>True</td>\n",
              "      <td>300.0</td>\n",
              "    </tr>\n",
              "    <tr>\n",
              "      <th>7346</th>\n",
              "      <td>4325169</td>\n",
              "      <td>AD-DBSBNK</td>\n",
              "      <td>Dear Customer, your DBS account no ********469...</td>\n",
              "      <td>2021-04-22 12:37:18.547</td>\n",
              "      <td>2021-09-16 04:55:33.182</td>\n",
              "      <td>6f28bcf7-9e64-423b-8d7b-ea7c03f5f691</td>\n",
              "      <td>NaN</td>\n",
              "      <td>True</td>\n",
              "      <td>5000.0</td>\n",
              "    </tr>\n",
              "    <tr>\n",
              "      <th>8123</th>\n",
              "      <td>4325941</td>\n",
              "      <td>VM-DBSBNK</td>\n",
              "      <td>Incoming fund of  INR   1,000.00  has been ...</td>\n",
              "      <td>2021-03-03 10:57:22.008</td>\n",
              "      <td>2021-09-16 04:55:35.215</td>\n",
              "      <td>6f28bcf7-9e64-423b-8d7b-ea7c03f5f691</td>\n",
              "      <td>NaN</td>\n",
              "      <td>True</td>\n",
              "      <td>1000.0</td>\n",
              "    </tr>\n",
              "    <tr>\n",
              "      <th>8142</th>\n",
              "      <td>4325961</td>\n",
              "      <td>VM-DBSBNK</td>\n",
              "      <td>Incoming fund of  INR   15,160.00  has been...</td>\n",
              "      <td>2021-03-02 05:22:58.367</td>\n",
              "      <td>2021-09-16 04:55:35.264</td>\n",
              "      <td>6f28bcf7-9e64-423b-8d7b-ea7c03f5f691</td>\n",
              "      <td>NaN</td>\n",
              "      <td>True</td>\n",
              "      <td>15160.0</td>\n",
              "    </tr>\n",
              "  </tbody>\n",
              "</table>\n",
              "</div>"
            ],
            "text/plain": [
              "      user_message_id     sender  ...  okay   amount\n",
              "4891          4325092  AX-DBSBNK  ...  True   5000.0\n",
              "5546          4323368  VM-DBSBNK  ...  True    300.0\n",
              "7346          4325169  AD-DBSBNK  ...  True   5000.0\n",
              "8123          4325941  VM-DBSBNK  ...  True   1000.0\n",
              "8142          4325961  VM-DBSBNK  ...  True  15160.0\n",
              "\n",
              "[5 rows x 9 columns]"
            ]
          },
          "metadata": {},
          "execution_count": 163
        }
      ]
    },
    {
      "cell_type": "code",
      "metadata": {
        "colab": {
          "base_uri": "https://localhost:8080/"
        },
        "id": "h-JZxgvtBtpn",
        "outputId": "5fed2f31-cbd7-4c82-e408-a3811352cbd0"
      },
      "source": [
        "print(\"Average transaction volume for DBSBNK : Rs. \", DBSBNK['amount'].mean())"
      ],
      "id": "h-JZxgvtBtpn",
      "execution_count": null,
      "outputs": [
        {
          "output_type": "stream",
          "name": "stdout",
          "text": [
            "Average transaction volume for DBSBNK : Rs.  272321.7114243998\n"
          ]
        }
      ]
    },
    {
      "cell_type": "code",
      "metadata": {
        "colab": {
          "base_uri": "https://localhost:8080/",
          "height": 321
        },
        "id": "8bEazD49NVSC",
        "outputId": "b3da7ba4-415c-436d-cff5-39a77f7b4990"
      },
      "source": [
        "# Most commonly observed words in this user's transactional texts\n",
        "texts_mashed = (''.join(np.array(txn_msg_eg_user['message'])))\n",
        "wordcloud = WordCloud(width = 1000, height = 500).generate(texts_mashed)\n",
        "plt.figure(figsize=(15,5))\n",
        "plt.imshow(wordcloud)\n",
        "plt.axis('off')"
      ],
      "id": "8bEazD49NVSC",
      "execution_count": null,
      "outputs": [
        {
          "output_type": "execute_result",
          "data": {
            "text/plain": [
              "(-0.5, 999.5, 499.5, -0.5)"
            ]
          },
          "metadata": {},
          "execution_count": 165
        },
        {
          "output_type": "display_data",
          "data": {
            "image/png": "[encoded data removed]",
            "text/plain": [
              "<Figure size 1080x360 with 1 Axes>"
            ]
          },
          "metadata": {
            "needs_background": "light"
          }
        }
      ]
    },
    {
      "cell_type": "code",
      "metadata": {
        "id": "LjlF6YCVNzFN"
      },
      "source": [
        "# DBSBNK= DBSBNK.sort_values(by=['timestamp'])\n",
        "# DBSBNK.head()"
      ],
      "id": "LjlF6YCVNzFN",
      "execution_count": null,
      "outputs": []
    },
    {
      "cell_type": "code",
      "metadata": {
        "id": "lWCfMXfhQS6C"
      },
      "source": [
        "#DBSBNK['amount'].plot()"
      ],
      "id": "lWCfMXfhQS6C",
      "execution_count": null,
      "outputs": []
    }
  ]
}