{
  "cells": [
    {
      "cell_type": "code",
      "execution_count": null,
      "id": "77afe9d0",
      "metadata": {
        "id": "77afe9d0",
        "outputId": "1206207a-2d63-4643-83fe-603120bb2c02"
      },
      "outputs": [
        {
          "name": "stderr",
          "output_type": "stream",
          "text": [
            "C:\\Users\\Greeshma Theresa\\Anaconda\\lib\\site-packages\\gensim\\similarities\\__init__.py:15: UserWarning: The gensim.similarities.levenshtein submodule is disabled, because the optional Levenshtein package <https://pypi.org/project/python-Levenshtein/> is unavailable. Install Levenhstein (e.g. `pip install python-Levenshtein`) to suppress this warning.\n",
            "  warnings.warn(msg)\n",
            "[nltk_data] Downloading package punkt to C:\\Users\\Greeshma\n",
            "[nltk_data]     Theresa\\AppData\\Roaming\\nltk_data...\n",
            "[nltk_data]   Package punkt is already up-to-date!\n",
            "[nltk_data] Downloading package stopwords to C:\\Users\\Greeshma\n",
            "[nltk_data]     Theresa\\AppData\\Roaming\\nltk_data...\n",
            "[nltk_data]   Package stopwords is already up-to-date!\n"
          ]
        }
      ],
      "source": [
        "import os\n",
        "import random\n",
        "import re\n",
        "import string\n",
        "\n",
        "import nltk\n",
        "import numpy as np\n",
        "import pandas as pd\n",
        "\n",
        "from gensim.models import Word2Vec\n",
        "\n",
        "from collections import Counter\n",
        "\n",
        "from nltk import word_tokenize,sent_tokenize\n",
        "\n",
        "from nltk.corpus import stopwords\n",
        "\n",
        "from sklearn.cluster import MiniBatchKMeans\n",
        "from sklearn.metrics import silhouette_samples, silhouette_score\n",
        "nltk.download('punkt')\n",
        "nltk.download(\"stopwords\")\n",
        "\n",
        "SEED = 42\n",
        "random.seed(SEED)\n",
        "os.environ[\"PYTHONHASHSEED\"] = str(SEED)\n",
        "np.random.seed(SEED)"
      ]
    },
    {
      "cell_type": "code",
      "execution_count": null,
      "id": "892f4fc8",
      "metadata": {
        "id": "892f4fc8"
      },
      "outputs": [],
      "source": [
        "data = pd.read_json(\"C:\\\\Users\\\\Greeshma Theresa\\\\Downloads\\\\data_small.json\")"
      ]
    },
    {
      "cell_type": "code",
      "execution_count": null,
      "id": "ea801a6c",
      "metadata": {
        "id": "ea801a6c",
        "outputId": "fe0f77a1-373b-4681-fbde-5c969c7cec0f"
      },
      "outputs": [
        {
          "data": {
            "text/plain": [
              "Index(['user_message_id', 'sender', 'message', 'timestamp', 'created_at',\n",
              "       'user_id', 'user_subscription_id', 'okay'],\n",
              "      dtype='object')"
            ]
          },
          "execution_count": 5,
          "metadata": {},
          "output_type": "execute_result"
        }
      ],
      "source": [
        "data.columns"
      ]
    },
    {
      "cell_type": "code",
      "execution_count": null,
      "id": "8f0a550c",
      "metadata": {
        "id": "8f0a550c",
        "outputId": "af614bfe-5dd2-4e6a-cef0-3f1ae007245d"
      },
      "outputs": [
        {
          "data": {
            "text/html": [
              "<div>\n",
              "<style scoped>\n",
              "    .dataframe tbody tr th:only-of-type {\n",
              "        vertical-align: middle;\n",
              "    }\n",
              "\n",
              "    .dataframe tbody tr th {\n",
              "        vertical-align: top;\n",
              "    }\n",
              "\n",
              "    .dataframe thead th {\n",
              "        text-align: right;\n",
              "    }\n",
              "</style>\n",
              "<table border=\"1\" class=\"dataframe\">\n",
              "  <thead>\n",
              "    <tr style=\"text-align: right;\">\n",
              "      <th></th>\n",
              "      <th>user_message_id</th>\n",
              "      <th>sender</th>\n",
              "      <th>message</th>\n",
              "      <th>timestamp</th>\n",
              "      <th>created_at</th>\n",
              "      <th>user_id</th>\n",
              "      <th>user_subscription_id</th>\n",
              "      <th>okay</th>\n",
              "    </tr>\n",
              "  </thead>\n",
              "  <tbody>\n",
              "    <tr>\n",
              "      <th>0</th>\n",
              "      <td>4317860</td>\n",
              "      <td>ADSBUXIN</td>\n",
              "      <td>Hi, our siren is at home and safe and we hope ...</td>\n",
              "      <td>2020-03-25 07:33:39.442</td>\n",
              "      <td>2021-09-16 04:43:11.234</td>\n",
              "      <td>40ec6ba2-af1b-4037-9e01-3d108faa937b</td>\n",
              "      <td>NaN</td>\n",
              "      <td>True</td>\n",
              "    </tr>\n",
              "    <tr>\n",
              "      <th>1</th>\n",
              "      <td>4317861</td>\n",
              "      <td>TMKOTAKB</td>\n",
              "      <td>Due to COVID-19, some of the banking services ...</td>\n",
              "      <td>2020-03-25 06:34:38.445</td>\n",
              "      <td>2021-09-16 04:43:11.236</td>\n",
              "      <td>40ec6ba2-af1b-4037-9e01-3d108faa937b</td>\n",
              "      <td>NaN</td>\n",
              "      <td>True</td>\n",
              "    </tr>\n",
              "    <tr>\n",
              "      <th>2</th>\n",
              "      <td>4317862</td>\n",
              "      <td>ADMONVEW</td>\n",
              "      <td>Youre a few steps away from completing your Cr...</td>\n",
              "      <td>2020-03-25 06:04:45.183</td>\n",
              "      <td>2021-09-16 04:43:11.238</td>\n",
              "      <td>40ec6ba2-af1b-4037-9e01-3d108faa937b</td>\n",
              "      <td>NaN</td>\n",
              "      <td>True</td>\n",
              "    </tr>\n",
              "    <tr>\n",
              "      <th>3</th>\n",
              "      <td>4317863</td>\n",
              "      <td>VKEZHOME</td>\n",
              "      <td>Hi Niraj, a special Home Loan offer for you: \\...</td>\n",
              "      <td>2020-03-25 06:02:46.155</td>\n",
              "      <td>2021-09-16 04:43:11.241</td>\n",
              "      <td>40ec6ba2-af1b-4037-9e01-3d108faa937b</td>\n",
              "      <td>NaN</td>\n",
              "      <td>True</td>\n",
              "    </tr>\n",
              "    <tr>\n",
              "      <th>4</th>\n",
              "      <td>4317864</td>\n",
              "      <td>JXJIOMNY</td>\n",
              "      <td>Dear JioMoney Customer, Pay from Home using My...</td>\n",
              "      <td>2020-03-25 05:54:36.521</td>\n",
              "      <td>2021-09-16 04:43:11.244</td>\n",
              "      <td>40ec6ba2-af1b-4037-9e01-3d108faa937b</td>\n",
              "      <td>NaN</td>\n",
              "      <td>True</td>\n",
              "    </tr>\n",
              "    <tr>\n",
              "      <th>...</th>\n",
              "      <td>...</td>\n",
              "      <td>...</td>\n",
              "      <td>...</td>\n",
              "      <td>...</td>\n",
              "      <td>...</td>\n",
              "      <td>...</td>\n",
              "      <td>...</td>\n",
              "      <td>...</td>\n",
              "    </tr>\n",
              "    <tr>\n",
              "      <th>95</th>\n",
              "      <td>4317954</td>\n",
              "      <td>BHCARSPA</td>\n",
              "      <td>Car deep cleaning, polishing &amp; waxing at your ...</td>\n",
              "      <td>2020-03-20 06:45:24.267</td>\n",
              "      <td>2021-09-16 04:43:11.468</td>\n",
              "      <td>40ec6ba2-af1b-4037-9e01-3d108faa937b</td>\n",
              "      <td>NaN</td>\n",
              "      <td>True</td>\n",
              "    </tr>\n",
              "    <tr>\n",
              "      <th>96</th>\n",
              "      <td>4317955</td>\n",
              "      <td>TXCRWNIT</td>\n",
              "      <td>Here's Your Chance To Earn Rs.1250 PayTM! Refe...</td>\n",
              "      <td>2020-03-20 06:38:06.699</td>\n",
              "      <td>2021-09-16 04:43:11.470</td>\n",
              "      <td>40ec6ba2-af1b-4037-9e01-3d108faa937b</td>\n",
              "      <td>NaN</td>\n",
              "      <td>True</td>\n",
              "    </tr>\n",
              "    <tr>\n",
              "      <th>97</th>\n",
              "      <td>4317956</td>\n",
              "      <td>ADMONVEW</td>\n",
              "      <td>Youre a few steps away from completing your Cr...</td>\n",
              "      <td>2020-03-20 06:11:27.013</td>\n",
              "      <td>2021-09-16 04:43:11.473</td>\n",
              "      <td>40ec6ba2-af1b-4037-9e01-3d108faa937b</td>\n",
              "      <td>NaN</td>\n",
              "      <td>True</td>\n",
              "    </tr>\n",
              "    <tr>\n",
              "      <th>98</th>\n",
              "      <td>4317957</td>\n",
              "      <td>ADPAYZAP</td>\n",
              "      <td>You've won upto Rs. 250 Amazon voucher!\\nClaim...</td>\n",
              "      <td>2020-03-20 06:09:25.513</td>\n",
              "      <td>2021-09-16 04:43:11.475</td>\n",
              "      <td>40ec6ba2-af1b-4037-9e01-3d108faa937b</td>\n",
              "      <td>NaN</td>\n",
              "      <td>True</td>\n",
              "    </tr>\n",
              "    <tr>\n",
              "      <th>99</th>\n",
              "      <td>4317958</td>\n",
              "      <td>QPINDIAL</td>\n",
              "      <td>Sometimes savings just aren't enough to buy th...</td>\n",
              "      <td>2020-03-20 05:38:53.719</td>\n",
              "      <td>2021-09-16 04:43:11.478</td>\n",
              "      <td>40ec6ba2-af1b-4037-9e01-3d108faa937b</td>\n",
              "      <td>NaN</td>\n",
              "      <td>True</td>\n",
              "    </tr>\n",
              "  </tbody>\n",
              "</table>\n",
              "<p>100 rows × 8 columns</p>\n",
              "</div>"
            ],
            "text/plain": [
              "    user_message_id    sender  \\\n",
              "0           4317860  ADSBUXIN   \n",
              "1           4317861  TMKOTAKB   \n",
              "2           4317862  ADMONVEW   \n",
              "3           4317863  VKEZHOME   \n",
              "4           4317864  JXJIOMNY   \n",
              "..              ...       ...   \n",
              "95          4317954  BHCARSPA   \n",
              "96          4317955  TXCRWNIT   \n",
              "97          4317956  ADMONVEW   \n",
              "98          4317957  ADPAYZAP   \n",
              "99          4317958  QPINDIAL   \n",
              "\n",
              "                                              message               timestamp  \\\n",
              "0   Hi, our siren is at home and safe and we hope ... 2020-03-25 07:33:39.442   \n",
              "1   Due to COVID-19, some of the banking services ... 2020-03-25 06:34:38.445   \n",
              "2   Youre a few steps away from completing your Cr... 2020-03-25 06:04:45.183   \n",
              "3   Hi Niraj, a special Home Loan offer for you: \\... 2020-03-25 06:02:46.155   \n",
              "4   Dear JioMoney Customer, Pay from Home using My... 2020-03-25 05:54:36.521   \n",
              "..                                                ...                     ...   \n",
              "95  Car deep cleaning, polishing & waxing at your ... 2020-03-20 06:45:24.267   \n",
              "96  Here's Your Chance To Earn Rs.1250 PayTM! Refe... 2020-03-20 06:38:06.699   \n",
              "97  Youre a few steps away from completing your Cr... 2020-03-20 06:11:27.013   \n",
              "98  You've won upto Rs. 250 Amazon voucher!\\nClaim... 2020-03-20 06:09:25.513   \n",
              "99  Sometimes savings just aren't enough to buy th... 2020-03-20 05:38:53.719   \n",
              "\n",
              "                created_at                               user_id  \\\n",
              "0  2021-09-16 04:43:11.234  40ec6ba2-af1b-4037-9e01-3d108faa937b   \n",
              "1  2021-09-16 04:43:11.236  40ec6ba2-af1b-4037-9e01-3d108faa937b   \n",
              "2  2021-09-16 04:43:11.238  40ec6ba2-af1b-4037-9e01-3d108faa937b   \n",
              "3  2021-09-16 04:43:11.241  40ec6ba2-af1b-4037-9e01-3d108faa937b   \n",
              "4  2021-09-16 04:43:11.244  40ec6ba2-af1b-4037-9e01-3d108faa937b   \n",
              "..                     ...                                   ...   \n",
              "95 2021-09-16 04:43:11.468  40ec6ba2-af1b-4037-9e01-3d108faa937b   \n",
              "96 2021-09-16 04:43:11.470  40ec6ba2-af1b-4037-9e01-3d108faa937b   \n",
              "97 2021-09-16 04:43:11.473  40ec6ba2-af1b-4037-9e01-3d108faa937b   \n",
              "98 2021-09-16 04:43:11.475  40ec6ba2-af1b-4037-9e01-3d108faa937b   \n",
              "99 2021-09-16 04:43:11.478  40ec6ba2-af1b-4037-9e01-3d108faa937b   \n",
              "\n",
              "    user_subscription_id  okay  \n",
              "0                    NaN  True  \n",
              "1                    NaN  True  \n",
              "2                    NaN  True  \n",
              "3                    NaN  True  \n",
              "4                    NaN  True  \n",
              "..                   ...   ...  \n",
              "95                   NaN  True  \n",
              "96                   NaN  True  \n",
              "97                   NaN  True  \n",
              "98                   NaN  True  \n",
              "99                   NaN  True  \n",
              "\n",
              "[100 rows x 8 columns]"
            ]
          },
          "execution_count": 6,
          "metadata": {},
          "output_type": "execute_result"
        }
      ],
      "source": [
        "data.head(100)"
      ]
    },
    {
      "cell_type": "code",
      "execution_count": null,
      "id": "9e88c730",
      "metadata": {
        "id": "9e88c730"
      },
      "outputs": [],
      "source": [
        "df_small=data.head(100000)"
      ]
    },
    {
      "cell_type": "markdown",
      "id": "b286d9ef",
      "metadata": {
        "id": "b286d9ef"
      },
      "source": [
        "Used a data of 100000 entries for implementing K means algorithm"
      ]
    },
    {
      "cell_type": "code",
      "execution_count": null,
      "id": "c1c4e5c0",
      "metadata": {
        "id": "c1c4e5c0"
      },
      "outputs": [],
      "source": [
        "def clean_text(text, tokenizer, stopwords):\n",
        "    \"\"\"Pre-process text and generate tokens\n",
        "\n",
        "    Args:\n",
        "        text: Text to tokenize.\n",
        "\n",
        "    Returns:\n",
        "        Tokenized text.\n",
        "    \"\"\"\n",
        "    text = str(text).lower()  # Lowercase words\n",
        "    text = re.sub(r\"\\[(.*?)\\]\", \"\", text)  # Remove [+XYZ chars] in content\n",
        "    text = re.sub(r\"\\s+\", \" \", text)  # Remove multiple spaces in content\n",
        "    text = re.sub(r\"\\w+…|…\", \"\", text)  # Remove ellipsis (and last word)\n",
        "    text = re.sub(r\"(?<=\\w)-(?=\\w)\", \" \", text)  # Replace dash between words\n",
        "    text = re.sub(\n",
        "        f\"[{re.escape(string.punctuation)}]\", \"\", text\n",
        "    )  # Remove punctuation\n",
        "\n",
        "    tokens = tokenizer(text)  # Get tokens from text\n",
        "    tokens = [t for t in tokens if not t in stopwords]  # Remove stopwords\n",
        "    tokens = [\"\" if t.isdigit() else t for t in tokens]  # Remove digits\n",
        "    tokens = [t for t in tokens if len(t) > 1]  # Remove short tokens\n",
        "    return tokens"
      ]
    },
    {
      "cell_type": "code",
      "execution_count": null,
      "id": "3b7c5dd8",
      "metadata": {
        "id": "3b7c5dd8",
        "outputId": "8193f651-3160-4156-d1fb-17cbe7813fe8"
      },
      "outputs": [
        {
          "name": "stdout",
          "output_type": "stream",
          "text": [
            "Original dataframe: (1898953, 8)\n",
            "Pre-processed dataframe: (65370, 2)\n"
          ]
        }
      ],
      "source": [
        "custom_stopwords = set(stopwords.words(\"english\"))\n",
        "text_columns = [\"message\"]\n",
        "\n",
        "df = df_small.copy()\n",
        "df[\"message\"] = df[\"message\"].fillna(\"\")\n",
        "df[\"message\"] = df[\"message\"].astype(str)\n",
        "\n",
        "# Create text column based on title, description, and content\n",
        "df[\"text\"] = df[text_columns].apply(lambda x: \" | \".join(x), axis=1)\n",
        "df[\"tokens\"] = df[\"text\"].map(lambda x: clean_text(x, word_tokenize, custom_stopwords))\n",
        "\n",
        "# Remove duplicated after preprocessing\n",
        "_, idx = np.unique(df[\"tokens\"], return_index=True)\n",
        "df = df.iloc[idx, :]\n",
        "\n",
        "# Remove empty values\n",
        "df = df.loc[df.tokens.map(lambda x: len(x) > 0), [\"text\", \"tokens\"]]\n",
        "\n",
        "print(f\"Original dataframe: {data.shape}\")\n",
        "print(f\"Pre-processed dataframe: {df.shape}\")"
      ]
    },
    {
      "cell_type": "markdown",
      "id": "cf85a239",
      "metadata": {
        "id": "cf85a239"
      },
      "source": [
        "Output: Original dataframe: (1898953, 8)\n",
        "        Pre-processed dataframe: (65370, 2)"
      ]
    },
    {
      "cell_type": "code",
      "execution_count": null,
      "id": "783007a0",
      "metadata": {
        "id": "783007a0"
      },
      "outputs": [],
      "source": [
        "docs = df[\"text\"].values\n",
        "tokenized_docs = df[\"tokens\"].values\n",
        "vocab = Counter()\n",
        "for token in tokenized_docs:\n",
        "    vocab.update(token)"
      ]
    },
    {
      "cell_type": "code",
      "execution_count": null,
      "id": "109849b6",
      "metadata": {
        "id": "109849b6"
      },
      "outputs": [],
      "source": [
        "def vectorize(list_of_docs, model):\n",
        "    \"\"\"Generate vectors for list of documents using a Word Embedding\n",
        "\n",
        "    Args:\n",
        "        list_of_docs: List of documents\n",
        "        model: Gensim's Word Embedding\n",
        "\n",
        "    Returns:\n",
        "        List of document vectors\n",
        "    \"\"\"\n",
        "    features = []\n",
        "\n",
        "    for tokens in list_of_docs:\n",
        "        zero_vector = np.zeros(model.vector_size)\n",
        "        vectors = []\n",
        "        for token in tokens:\n",
        "            if token in model.wv:\n",
        "                try:\n",
        "                    vectors.append(model.wv[token])\n",
        "                except KeyError:\n",
        "                    continue\n",
        "        if vectors:\n",
        "            vectors = np.asarray(vectors)\n",
        "            avg_vec = vectors.mean(axis=0)\n",
        "            features.append(avg_vec)\n",
        "        else:\n",
        "            features.append(zero_vector)\n",
        "    return features\n"
      ]
    },
    {
      "cell_type": "code",
      "execution_count": null,
      "id": "d71dddbd",
      "metadata": {
        "id": "d71dddbd"
      },
      "outputs": [],
      "source": [
        "model = Word2Vec(sentences=tokenized_docs, vector_size=100, workers=1, seed=42)"
      ]
    },
    {
      "cell_type": "code",
      "execution_count": null,
      "id": "1fafa186",
      "metadata": {
        "id": "1fafa186",
        "outputId": "a1f9c36a-5f1f-462d-e6e9-a7ba1a849f1d"
      },
      "outputs": [
        {
          "data": {
            "text/plain": [
              "[('sakcash', 0.7355659008026123),\n",
              " ('balrs', 0.7053314447402954),\n",
              " ('cdm', 0.7047985792160034),\n",
              " ('lmt', 0.6905398368835449),\n",
              " ('bk', 0.6885620355606079),\n",
              " ('20infoamazon', 0.6490204930305481),\n",
              " ('noida', 0.6440922617912292),\n",
              " ('cashrs1', 0.6298109889030457),\n",
              " ('xx8139', 0.6293550729751587),\n",
              " ('one97', 0.6277592182159424)]"
            ]
          },
          "execution_count": 16,
          "metadata": {},
          "output_type": "execute_result"
        }
      ],
      "source": [
        "model.wv.most_similar(\"bal\")"
      ]
    },
    {
      "cell_type": "code",
      "execution_count": null,
      "id": "5efdf617",
      "metadata": {
        "id": "5efdf617",
        "outputId": "51493177-7c28-4e34-ad41-083563075db7"
      },
      "outputs": [
        {
          "data": {
            "text/plain": [
              "(65370, 100)"
            ]
          },
          "execution_count": 17,
          "metadata": {},
          "output_type": "execute_result"
        }
      ],
      "source": [
        "vectorized_docs = vectorize(tokenized_docs, model=model)\n",
        "len(vectorized_docs), len(vectorized_docs[0])"
      ]
    },
    {
      "cell_type": "markdown",
      "id": "8b852c17",
      "metadata": {
        "id": "8b852c17"
      },
      "source": [
        "output: (65370, 100)"
      ]
    },
    {
      "cell_type": "code",
      "execution_count": null,
      "id": "56b784ea",
      "metadata": {
        "id": "56b784ea"
      },
      "outputs": [],
      "source": [
        "def mbkmeans_clusters(X, k, mb=10000, print_silhouette_values=False):\n",
        "    \"\"\"Generate clusters.\n",
        "\n",
        "    Args:\n",
        "        X: Matrix of features.\n",
        "        k: Number of clusters.\n",
        "        mb: Size of mini-batches. Defaults to 500.\n",
        "        print_silhouette_values: Print silhouette values per cluster.\n",
        "\n",
        "    Returns:\n",
        "        Trained clustering model and labels based on X.\n",
        "    \"\"\"\n",
        "    km = MiniBatchKMeans(n_clusters=k, batch_size=mb).fit(X)\n",
        "    print(f\"For n_clusters = {k}\")\n",
        "    print(f\"Silhouette coefficient: {silhouette_score(X, km.labels_):0.2f}\")\n",
        "    print(f\"Inertia:{km.inertia_}\")\n",
        "\n",
        "    if print_silhouette_values:\n",
        "        sample_silhouette_values = silhouette_samples(X, km.labels_)\n",
        "        print(f\"Silhouette values:\")\n",
        "        silhouette_values = []\n",
        "        for i in range(k):\n",
        "            cluster_silhouette_values = sample_silhouette_values[km.labels_ == i]\n",
        "            silhouette_values.append(\n",
        "                (\n",
        "                    i,\n",
        "                    cluster_silhouette_values.shape[0],\n",
        "                    cluster_silhouette_values.mean(),\n",
        "                    cluster_silhouette_values.min(),\n",
        "                    cluster_silhouette_values.max(),\n",
        "                )\n",
        "            )\n",
        "        silhouette_values = sorted(\n",
        "            silhouette_values, key=lambda tup: tup[2], reverse=True\n",
        "        )\n",
        "        for s in silhouette_values:\n",
        "            print(\n",
        "                f\"    Cluster {s[0]}: Size:{s[1]} | Avg:{s[2]:.2f} | Min:{s[3]:.2f} | Max: {s[4]:.2f}\"\n",
        "            )\n",
        "    return km, km.labels_"
      ]
    },
    {
      "cell_type": "code",
      "execution_count": null,
      "id": "55df48bc",
      "metadata": {
        "id": "55df48bc",
        "outputId": "7e94c769-c5ce-45b2-9274-e5dd7ea57c0c"
      },
      "outputs": [
        {
          "name": "stdout",
          "output_type": "stream",
          "text": [
            "For n_clusters = 3\n",
            "Silhouette coefficient: 0.29\n",
            "Inertia:42098.01776055332\n",
            "Silhouette values:\n",
            "    Cluster 1: Size:2362 | Avg:0.46 | Min:-0.02 | Max: 0.65\n",
            "    Cluster 0: Size:8139 | Avg:0.26 | Min:-0.04 | Max: 0.46\n",
            "    Cluster 2: Size:2547 | Avg:0.23 | Min:-0.01 | Max: 0.44\n"
          ]
        }
      ],
      "source": [
        "\n",
        "clustering, cluster_labels = mbkmeans_clusters(X=vectorized_docs, k=3, print_silhouette_values=True)\n",
        "df_clusters = pd.DataFrame({\n",
        "    \"text\": docs,\n",
        "    \"tokens\": [\" \".join(text) for text in tokenized_docs],\n",
        "    \"cluster\": cluster_labels\n",
        "})"
      ]
    },
    {
      "cell_type": "code",
      "execution_count": null,
      "id": "14f9cf56",
      "metadata": {
        "id": "14f9cf56",
        "outputId": "1fe43a52-5967-4c5a-924a-11238475b0bf"
      },
      "outputs": [
        {
          "name": "stdout",
          "output_type": "stream",
          "text": [
            "Top terms per cluster (based on centroids):\n",
            "Cluster 0: transacting making httpsszzlio05qfet october unlocked \n",
            "Cluster 1: debited inr dbs vpa neft \n",
            "Cluster 2: low od needed hassle insta \n"
          ]
        }
      ],
      "source": [
        "print(\"Top terms per cluster (based on centroids):\")\n",
        "for i in range(3):\n",
        "    tokens_per_cluster = \"\"\n",
        "    most_representative = model.wv.most_similar(positive=[clustering.cluster_centers_[i]], topn=5)\n",
        "    for t in most_representative:\n",
        "        tokens_per_cluster += f\"{t[0]} \"\n",
        "    print(f\"Cluster {i}: {tokens_per_cluster}\")"
      ]
    },
    {
      "cell_type": "code",
      "execution_count": null,
      "id": "c2beba5f",
      "metadata": {
        "id": "c2beba5f"
      },
      "outputs": [],
      "source": [
        "#output"
      ]
    },
    {
      "cell_type": "markdown",
      "id": "ffe99549",
      "metadata": {
        "id": "ffe99549"
      },
      "source": [
        "Top terms per cluster (based on centroids):\n",
        "Cluster 0: transacting making httpsszzlio05qfet october unlocked \n",
        "Cluster 1: debited inr dbs vpa neft \n",
        "Cluster 2: low od needed hassle insta "
      ]
    },
    {
      "cell_type": "markdown",
      "id": "49bb443b",
      "metadata": {
        "id": "49bb443b"
      },
      "source": [
        "\n",
        "Cluster 1 consists of transactional msgs and they are filtered using k means\n"
      ]
    },
    {
      "cell_type": "code",
      "execution_count": null,
      "id": "c1205ddc",
      "metadata": {
        "id": "c1205ddc",
        "outputId": "b24b2760-3082-407d-b48a-69acf80dea20"
      },
      "outputs": [
        {
          "name": "stdout",
          "output_type": "stream",
          "text": [
            "Dear Customer, your ICICI Bank Account XX481 has been credited with INR 7,198.19 on 16-Sep-21. Info:EBA*BSE N 202122114*20210916082932. The Available Balance is INR 9,409.75.\n",
            "-------------\n",
            "Dear Customer, your DBS account no ********0809 is credited with INR 200 on 06-09-2021 and is subject to clearance. Current Balance is INR 231.4.\n",
            "-------------\n",
            "Dear Customer, ICICI Bank Account XX481 is debited with INR 6,907.50 on 03-Sep-21. Info: EBA*BSE N 202. The Available Balance is INR 24,864.78. Call 18002662 for dispute or SMS BLOCK 481 to 9215676766\n",
            "-------------\n",
            "Dear Customer, ICICI Bank Account XX481 is debited with INR 5,981.50 on 08-Sep-21. Info: EBA*NSE N 202. The Available Balance is INR 9,073.80. Call 18002662 for dispute or SMS BLOCK 481 to 9215676766\n",
            "-------------\n",
            "Your VPA nirajsachdev@dbs linked to DBS Bank India Limited  a/c no. ********0809 is debited for ₹249.0 and the amount is credited to VPA nearbuygroup@paytm (UPI Ref no 107819013751).\n",
            "-------------\n"
          ]
        }
      ],
      "source": [
        "\n",
        "test_cluster = 1\n",
        "most_representative_docs = np.argsort(\n",
        "    np.linalg.norm(vectorized_docs - clustering.cluster_centers_[test_cluster], axis=1)\n",
        ")\n",
        "for d in most_representative_docs[:5]:\n",
        "    print(docs[d])\n",
        "    print(\"-------------\")"
      ]
    },
    {
      "cell_type": "markdown",
      "id": "6d4a3941",
      "metadata": {
        "id": "6d4a3941"
      },
      "source": [
        "output:\n",
        "\n",
        "Dear Customer, your ICICI Bank Account XX481 has been credited with INR 7,198.19 on 16-Sep-21. Info:EBA*BSE N 202122114*20210916082932. The Available Balance is INR 9,409.75.\n",
        "-------------\n",
        "Dear Customer, your DBS account no ********0809 is credited with INR 200 on 06-09-2021 and is subject to clearance. Current Balance is INR 231.4.\n",
        "-------------\n",
        "Dear Customer, ICICI Bank Account XX481 is debited with INR 6,907.50 on 03-Sep-21. Info: EBA*BSE N 202. The Available Balance is INR 24,864.78. Call 18002662 for dispute or SMS BLOCK 481 to 9215676766\n",
        "-------------\n",
        "Dear Customer, ICICI Bank Account XX481 is debited with INR 5,981.50 on 08-Sep-21. Info: EBA*NSE N 202. The Available Balance is INR 9,073.80. Call 18002662 for dispute or SMS BLOCK 481 to 9215676766\n",
        "-------------\n",
        "Your VPA nirajsachdev@dbs linked to DBS Bank India Limited  a/c no. ********0809 is debited for ₹249.0 and the amount is credited to VPA nearbuygroup@paytm (UPI Ref no 107819013751).\n",
        "-------------"
      ]
    },
    {
      "cell_type": "markdown",
      "id": "35942b14",
      "metadata": {
        "id": "35942b14"
      },
      "source": [
        "\n",
        "\n",
        "\n",
        "\n",
        "\n",
        "Expense and earning of an user with user_id='40ec6ba2-af1b-4037-9e01-3d108faa937b'\n",
        "\n",
        "\n",
        "\n"
      ]
    },
    {
      "cell_type": "code",
      "execution_count": null,
      "id": "9956b401",
      "metadata": {
        "id": "9956b401"
      },
      "outputs": [],
      "source": [
        "dk=data[data[\"user_id\"]=='40ec6ba2-af1b-4037-9e01-3d108faa937b']"
      ]
    },
    {
      "cell_type": "code",
      "execution_count": null,
      "id": "c7651034",
      "metadata": {
        "id": "c7651034",
        "outputId": "bd6cca7a-401b-41f1-95c4-516cd2f2ea0f"
      },
      "outputs": [
        {
          "data": {
            "text/plain": [
              "(17903, 8)"
            ]
          },
          "execution_count": 34,
          "metadata": {},
          "output_type": "execute_result"
        }
      ],
      "source": [
        "dk.shape"
      ]
    },
    {
      "cell_type": "code",
      "execution_count": null,
      "id": "3ec86ccd",
      "metadata": {
        "scrolled": true,
        "id": "3ec86ccd",
        "outputId": "3ed8b2a2-0c3c-49b9-d7fe-ec8438a5cb5b"
      },
      "outputs": [
        {
          "data": {
            "text/html": [
              "<div>\n",
              "<style scoped>\n",
              "    .dataframe tbody tr th:only-of-type {\n",
              "        vertical-align: middle;\n",
              "    }\n",
              "\n",
              "    .dataframe tbody tr th {\n",
              "        vertical-align: top;\n",
              "    }\n",
              "\n",
              "    .dataframe thead th {\n",
              "        text-align: right;\n",
              "    }\n",
              "</style>\n",
              "<table border=\"1\" class=\"dataframe\">\n",
              "  <thead>\n",
              "    <tr style=\"text-align: right;\">\n",
              "      <th></th>\n",
              "      <th>user_message_id</th>\n",
              "      <th>sender</th>\n",
              "      <th>message</th>\n",
              "      <th>timestamp</th>\n",
              "      <th>created_at</th>\n",
              "      <th>user_id</th>\n",
              "      <th>user_subscription_id</th>\n",
              "      <th>okay</th>\n",
              "    </tr>\n",
              "  </thead>\n",
              "  <tbody>\n",
              "    <tr>\n",
              "      <th>0</th>\n",
              "      <td>4317860</td>\n",
              "      <td>ADSBUXIN</td>\n",
              "      <td>Hi, our siren is at home and safe and we hope ...</td>\n",
              "      <td>2020-03-25 07:33:39.442</td>\n",
              "      <td>2021-09-16 04:43:11.234</td>\n",
              "      <td>40ec6ba2-af1b-4037-9e01-3d108faa937b</td>\n",
              "      <td>NaN</td>\n",
              "      <td>True</td>\n",
              "    </tr>\n",
              "    <tr>\n",
              "      <th>1</th>\n",
              "      <td>4317861</td>\n",
              "      <td>TMKOTAKB</td>\n",
              "      <td>Due to COVID-19, some of the banking services ...</td>\n",
              "      <td>2020-03-25 06:34:38.445</td>\n",
              "      <td>2021-09-16 04:43:11.236</td>\n",
              "      <td>40ec6ba2-af1b-4037-9e01-3d108faa937b</td>\n",
              "      <td>NaN</td>\n",
              "      <td>True</td>\n",
              "    </tr>\n",
              "    <tr>\n",
              "      <th>2</th>\n",
              "      <td>4317862</td>\n",
              "      <td>ADMONVEW</td>\n",
              "      <td>Youre a few steps away from completing your Cr...</td>\n",
              "      <td>2020-03-25 06:04:45.183</td>\n",
              "      <td>2021-09-16 04:43:11.238</td>\n",
              "      <td>40ec6ba2-af1b-4037-9e01-3d108faa937b</td>\n",
              "      <td>NaN</td>\n",
              "      <td>True</td>\n",
              "    </tr>\n",
              "    <tr>\n",
              "      <th>3</th>\n",
              "      <td>4317863</td>\n",
              "      <td>VKEZHOME</td>\n",
              "      <td>Hi Niraj, a special Home Loan offer for you: \\...</td>\n",
              "      <td>2020-03-25 06:02:46.155</td>\n",
              "      <td>2021-09-16 04:43:11.241</td>\n",
              "      <td>40ec6ba2-af1b-4037-9e01-3d108faa937b</td>\n",
              "      <td>NaN</td>\n",
              "      <td>True</td>\n",
              "    </tr>\n",
              "    <tr>\n",
              "      <th>4</th>\n",
              "      <td>4317864</td>\n",
              "      <td>JXJIOMNY</td>\n",
              "      <td>Dear JioMoney Customer, Pay from Home using My...</td>\n",
              "      <td>2020-03-25 05:54:36.521</td>\n",
              "      <td>2021-09-16 04:43:11.244</td>\n",
              "      <td>40ec6ba2-af1b-4037-9e01-3d108faa937b</td>\n",
              "      <td>NaN</td>\n",
              "      <td>True</td>\n",
              "    </tr>\n",
              "    <tr>\n",
              "      <th>...</th>\n",
              "      <td>...</td>\n",
              "      <td>...</td>\n",
              "      <td>...</td>\n",
              "      <td>...</td>\n",
              "      <td>...</td>\n",
              "      <td>...</td>\n",
              "      <td>...</td>\n",
              "      <td>...</td>\n",
              "    </tr>\n",
              "    <tr>\n",
              "      <th>5898191</th>\n",
              "      <td>4317854</td>\n",
              "      <td>TXPASBAZ</td>\n",
              "      <td>Niraj, Your latest Experian credit score needs...</td>\n",
              "      <td>2020-03-26 06:12:21.604</td>\n",
              "      <td>2021-09-16 04:43:11.216</td>\n",
              "      <td>40ec6ba2-af1b-4037-9e01-3d108faa937b</td>\n",
              "      <td>NaN</td>\n",
              "      <td>True</td>\n",
              "    </tr>\n",
              "    <tr>\n",
              "      <th>5898192</th>\n",
              "      <td>4317855</td>\n",
              "      <td>AMWYNKED</td>\n",
              "      <td>Your free Wynk Premium subscription is now act...</td>\n",
              "      <td>2020-03-26 05:48:41.942</td>\n",
              "      <td>2021-09-16 04:43:11.218</td>\n",
              "      <td>40ec6ba2-af1b-4037-9e01-3d108faa937b</td>\n",
              "      <td>NaN</td>\n",
              "      <td>True</td>\n",
              "    </tr>\n",
              "    <tr>\n",
              "      <th>5898193</th>\n",
              "      <td>4317856</td>\n",
              "      <td>AMARTLTV</td>\n",
              "      <td>Your FREE access to Airtel Xstream is now acti...</td>\n",
              "      <td>2020-03-25 23:51:19.650</td>\n",
              "      <td>2021-09-16 04:43:11.224</td>\n",
              "      <td>40ec6ba2-af1b-4037-9e01-3d108faa937b</td>\n",
              "      <td>NaN</td>\n",
              "      <td>True</td>\n",
              "    </tr>\n",
              "    <tr>\n",
              "      <th>5898194</th>\n",
              "      <td>4317857</td>\n",
              "      <td>ADEPFOHO</td>\n",
              "      <td>Dear 101513602369, your passbook balance again...</td>\n",
              "      <td>2020-03-25 11:55:57.718</td>\n",
              "      <td>2021-09-16 04:43:11.226</td>\n",
              "      <td>40ec6ba2-af1b-4037-9e01-3d108faa937b</td>\n",
              "      <td>NaN</td>\n",
              "      <td>True</td>\n",
              "    </tr>\n",
              "    <tr>\n",
              "      <th>5898195</th>\n",
              "      <td>4317858</td>\n",
              "      <td>TXCRWNIT</td>\n",
              "      <td>Hello Mumbaaaai! It's Cashback time! Bought gr...</td>\n",
              "      <td>2020-03-25 09:28:17.966</td>\n",
              "      <td>2021-09-16 04:43:11.229</td>\n",
              "      <td>40ec6ba2-af1b-4037-9e01-3d108faa937b</td>\n",
              "      <td>NaN</td>\n",
              "      <td>True</td>\n",
              "    </tr>\n",
              "  </tbody>\n",
              "</table>\n",
              "<p>17903 rows × 8 columns</p>\n",
              "</div>"
            ],
            "text/plain": [
              "         user_message_id    sender  \\\n",
              "0                4317860  ADSBUXIN   \n",
              "1                4317861  TMKOTAKB   \n",
              "2                4317862  ADMONVEW   \n",
              "3                4317863  VKEZHOME   \n",
              "4                4317864  JXJIOMNY   \n",
              "...                  ...       ...   \n",
              "5898191          4317854  TXPASBAZ   \n",
              "5898192          4317855  AMWYNKED   \n",
              "5898193          4317856  AMARTLTV   \n",
              "5898194          4317857  ADEPFOHO   \n",
              "5898195          4317858  TXCRWNIT   \n",
              "\n",
              "                                                   message  \\\n",
              "0        Hi, our siren is at home and safe and we hope ...   \n",
              "1        Due to COVID-19, some of the banking services ...   \n",
              "2        Youre a few steps away from completing your Cr...   \n",
              "3        Hi Niraj, a special Home Loan offer for you: \\...   \n",
              "4        Dear JioMoney Customer, Pay from Home using My...   \n",
              "...                                                    ...   \n",
              "5898191  Niraj, Your latest Experian credit score needs...   \n",
              "5898192  Your free Wynk Premium subscription is now act...   \n",
              "5898193  Your FREE access to Airtel Xstream is now acti...   \n",
              "5898194  Dear 101513602369, your passbook balance again...   \n",
              "5898195  Hello Mumbaaaai! It's Cashback time! Bought gr...   \n",
              "\n",
              "                      timestamp              created_at  \\\n",
              "0       2020-03-25 07:33:39.442 2021-09-16 04:43:11.234   \n",
              "1       2020-03-25 06:34:38.445 2021-09-16 04:43:11.236   \n",
              "2       2020-03-25 06:04:45.183 2021-09-16 04:43:11.238   \n",
              "3       2020-03-25 06:02:46.155 2021-09-16 04:43:11.241   \n",
              "4       2020-03-25 05:54:36.521 2021-09-16 04:43:11.244   \n",
              "...                         ...                     ...   \n",
              "5898191 2020-03-26 06:12:21.604 2021-09-16 04:43:11.216   \n",
              "5898192 2020-03-26 05:48:41.942 2021-09-16 04:43:11.218   \n",
              "5898193 2020-03-25 23:51:19.650 2021-09-16 04:43:11.224   \n",
              "5898194 2020-03-25 11:55:57.718 2021-09-16 04:43:11.226   \n",
              "5898195 2020-03-25 09:28:17.966 2021-09-16 04:43:11.229   \n",
              "\n",
              "                                      user_id  user_subscription_id  okay  \n",
              "0        40ec6ba2-af1b-4037-9e01-3d108faa937b                   NaN  True  \n",
              "1        40ec6ba2-af1b-4037-9e01-3d108faa937b                   NaN  True  \n",
              "2        40ec6ba2-af1b-4037-9e01-3d108faa937b                   NaN  True  \n",
              "3        40ec6ba2-af1b-4037-9e01-3d108faa937b                   NaN  True  \n",
              "4        40ec6ba2-af1b-4037-9e01-3d108faa937b                   NaN  True  \n",
              "...                                       ...                   ...   ...  \n",
              "5898191  40ec6ba2-af1b-4037-9e01-3d108faa937b                   NaN  True  \n",
              "5898192  40ec6ba2-af1b-4037-9e01-3d108faa937b                   NaN  True  \n",
              "5898193  40ec6ba2-af1b-4037-9e01-3d108faa937b                   NaN  True  \n",
              "5898194  40ec6ba2-af1b-4037-9e01-3d108faa937b                   NaN  True  \n",
              "5898195  40ec6ba2-af1b-4037-9e01-3d108faa937b                   NaN  True  \n",
              "\n",
              "[17903 rows x 8 columns]"
            ]
          },
          "execution_count": 51,
          "metadata": {},
          "output_type": "execute_result"
        }
      ],
      "source": [
        "dk"
      ]
    },
    {
      "cell_type": "markdown",
      "id": "74b4cc35",
      "metadata": {
        "id": "74b4cc35"
      },
      "source": [
        "\n",
        "\n",
        "\n",
        "\n",
        "\n",
        "Separating transactinal msgs for data with a particular user with user_id='40ec6ba2-af1b-4037-9e01-3d108faa937b'\n",
        "\n",
        "\n",
        "\n",
        "\n",
        "\n"
      ]
    },
    {
      "cell_type": "code",
      "execution_count": null,
      "id": "927b47f7",
      "metadata": {
        "id": "927b47f7",
        "outputId": "d4980758-5f0b-4d84-a48c-8172f292d93e"
      },
      "outputs": [
        {
          "name": "stdout",
          "output_type": "stream",
          "text": [
            "Original dataframe: (1898953, 8)\n",
            "Pre-processed dataframe: (13048, 2)\n"
          ]
        }
      ],
      "source": [
        "custom_stopwords = set(stopwords.words(\"english\"))\n",
        "text_columns = [\"message\"]\n",
        "\n",
        "df = dk.copy()\n",
        "df[\"message\"] = df[\"message\"].fillna(\"\")\n",
        "df[\"message\"] = df[\"message\"].astype(str)\n",
        "\n",
        "# Create text column based on title, description, and content\n",
        "df[\"text\"] = df[text_columns].apply(lambda x: \" | \".join(x), axis=1)\n",
        "df[\"tokens\"] = df[\"text\"].map(lambda x: clean_text(x, word_tokenize, custom_stopwords))\n",
        "\n",
        "# Remove duplicated after preprocessing\n",
        "_, idx = np.unique(df[\"tokens\"], return_index=True)\n",
        "df = df.iloc[idx, :]\n",
        "\n",
        "# Remove empty values\n",
        "df = df.loc[df.tokens.map(lambda x: len(x) > 0), [\"text\", \"tokens\"]]\n",
        "\n",
        "print(f\"Original dataframe: {data.shape}\")\n",
        "print(f\"Pre-processed dataframe: {df.shape}\")"
      ]
    },
    {
      "cell_type": "markdown",
      "id": "18894d17",
      "metadata": {
        "id": "18894d17"
      },
      "source": [
        "output:Original dataframe: (1898953, 8)\n",
        "Pre-processed dataframe: (13048, 2)"
      ]
    },
    {
      "cell_type": "code",
      "execution_count": null,
      "id": "97c401f6",
      "metadata": {
        "id": "97c401f6"
      },
      "outputs": [],
      "source": [
        "docs = df[\"text\"].values\n",
        "tokenized_docs = df[\"tokens\"].values\n",
        "vocab = Counter()\n",
        "for token in tokenized_docs:\n",
        "    vocab.update(token)"
      ]
    },
    {
      "cell_type": "code",
      "execution_count": null,
      "id": "27c756a0",
      "metadata": {
        "id": "27c756a0"
      },
      "outputs": [],
      "source": [
        "model = Word2Vec(sentences=tokenized_docs, vector_size=100, workers=1, seed=42)"
      ]
    },
    {
      "cell_type": "code",
      "execution_count": null,
      "id": "76edfc36",
      "metadata": {
        "id": "76edfc36",
        "outputId": "3a5a4f1d-1d3e-432b-f971-79bcee1a200c"
      },
      "outputs": [
        {
          "data": {
            "text/plain": [
              "(13048, 100)"
            ]
          },
          "execution_count": 55,
          "metadata": {},
          "output_type": "execute_result"
        }
      ],
      "source": [
        "vectorized_docs = vectorize(tokenized_docs, model=model)\n",
        "len(vectorized_docs), len(vectorized_docs[0])\n"
      ]
    },
    {
      "cell_type": "markdown",
      "id": "be763b78",
      "metadata": {
        "id": "be763b78"
      },
      "source": [
        "output:(13048, 100)"
      ]
    },
    {
      "cell_type": "code",
      "execution_count": null,
      "id": "631638b6",
      "metadata": {
        "id": "631638b6",
        "outputId": "5c834faa-4f93-46a2-d0a1-f1a20f255e89"
      },
      "outputs": [
        {
          "name": "stdout",
          "output_type": "stream",
          "text": [
            "For n_clusters = 3\n",
            "Silhouette coefficient: 0.25\n",
            "Inertia:41578.341939507634\n",
            "Silhouette values:\n",
            "    Cluster 1: Size:2260 | Avg:0.46 | Min:-0.03 | Max: 0.65\n",
            "    Cluster 2: Size:5512 | Avg:0.26 | Min:0.01 | Max: 0.44\n",
            "    Cluster 0: Size:5276 | Avg:0.15 | Min:-0.09 | Max: 0.35\n"
          ]
        }
      ],
      "source": [
        "clustering, cluster_labels = mbkmeans_clusters(X=vectorized_docs, k=3, print_silhouette_values=True)\n",
        "df_clusters = pd.DataFrame({\n",
        "    \"text\": docs,\n",
        "    \"tokens\": [\" \".join(text) for text in tokenized_docs],\n",
        "    \"cluster\": cluster_labels\n",
        "})"
      ]
    },
    {
      "cell_type": "markdown",
      "id": "9f9681fa",
      "metadata": {
        "id": "9f9681fa"
      },
      "source": [
        "Output: For n_clusters = 3\n",
        "Silhouette coefficient: 0.24\n",
        "Inertia:41642.0371021783\n",
        "Silhouette values:\n",
        "    Cluster 1: Size:2154 | Avg:0.47 | Min:0.00 | Max: 0.66\n",
        "    Cluster 2: Size:4994 | Avg:0.24 | Min:-0.02 | Max: 0.42\n",
        "    Cluster 0: Size:5900 | Avg:0.17 | Min:-0.08 | Max: 0.36"
      ]
    },
    {
      "cell_type": "markdown",
      "id": "856165e3",
      "metadata": {
        "id": "856165e3"
      },
      "source": [
        "Cluster 1 consists of transactional msgs"
      ]
    },
    {
      "cell_type": "code",
      "execution_count": null,
      "id": "20c2da86",
      "metadata": {
        "id": "20c2da86",
        "outputId": "7963e92b-d7ca-4751-e368-77e3e920c2f0"
      },
      "outputs": [
        {
          "name": "stdout",
          "output_type": "stream",
          "text": [
            "Top terms per cluster (based on centroids):\n",
            "Cluster 0: less additional offertc od rs22241lakh \n",
            "Cluster 1: debited inr dbs vpa xxxxxxx1541 \n",
            "Cluster 2: rs559989 rs565589 completed accept wise \n"
          ]
        }
      ],
      "source": [
        "print(\"Top terms per cluster (based on centroids):\")\n",
        "for i in range(3):\n",
        "    tokens_per_cluster = \"\"\n",
        "    most_representative = model.wv.most_similar(positive=[clustering.cluster_centers_[i]], topn=5)\n",
        "    for t in most_representative:\n",
        "        tokens_per_cluster += f\"{t[0]} \"\n",
        "    print(f\"Cluster {i}: {tokens_per_cluster}\")"
      ]
    },
    {
      "cell_type": "markdown",
      "id": "3351bb4e",
      "metadata": {
        "id": "3351bb4e"
      },
      "source": [
        " Cluster 0 : Offers\n",
        " Cluster 1 : Trasactions\n",
        " Cluster 2 : Info\n",
        " 15 Transactional messsages( Cluster =2 )for user_id='40ec6ba2-af1b-4037-9e01-3d108faa937b'"
      ]
    },
    {
      "cell_type": "code",
      "execution_count": null,
      "id": "d53667c7",
      "metadata": {
        "id": "d53667c7",
        "outputId": "ca55b3eb-4cfe-437d-b5c4-e5c43888a2b8"
      },
      "outputs": [
        {
          "name": "stdout",
          "output_type": "stream",
          "text": [
            "Dear Customer, JioMoney will be available ONLY in MyJio from 15th July, 2020. For easy Jio Recharges, visit MyJio for an enhanced payment experience. To begin, tap here https://bit.ly/2Y70utq\n",
            "-------------\n",
            "Dear Customer, due to COVID-19, we are short-staffed at our Customer Contact Centre and will be available from 10 a.m. to 6 p.m. We encourage you to use Mobile/Net Banking for 24x7 access to your accounts. To know more, click here bit.ly/KotakCECtimings\n",
            "-------------\n",
            "A maintenance charge of Rs.20(incl. GST) will be applied on your Airtel Money Wallet as you have not used it for the last 6 months. If you do not wish to have this charge applied, simply use your wallet for any transaction before 20th July. Please do refer https://i.airtel.in/Terms or call 8800688006 for details.\n",
            "-------------\n",
            "Dear NICB Customer, due to lockdown conditions in most of the areas we are working with reduced capacity and have revised our banking hours temporarily. Branches will now operate from 10:00 AM to 01:00 PM. Also, note that there may be a delay in processing your clearing instruments. We request you to bear with us as other non-essential services during this period may be suspended.\n",
            "-------------\n",
            "Dear Customer, beware of fraudulent SMS, calls from imposters posing as AJIO. Ajio will never ask you to download apps like QuickSupport or AnyDesk or ask for your bank/card details that can be used by fraudster to take control of your device and steal money from your Bank account.\n",
            "-------------\n",
            "Dear Customer, due to COVID-19 and as a measure of abundant caution, from 23 Mar to 31 Mar, 2020 our branches will be available to service you from 10 a.m. to 2 p.m. We request you to use Mobile/Net Banking & ATM for 24x7 access to your account. Click bit.ly/3b3cmjO to know more.\n",
            "-------------\n",
            "Thank you for showing interest in JioPostPaid Plus. Due to the current situation, our teams are operational with limited resources. Rest assured we will onboard you soon.\n",
            "Team Jio\n",
            "-------------\n",
            "Dear Customer, due to COVID-19 and as a measure of abundant caution, our offices will operate with reduced staff. We encourage you to use Mobile/Net Banking for 24x7 access to your accounts. Click here bit.ly/3b3cmjO to know more.\n",
            "-------------\n",
            "digibank Travel Now - booking for flights, bus & hotels can now be done with secure 1-Touch Payment from your DBS account. http://go.dbs.com/TravelNow\n",
            "-------------\n",
            "Dear Citizen, your Teleconsultation is confirmed for 26-May-2020 at 03:00 PM. Please ensure you are logged in to system 10 Mins before your consultation.\n",
            "-------------\n",
            "Dear Customer, during these trying times our branches & call centres are operating with minimum strength. Please use Mobile, Net Banking & ATM for banking needs\n",
            "-------------\n",
            "Dear Customer, please provide your complete address along with a landmark, when requesting for a Debit Card, to enable us to deliver your card on time. Kindly note that you'll receive an AWB number from our courier partner for tracking purposes, post the dispatch & the Debit Card will be delivered to you within 7 working days.However,kindly note the shipment might get slightly delayed if the delivery area falls within the govt notified containment zones. Please use the AWB number to track your card, on our delivery partner's website, for a seamless delivery experience.\n",
            "-------------\n",
            "We have noticed that you haven't used your Jio Payments Bank(JPB) PPI account in last 12 months. For safety reasons, we are disabling transactions in your PPI account. To resume using your JPB PPI account, please call CARE at 18008919999\n",
            "-------------\n",
            "Dear Customer, your BEWAKOOF \"Pre-paid\" shipment awb 2739271053 is out for delivery by ECOM EXPRESS executive Ph: 08061914615 PIN: 5875\n",
            "-------------\n",
            "Dear Niraj Sachdev, \n",
            "From 1st June 2020, you need to use CDSL TPIN sent on your registered mobile and Email while placing the Sell Delivery/Margin order. Please save and store TPIN for all future Sell Delivery/Margin Orders. In case TPIN is re-generated, it is usable only after 6 minutes post generation. Click http://nmc.sg/eOln8z for more details\n",
            "-------------\n"
          ]
        }
      ],
      "source": [
        "\n",
        "test_cluster = 2\n",
        "most_representative_docs = np.argsort(\n",
        "    np.linalg.norm(vectorized_docs - clustering.cluster_centers_[test_cluster], axis=1)\n",
        ")\n",
        "for d in most_representative_docs[:15]:\n",
        "    print(docs[d])\n",
        "    print(\"-------------\")"
      ]
    },
    {
      "cell_type": "markdown",
      "id": "dbe0dc13",
      "metadata": {
        "id": "dbe0dc13"
      },
      "source": [
        "Each transactional msg is split into a list of strings using split function"
      ]
    },
    {
      "cell_type": "code",
      "execution_count": null,
      "id": "7f7c88d6",
      "metadata": {
        "id": "7f7c88d6",
        "outputId": "ec92aeb6-b331-4e74-879b-a65ad965543b"
      },
      "outputs": [
        {
          "name": "stdout",
          "output_type": "stream",
          "text": [
            "['Dear', 'Customer,', 'your', 'ICICI', 'Bank', 'Account', 'XX481', 'has', 'been', 'credited', 'with', 'INR', '7,198.19', 'on', '16-Sep-21.', 'Info:EBA*BSE', 'N', '202122114*20210916082932.', 'The', 'Available', 'Balance', 'is', 'INR', '9,409.75.']\n",
            ".........................\n",
            "['Dear', 'Customer,', 'ICICI', 'Bank', 'Account', 'XX481', 'is', 'debited', 'with', 'INR', '6,907.50', 'on', '03-Sep-21.', 'Info:', 'EBA*BSE', 'N', '202.', 'The', 'Available', 'Balance', 'is', 'INR', '24,864.78.', 'Call', '18002662', 'for', 'dispute', 'or', 'SMS', 'BLOCK', '481', 'to', '9215676766']\n",
            ".........................\n",
            "['Dear', 'Customer,', 'ICICI', 'Bank', 'Account', 'XX481', 'is', 'debited', 'with', 'INR', '5,981.50', 'on', '08-Sep-21.', 'Info:', 'EBA*NSE', 'N', '202.', 'The', 'Available', 'Balance', 'is', 'INR', '9,073.80.', 'Call', '18002662', 'for', 'dispute', 'or', 'SMS', 'BLOCK', '481', 'to', '9215676766']\n",
            ".........................\n",
            "['Dear', 'Customer,', 'Account', 'XXX481', 'is', 'credited', 'with', 'INR', '25000.00', 'on', '30-Aug-21', 'from', 'nirajsachdev1@ybl.', 'UPI', 'Ref.', 'no.', '124253349635', '-', 'ICICI', 'Bank.']\n",
            ".........................\n",
            "['Dear', 'Customer,', 'Account', 'XXX481', 'is', 'credited', 'with', 'INR', '100.00', 'on', '07-Aug-21', 'from', 'ketan.k.kava@okaxis.', 'UPI', 'Ref.', 'no.', '121900092094', '-', 'ICICI', 'Bank.']\n",
            ".........................\n",
            "['Dear', 'Customer,', 'your', 'DBS', 'account', 'no', '********0809', 'is', 'credited', 'with', 'INR', '200', 'on', '06-09-2021', 'and', 'is', 'subject', 'to', 'clearance.', 'Current', 'Balance', 'is', 'INR', '231.4.']\n",
            ".........................\n",
            "['Dear', 'Customer,', 'Account', 'XXX481', 'is', 'credited', 'with', 'INR', '13995.00', 'on', '30-Aug-21', 'from', 'nirajsachdev1@axl.', 'UPI', 'Ref.', 'no.', '124215703717', '-', 'ICICI', 'Bank.']\n",
            ".........................\n",
            "['Dear', 'Customer,', 'Account', 'XXX481', 'is', 'credited', 'with', 'INR', '162.90', 'on', '01-Aug-21', 'from', 'yulu.bike.payu@hdfcbank.', 'UPI', 'Ref.', 'no.', '121393572282', '-', 'ICICI', 'Bank.']\n",
            ".........................\n",
            "['Dear', 'Customer,', 'Account', 'XXX481', 'is', 'credited', 'with', 'INR', '10000.00', 'on', '26-Jul-21', 'from', 'niraj.sachdev1@ybl.', 'UPI', 'Ref.', 'no.', '120787867529', '-', 'ICICI', 'Bank.']\n",
            ".........................\n",
            "['Dear', 'Customer,', 'Account', 'XXX481', 'is', 'credited', 'with', 'INR', '200.00', 'on', '12-Sep-21', 'from', 'partht8958-1@oksbi.', 'UPI', 'Ref.', 'no.', '125500098702', '-', 'ICICI', 'Bank.']\n",
            ".........................\n",
            "['Dear', 'Customer,', 'Account', 'XXX481', 'is', 'credited', 'with', 'INR', '199.00', 'on', '14-Sep-21', 'from', 'yulu.bike.payu@hdfcbank.', 'UPI', 'Ref.', 'no.', '125740811080', '-', 'ICICI', 'Bank.']\n",
            ".........................\n",
            "['Rs', '119.00', 'debited', 'from', 'a/c', '**1541', 'on', '20-03-20', 'to', 'VPA', 'zomato-order@paytm(UPI', 'Ref', 'No', '008009998680).', 'Not', 'you?', 'Call', 'on', '18002586161', 'to', 'report']\n",
            ".........................\n",
            "['Dear', 'Customer,', 'Account', 'XXX481', 'is', 'credited', 'with', 'INR', '19801.00', 'on', '30-Jul-21', 'from', 'nirajsachdev1@axl.', 'UPI', 'Ref.', 'no.', '121184210349', '-', 'ICICI', 'Bank.']\n",
            ".........................\n",
            "['Dear', 'Customer,', 'Account', 'XXX481', 'is', 'credited', 'with', 'INR', '600.00', 'on', '30-Jul-21', 'from', 'k.amaad4u-1@okicici.', 'UPI', 'Ref.', 'no.', '121105775845', '-', 'ICICI', 'Bank.']\n",
            ".........................\n",
            "['Your', 'VPA', 'nirajsachdev@dbs', 'linked', 'to', 'DBS', 'Bank', 'India', 'Limited', 'a/c', 'no.', '********0809', 'is', 'debited', 'for', '₹249.0', 'and', 'the', 'amount', 'is', 'credited', 'to', 'VPA', 'nearbuygroup@paytm', '(UPI', 'Ref', 'no', '107819013751).']\n",
            ".........................\n"
          ]
        }
      ],
      "source": [
        "for d in most_representative_docs[:15]:\n",
        "    res=docs[d].split()\n",
        "    \n",
        "    print(res)\n",
        "    print(\".........................\")"
      ]
    },
    {
      "cell_type": "markdown",
      "id": "c141f030",
      "metadata": {
        "id": "c141f030"
      },
      "source": [
        "User balance for user_id='40ec6ba2-af1b-4037-9e01-3d108faa937b'"
      ]
    },
    {
      "cell_type": "code",
      "execution_count": null,
      "id": "0a6c2548",
      "metadata": {
        "id": "0a6c2548",
        "outputId": "35dd9d08-1caf-4380-ff63-382f3f52f6db"
      },
      "outputs": [
        {
          "name": "stdout",
          "output_type": "stream",
          "text": [
            "806558.96\n"
          ]
        }
      ],
      "source": [
        "cred_t=0\n",
        "for d in most_representative_docs[:]:\n",
        "    res=docs[d].split()\n",
        "    #print\n",
        "    #b1=\n",
        "    for i in range(len(res)): \n",
        "        if res[i]==\"credited\":\n",
        "             for j in range(len(res)):\n",
        "                if res[j]==\"INR\":\n",
        "                    cred_t+=float(res[j+1].replace(\",\", \"\"))\n",
        "                    #print(cred_t)\n",
        "                    break\n",
        "                elif res[j]==\"Rs\":\n",
        "                    cred_t+=float(res[j+1].replace(\",\", \"\"))\n",
        "                    break\n",
        "              \n",
        "        elif res[i]==\"debited\":\n",
        "              for j in range(len(res)):\n",
        "                if res[j]==\"INR\":\n",
        "                    cred_t-=float(res[j+1].replace(\",\", \"\"))\n",
        "                    #print(cred_t)\n",
        "                    break\n",
        "                elif res[j]==\"Rs\":\n",
        "                    cred_t-=float(res[j+1].replace(\",\", \"\"))\n",
        "                    break\n",
        "print(cred_t)   \n",
        "            \n",
        "      "
      ]
    },
    {
      "cell_type": "markdown",
      "id": "5578f7bb",
      "metadata": {
        "id": "5578f7bb"
      },
      "source": [
        "Output:806558.96"
      ]
    },
    {
      "cell_type": "code",
      "execution_count": null,
      "id": "f124d836",
      "metadata": {
        "id": "f124d836"
      },
      "outputs": [],
      "source": [
        "#Total credited amount for user_id='40ec6ba2-af1b-4037-9e01-3d108faa937b'"
      ]
    },
    {
      "cell_type": "code",
      "execution_count": null,
      "id": "93b47870",
      "metadata": {
        "id": "93b47870",
        "outputId": "ec02b9b1-6909-4cc4-d887-4d0dd1d431f4"
      },
      "outputs": [
        {
          "name": "stdout",
          "output_type": "stream",
          "text": [
            "1805521.81\n"
          ]
        }
      ],
      "source": [
        "cred_t=0\n",
        "for d in most_representative_docs[:]:\n",
        "    res=docs[d].split()\n",
        "    #print\n",
        "    #b1=\n",
        "    for i in range(len(res)): \n",
        "        if res[i]==\"credited\":\n",
        "             for j in range(len(res)):\n",
        "                if res[j]==\"INR\":\n",
        "                    cred_t+=float(res[j+1].replace(\",\", \"\"))\n",
        "                    #print(cred_t)\n",
        "                    break\n",
        "                elif res[j]==\"Rs\":\n",
        "                    cred_t+=float(res[j+1].replace(\",\", \"\"))\n",
        "                    break\n",
        "print(cred_t)             "
      ]
    },
    {
      "cell_type": "markdown",
      "id": "12554483",
      "metadata": {
        "id": "12554483"
      },
      "source": [
        "Output:1805521.81"
      ]
    },
    {
      "cell_type": "code",
      "execution_count": null,
      "id": "772e63c1",
      "metadata": {
        "id": "772e63c1"
      },
      "outputs": [],
      "source": [
        "#Total debited amount for user_id='40ec6ba2-af1b-4037-9e01-3d108faa937b'"
      ]
    },
    {
      "cell_type": "code",
      "execution_count": null,
      "id": "baf98bd4",
      "metadata": {
        "id": "baf98bd4",
        "outputId": "12b03941-72c9-474e-e2d3-5f07883fa6ce"
      },
      "outputs": [
        {
          "name": "stdout",
          "output_type": "stream",
          "text": [
            "998962.85\n"
          ]
        }
      ],
      "source": [
        "cred_t=0\n",
        "for d in most_representative_docs[:]:\n",
        "    res=docs[d].split()\n",
        "    #print\n",
        "    #b1=\n",
        "    for i in range(len(res)): \n",
        "        if res[i]==\"debited\":\n",
        "             for j in range(len(res)):\n",
        "                if res[j]==\"INR\":\n",
        "                    cred_t+=float(res[j+1].replace(\",\", \"\"))\n",
        "                    #print(cred_t)\n",
        "                    break\n",
        "                elif res[j]==\"Rs\":\n",
        "                    cred_t+=float(res[j+1].replace(\",\", \"\"))\n",
        "                    break\n",
        "print(cred_t)              "
      ]
    },
    {
      "cell_type": "markdown",
      "id": "201e51a0",
      "metadata": {
        "id": "201e51a0"
      },
      "source": [
        "Output:998962.85"
      ]
    }
  ],
  "metadata": {
    "kernelspec": {
      "display_name": "Python 3",
      "language": "python",
      "name": "python3"
    },
    "language_info": {
      "codemirror_mode": {
        "name": "ipython",
        "version": 3
      },
      "file_extension": ".py",
      "mimetype": "text/x-python",
      "name": "python",
      "nbconvert_exporter": "python",
      "pygments_lexer": "ipython3",
      "version": "3.8.8"
    },
    "colab": {
      "name": "grow90_ME18B139 - Gonti Greeshma Theresa me18b139.ipynb",
      "provenance": []
    }
  },
  "nbformat": 4,
  "nbformat_minor": 5
}