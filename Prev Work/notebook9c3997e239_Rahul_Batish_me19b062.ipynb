{
  "metadata": {
    "kernelspec": {
      "language": "python",
      "display_name": "Python 3",
      "name": "python3"
    },
    "language_info": {
      "name": "python",
      "version": "3.7.10",
      "mimetype": "text/x-python",
      "codemirror_mode": {
        "name": "ipython",
        "version": 3
      },
      "pygments_lexer": "ipython3",
      "nbconvert_exporter": "python",
      "file_extension": ".py"
    },
    "colab": {
      "name": "notebook9c3997e239 - Rahul Batish me19b062.ipynb",
      "provenance": []
    }
  },
  "nbformat_minor": 0,
  "nbformat": 4,
  "cells": [
    {
      "cell_type": "markdown",
      "source": [
        "# PACKAGES AND MODULES INSTALLATION AND IMPORTING"
      ],
      "metadata": {
        "id": "ZphmU5d8ZrH0"
      }
    },
    {
      "cell_type": "code",
      "source": [
        "!pip install duckling\n",
        "!pip install language\n",
        "!pip install dim\n",
        "! conda install -y gdown \n",
        "!pip install Jpype1==0.7.5\n",
        "\n",
        "import numpy as np # linear algebra\n",
        "import pandas as pd # data processing, CSV file I/O (e.g. pd.read_csv)"
      ],
      "metadata": {
        "trusted": true,
        "id": "31JjBRC6ZrIB"
      },
      "execution_count": null,
      "outputs": []
    },
    {
      "cell_type": "markdown",
      "source": [
        "# DATA IMPORTING"
      ],
      "metadata": {
        "id": "LHTxf1yvZrIK"
      }
    },
    {
      "cell_type": "code",
      "source": [
        "!gdown --id 11pTm8RHNk8mMtgmbHndygZINdwrojS7R\n",
        "\n",
        "import pandas as pd\n",
        "data=pd.read_json(\"./data_small.json\")"
      ],
      "metadata": {
        "trusted": true,
        "id": "YAc69_a6ZrIO"
      },
      "execution_count": null,
      "outputs": []
    },
    {
      "cell_type": "markdown",
      "source": [
        "## DECLARATION OF DIM AND LANGUAGE FOR DUCKLING"
      ],
      "metadata": {
        "id": "QxBz5kSqZrIS"
      }
    },
    {
      "cell_type": "code",
      "source": [
        "class Dim(object):\n",
        "\n",
        "    \"\"\"Helper class containing all supported dimensions\n",
        "    \"\"\"\n",
        "\n",
        "    AMOUNTOFMONEY = u'amount-of-money'\n",
        "    CYCLE = u'cycle'\n",
        "    DISTANCE = u'distance'\n",
        "    DURATION = u'duration'\n",
        "    EMAIL = u'email'\n",
        "    LEVENPRODUCT = u'leven-product'\n",
        "    LEVENUNIT = u'leven-unit'\n",
        "    NUMBER = u'number'\n",
        "    ORDINAL = u'ordinal'\n",
        "    PHONENUMBER = u'phone-number'\n",
        "    QUANTITY = u'quantity'\n",
        "    TEMPERATURE = u'temperature'\n",
        "    TIME = u'time'\n",
        "    TIMEZONE = u'timezone'\n",
        "    UNIT = u'unit'\n",
        "    UNITOFDURATION = u'unit-of-duration'\n",
        "    URL = u'url'\n",
        "    VOLUME = u'volume'\n",
        "\n",
        "class Language(object):\n",
        "\n",
        "    \"\"\"Helper class containing all supported languages\n",
        "    \"\"\"\n",
        "\n",
        "    ARABIC = 'ar$core'\n",
        "    DANISH = 'da$core'\n",
        "    GERMAN = 'de$core'\n",
        "    ENGLISH = 'en$core'\n",
        "    SPANISH = 'es$core'\n",
        "    ESTONIAN = 'et$core'\n",
        "    FRENCH = 'fr$core'\n",
        "    IRISH = 'ga$core'\n",
        "    INDONESIAN = 'id$core'\n",
        "    ITALIAN = 'it$core'\n",
        "    JAPANESE = 'ja$core'\n",
        "    KOREAN = 'ko$core'\n",
        "    PORTUGUESE = 'pt$core'\n",
        "    RUSSIAN = 'ru$core'\n",
        "    UKRAINIAN = 'uk$core'\n",
        "    VIETNAMESE = 'vi$core'\n",
        "    CHINESE = 'zh$core'\n",
        "\n",
        "    SUPPORTED_LANGUAGES = {\n",
        "        ARABIC,\n",
        "        DANISH,\n",
        "        GERMAN,\n",
        "        ENGLISH,\n",
        "        SPANISH,\n",
        "        ESTONIAN,\n",
        "        FRENCH,\n",
        "        IRISH,\n",
        "        INDONESIAN,\n",
        "        ITALIAN,\n",
        "        JAPANESE,\n",
        "        KOREAN,\n",
        "        PORTUGUESE,\n",
        "        RUSSIAN,\n",
        "        UKRAINIAN,\n",
        "        VIETNAMESE,\n",
        "        CHINESE,\n",
        "    }\n",
        "\n",
        "    @classmethod\n",
        "    def is_supported(cls, lang):\n",
        "        \"\"\"Check if a language is supported by the current duckling version.\"\"\"\n",
        "\n",
        "        return lang in cls.SUPPORTED_LANGUAGES\n",
        "\n",
        "    @classmethod\n",
        "    def convert_to_duckling_language_id(cls, lang):\n",
        "        \"\"\"Ensure a language identifier has the correct duckling format and is supported.\"\"\"\n",
        "\n",
        "        if lang is not None and cls.is_supported(lang):\n",
        "            return lang\n",
        "        elif lang is not None and cls.is_supported(lang + \"$core\"):   # Support ISO 639-1 Language Codes (e.g. \"en\")\n",
        "            return lang + \"$core\"\n",
        "        else:\n",
        "            raise ValueError(\"Unsupported language '{}'. Supported languages: {}\".format(\n",
        "                lang, \", \".join(cls.SUPPORTED_LANGUAGES)))\n",
        "\n",
        "    @classmethod\n",
        "    def convert_to_iso(cls, lang):\n",
        "        return cls.convert_to_duckling_language_id(lang)[:2]"
      ],
      "metadata": {
        "execution": {
          "iopub.status.busy": "2021-10-09T17:41:41.582061Z",
          "iopub.execute_input": "2021-10-09T17:41:41.582383Z",
          "iopub.status.idle": "2021-10-09T17:41:41.598057Z",
          "shell.execute_reply.started": "2021-10-09T17:41:41.582353Z",
          "shell.execute_reply": "2021-10-09T17:41:41.596158Z"
        },
        "trusted": true,
        "id": "o7pwzyTUZrIW"
      },
      "execution_count": null,
      "outputs": []
    },
    {
      "cell_type": "markdown",
      "source": [
        "# DECLARATION FOR DUCKLING"
      ],
      "metadata": {
        "id": "RwZHJR-xZrIg"
      }
    },
    {
      "cell_type": "code",
      "source": [
        "from duckling import DucklingWrapper\n",
        "from duckling import Duckling\n",
        "\n",
        "\n",
        "\n",
        "class DucklingWrapper(object):\n",
        "\n",
        "    \"\"\"Simplified Python wrapper for Duckling by wit.ai.\n",
        "    Attributes:\n",
        "        jvm_started: Optional attribute to specify if the JVM has already been\n",
        "            started (with all Java dependencies loaded).\n",
        "        parse_datetime: Optional attribute to specify if datetime string should\n",
        "            be parsed with datetime.strptime(). Default is False.\n",
        "        language: Optional attribute to specify language to be used with\n",
        "            Duckling. Default is Language.ENGLISH. E.g. Duckling.GERMAN or supported ISO 639-1 Code (e.g. \"de\")\n",
        "        minimum_heap_size: Optional attribute to set initial and minimum heap\n",
        "            size. Default is 128m.\n",
        "        maximum_heap_size: Optional attribute to set maximum heap size. Default\n",
        "            is 2048m.\n",
        "    \"\"\"\n",
        "\n",
        "    def __init__(self,\n",
        "                 jvm_started=False,\n",
        "                 parse_datetime=False,\n",
        "                 language=Language.ENGLISH,\n",
        "                 minimum_heap_size='128m',\n",
        "                 maximum_heap_size='2048m'):\n",
        "        super(DucklingWrapper, self).__init__()\n",
        "        self.language = Language.convert_to_duckling_language_id(language)\n",
        "        self.duckling = Duckling(\n",
        "            jvm_started=jvm_started,\n",
        "            parse_datetime=parse_datetime,\n",
        "            minimum_heap_size=minimum_heap_size,\n",
        "            maximum_heap_size=maximum_heap_size)\n",
        "        self.duckling.load()\n",
        "        self._dims = {\n",
        "            Dim.TIME:           self._parse_time,\n",
        "            Dim.TEMPERATURE:    self._parse_number_with_unit,\n",
        "            Dim.NUMBER:         self._parse_basic_info,\n",
        "            Dim.ORDINAL:        self._parse_basic_info,\n",
        "            Dim.DISTANCE:       self._parse_number_with_unit,\n",
        "            Dim.VOLUME:         self._parse_volume,\n",
        "            Dim.AMOUNTOFMONEY:  self._parse_number_with_unit,\n",
        "            Dim.DURATION:       self._parse_duration,\n",
        "            Dim.EMAIL:          self._parse_basic_info,\n",
        "            Dim.URL:            self._parse_basic_info,\n",
        "            Dim.PHONENUMBER:    self._parse_basic_info,\n",
        "            Dim.TIMEZONE:       self._parse_basic_info,\n",
        "            Dim.LEVENPRODUCT:   self._parse_basic_info,\n",
        "            Dim.LEVENUNIT:      self._parse_basic_info,\n",
        "            Dim.QUANTITY:       self._parse_quantity,\n",
        "\n",
        "            Dim.CYCLE:          self._parse_basic_info,\n",
        "            Dim.UNIT:           self._parse_basic_info,\n",
        "            Dim.UNITOFDURATION: self._parse_basic_info\n",
        "\n",
        "        }\n",
        "\n",
        "    def _parse(self, input_str, dim=None, reference_time=''):\n",
        "        result = []\n",
        "        duckling_result = self.duckling.parse(\n",
        "            input_str, self.language, dim_filter=dim,\n",
        "            reference_time=reference_time)\n",
        "        for entry in duckling_result:\n",
        "            if entry[u'dim'] in self._dims:\n",
        "                result_entry = self._dims[entry[u'dim']](entry)\n",
        "                result.append(result_entry)\n",
        "        return result\n",
        "\n",
        "    def _parse_basic_info(self, duckling_result_entry):\n",
        "        result_entry = {\n",
        "            u'dim': duckling_result_entry[u'dim'],\n",
        "            u'text': duckling_result_entry[u'body'],\n",
        "            u'start': duckling_result_entry[u'start'],\n",
        "            u'end': duckling_result_entry[u'end'],\n",
        "            u'value': {\n",
        "                u'value': duckling_result_entry[u'value'].get(u'value', None)\n",
        "            }\n",
        "        }\n",
        "        if u'grain' in duckling_result_entry[u'value']:\n",
        "            result_entry[u'value'][u'grain'] = duckling_result_entry[u'value'].get(u'grain', None)\n",
        "        return result_entry\n",
        "\n",
        "    def _parse_number_with_unit(self, duckling_result_entry):\n",
        "        result_entry = self._parse_basic_info(duckling_result_entry)\n",
        "        result_entry[u'value'].update({\n",
        "            u'unit': duckling_result_entry[u'value'].get(u'unit', None)\n",
        "        })\n",
        "        return result_entry\n",
        "\n",
        "    def _is_interval(self, duckling_result_entry):\n",
        "        return u'from' in duckling_result_entry[u'value'] or \\\n",
        "            u'to' in duckling_result_entry[u'value']\n",
        "\n",
        "    def _parse_interval(self, result_entry, duckling_result_entry):\n",
        "        result_entry[u'value'].update({\n",
        "            u'value': {\n",
        "                u'to': duckling_result_entry[u'value'].get(u'to', {}).get(u'value', None),\n",
        "                u'from': duckling_result_entry[u'value'].get(u'from', {}).get(u'value', None)\n",
        "            },\n",
        "            u'others': []\n",
        "        })\n",
        "        for value in duckling_result_entry[u'value'][u'values']:\n",
        "            result_entry[u'value'][u'others'].append({\n",
        "                u'to': value.get(u'to', {}).get(u'value', None),\n",
        "                u'from': value.get(u'from', {}).get(u'value', None)\n",
        "            })\n",
        "        return result_entry\n",
        "\n",
        "    def _parse_time(self, duckling_result_entry):\n",
        "        result_entry = self._parse_basic_info(duckling_result_entry)\n",
        "        if self._is_interval(duckling_result_entry):\n",
        "            return self._parse_interval(result_entry, duckling_result_entry)\n",
        "        result_entry[u'value'].update({\n",
        "            u'others': []\n",
        "        })\n",
        "        for value in duckling_result_entry[u'value'][u'values']:\n",
        "            result_entry[u'value'][u'others'].append({\n",
        "                u'grain': value[u'grain'],\n",
        "                u'value': value[u'value']\n",
        "            })\n",
        "        return result_entry\n",
        "\n",
        "    def _parse_volume(self, duckling_result_entry):\n",
        "        result_entry = self._parse_basic_info(duckling_result_entry)\n",
        "        result_entry[u'value'].update({\n",
        "            u'unit': duckling_result_entry[u'value'][u'unit']\n",
        "            if u'unit' in duckling_result_entry[u'value'] else None,\n",
        "            u'latent': duckling_result_entry[u'latent']\n",
        "            if u'latent' in duckling_result_entry else False\n",
        "        })\n",
        "        return result_entry\n",
        "\n",
        "    def _parse_duration(self, duckling_result_entry):\n",
        "        result_entry = self._parse_basic_info(duckling_result_entry)\n",
        "        result_entry[u'value'].update({\n",
        "            u'unit': duckling_result_entry[u'value'][u'unit']\n",
        "            if u'unit' in duckling_result_entry[u'value'] else None,\n",
        "            u'year': duckling_result_entry[u'value'][u'year']\n",
        "            if u'year' in duckling_result_entry[u'value'] else None,\n",
        "            u'month': duckling_result_entry[u'value'][u'month']\n",
        "            if u'month' in duckling_result_entry[u'value'] else None,\n",
        "            u'day': duckling_result_entry[u'value'][u'day']\n",
        "            if u'day' in duckling_result_entry[u'value'] else None,\n",
        "            u'hour': duckling_result_entry[u'value'][u'hour']\n",
        "            if u'hour' in duckling_result_entry[u'value'] else None,\n",
        "            u'minute': duckling_result_entry[u'value'][u'minute']\n",
        "            if u'minute' in duckling_result_entry[u'value'] else None,\n",
        "            u'second': duckling_result_entry[u'value'][u'second']\n",
        "            if u'second' in duckling_result_entry[u'value'] else None\n",
        "        })\n",
        "        return result_entry\n",
        "\n",
        "    def _parse_quantity(self, duckling_result_entry):\n",
        "        result_entry = self._parse_basic_info(duckling_result_entry)\n",
        "        result_entry[u'value'].update({\n",
        "            u'unit': duckling_result_entry[u'value'][u'unit']\n",
        "            if u'unit' in duckling_result_entry[u'value'] else None,\n",
        "            u'product': duckling_result_entry[u'value'][u'product']\n",
        "            if u'product' in duckling_result_entry[u'value'] else None\n",
        "        })\n",
        "        return result_entry\n",
        "\n",
        "    # Public API\n",
        "\n",
        "    def parse(self, input_str, reference_time=''):\n",
        "        \"\"\"Parses input with Duckling for all dims.\n",
        "        Args:\n",
        "            input_str: An input string, e.g. 'You owe me twenty bucks, please\n",
        "                call me today'.\n",
        "            reference_time: Optional reference time for Duckling.\n",
        "        Returns:\n",
        "            A preprocessed list of results (dicts) from Duckling output. For\n",
        "            example:\n",
        "            [\n",
        "               {\n",
        "                  \"dim\":\"number\",\n",
        "                  \"end\":17,\n",
        "                  \"start\":11,\n",
        "                  \"value\":{\n",
        "                     \"value\":20.0\n",
        "                  },\n",
        "                  \"text\":\"twenty\"\n",
        "               },\n",
        "               {\n",
        "                  \"dim\":\"time\",\n",
        "                  \"end\":45,\n",
        "                  \"start\":40,\n",
        "                  \"value\":{\n",
        "                     \"value\":\"2016-10-10T00:00:00.000-07:00\",\n",
        "                     \"others\":[\n",
        "                        \"2016-10-10T00:00:00.000-07:00\"\n",
        "                     ]\n",
        "                  },\n",
        "                  \"text\":\"today\"\n",
        "               },\n",
        "               {\n",
        "                  \"dim\":\"amount-of-money\",\n",
        "                  \"end\":23,\n",
        "                  \"start\":11,\n",
        "                  \"value\":{\n",
        "                     \"unit\":null,\n",
        "                     \"value\":20.0\n",
        "                  },\n",
        "                  \"text\":\"twenty bucks\"\n",
        "               },\n",
        "               {\n",
        "                  \"dim\":\"distance\",\n",
        "                  \"end\":17,\n",
        "                  \"start\":11,\n",
        "                  \"value\":{\n",
        "                     \"unit\":null,\n",
        "                     \"value\":20.0\n",
        "                  },\n",
        "                  \"text\":\"twenty\"\n",
        "               },\n",
        "               {\n",
        "                  \"dim\":\"volume\",\n",
        "                  \"end\":17,\n",
        "                  \"start\":11,\n",
        "                  \"value\":{\n",
        "                     \"latent\":true,\n",
        "                     \"unit\":null,\n",
        "                     \"value\":20.0\n",
        "                  },\n",
        "                  \"text\":\"twenty\"\n",
        "               },\n",
        "               {\n",
        "                  \"dim\":\"temperature\",\n",
        "                  \"end\":17,\n",
        "                  \"start\":11,\n",
        "                  \"value\":{\n",
        "                     \"unit\":null,\n",
        "                     \"value\":20.0\n",
        "                  },\n",
        "                  \"text\":\"twenty\"\n",
        "               },\n",
        "               {\n",
        "                  \"dim\":\"time\",\n",
        "                  \"end\":17,\n",
        "                  \"start\":11,\n",
        "                  \"value\":{\n",
        "                     \"value\":\"2020-01-01T00:00:00.000-08:00\",\n",
        "                     \"others\":[\n",
        "                        \"2020-01-01T00:00:00.000-08:00\"\n",
        "                     ]\n",
        "                  },\n",
        "                  \"text\":\"twenty\"\n",
        "               }\n",
        "            ]\n",
        "        \"\"\"\n",
        "        return self._parse(input_str, reference_time=reference_time)\n",
        "\n",
        "    def parse_time(self, input_str, reference_time=''):\n",
        "        \"\"\"Parses input with Duckling for occurences of times.\n",
        "        Args:\n",
        "            input_str: An input string, e.g. 'Let's meet at 11:45am'.\n",
        "            reference_time: Optional reference time for Duckling.\n",
        "        Returns:\n",
        "            A preprocessed list of results (dicts) from Duckling output. For\n",
        "            example:\n",
        "            [\n",
        "               {\n",
        "                  \"dim\":\"time\",\n",
        "                  \"end\":21,\n",
        "                  \"start\":11,\n",
        "                  \"value\":{\n",
        "                     \"value\":\"2016-10-11T11:45:00.000-07:00\",\n",
        "                     \"others\":[\n",
        "                        \"2016-10-11T11:45:00.000-07:00\",\n",
        "                        \"2016-10-12T11:45:00.000-07:00\",\n",
        "                        \"2016-10-13T11:45:00.000-07:00\"\n",
        "                     ]\n",
        "                  },\n",
        "                  \"text\":\"at 11:45am\"\n",
        "               }\n",
        "            ]\n",
        "        \"\"\"\n",
        "        return self._parse(input_str, dim=Dim.TIME,\n",
        "                           reference_time=reference_time)\n",
        "\n",
        "    def parse_timezone(self, input_str):\n",
        "        \"\"\"Parses input with Duckling for occurences of timezones.\n",
        "        Args:\n",
        "            input_str: An input string, e.g. 'My timezone is pdt'.\n",
        "        Returns:\n",
        "            A preprocessed list of results (dicts) from Duckling output. For\n",
        "            example:\n",
        "            [\n",
        "               {\n",
        "                  \"dim\":\"timezone\",\n",
        "                  \"end\":18,\n",
        "                  \"start\":15,\n",
        "                  \"value\":{\n",
        "                     \"value\":\"PDT\"\n",
        "                  },\n",
        "                  \"text\":\"pdt\"\n",
        "               }\n",
        "            ]\n",
        "        \"\"\"\n",
        "        return self._parse(input_str, dim=Dim.TIMEZONE)\n",
        "\n",
        "    def parse_temperature(self, input_str):\n",
        "        \"\"\"Parses input with Duckling for occurences of temperatures.\n",
        "        Args:\n",
        "            input_str: An input string, e.g. 'Let's change the temperature from\n",
        "                thirty two celsius to 65 degrees'.\n",
        "        Returns:\n",
        "            A preprocessed list of results (dicts) from Duckling output. For\n",
        "            example:\n",
        "            [\n",
        "               {\n",
        "                  \"dim\":\"temperature\",\n",
        "                  \"end\":65,\n",
        "                  \"start\":55,\n",
        "                  \"value\":{\n",
        "                     \"unit\":\"degree\",\n",
        "                     \"value\":65.0\n",
        "                  },\n",
        "                  \"text\":\"65 degrees\"\n",
        "               },\n",
        "               {\n",
        "                  \"dim\":\"temperature\",\n",
        "                  \"end\":51,\n",
        "                  \"start\":33,\n",
        "                  \"value\":{\n",
        "                     \"unit\":\"celsius\",\n",
        "                     \"value\":32.0\n",
        "                  },\n",
        "                  \"text\":\"thirty two celsius\"\n",
        "               }\n",
        "            ]\n",
        "        \"\"\"\n",
        "        return self._parse(input_str, dim=Dim.TEMPERATURE)\n",
        "\n",
        "    def parse_number(self, input_str):\n",
        "        \"\"\"Parses input with Duckling for occurences of numbers.\n",
        "        Args:\n",
        "            input_str: An input string, e.g. 'I'm 25 years old'.\n",
        "        Returns:\n",
        "            A preprocessed list of results (dicts) from Duckling output. For\n",
        "            example:\n",
        "            [\n",
        "               {\n",
        "                  \"dim\":\"number\",\n",
        "                  \"end\":6,\n",
        "                  \"start\":4,\n",
        "                  \"value\":{\n",
        "                     \"value\":25.0\n",
        "                  },\n",
        "                  \"text\":\"25\"\n",
        "               }\n",
        "            ]\n",
        "        \"\"\"\n",
        "        return self._parse(input_str, dim=Dim.NUMBER)\n",
        "\n",
        "    def parse_ordinal(self, input_str):\n",
        "        \"\"\"Parses input with Duckling for occurences of ordinals.\n",
        "        Args:\n",
        "            input_str: An input string, e.g. 'I'm first, you're 2nd'.\n",
        "        Returns:\n",
        "            A preprocessed list of results (dicts) from Duckling output. For\n",
        "            example:\n",
        "            [\n",
        "               {\n",
        "                  \"dim\":\"ordinal\",\n",
        "                  \"end\":9,\n",
        "                  \"start\":4,\n",
        "                  \"value\":{\n",
        "                     \"value\":1\n",
        "                  },\n",
        "                  \"text\":\"first\"\n",
        "               },\n",
        "               {\n",
        "                  \"dim\":\"ordinal\",\n",
        "                  \"end\":21,\n",
        "                  \"start\":18,\n",
        "                  \"value\":{\n",
        "                     \"value\":2\n",
        "                  },\n",
        "                  \"text\":\"2nd\"\n",
        "               }\n",
        "            ]\n",
        "        \"\"\"\n",
        "        return self._parse(input_str, dim=Dim.ORDINAL)\n",
        "\n",
        "    def parse_distance(self, input_str):\n",
        "        \"\"\"Parses input with Duckling for occurences of distances.\n",
        "        Args:\n",
        "            input_str: An input string, e.g. 'I commute 5 miles everyday'.\n",
        "        Returns:\n",
        "            A preprocessed list of results (dicts) from Duckling output. For\n",
        "            example:\n",
        "            [\n",
        "               {\n",
        "                  \"dim\":\"distance\",\n",
        "                  \"end\":17,\n",
        "                  \"start\":10,\n",
        "                  \"value\":{\n",
        "                     \"unit\":\"mile\",\n",
        "                     \"value\":5.0\n",
        "                  },\n",
        "                  \"text\":\"5 miles\"\n",
        "               }\n",
        "            ]\n",
        "        \"\"\"\n",
        "        return self._parse(input_str, dim=Dim.DISTANCE)\n",
        "\n",
        "    def parse_volume(self, input_str):\n",
        "        \"\"\"Parses input with Duckling for occurences of volumes.\n",
        "        Args:\n",
        "            input_str: An input string, e.g. '1 gallon is 3785ml'.\n",
        "        Returns:\n",
        "            A preprocessed list of results (dicts) from Duckling output. For\n",
        "            example:\n",
        "            [\n",
        "               {\n",
        "                  \"dim\":\"volume\",\n",
        "                  \"end\":18,\n",
        "                  \"start\":12,\n",
        "                  \"value\":{\n",
        "                     \"latent\":false,\n",
        "                     \"unit\":\"millilitre\",\n",
        "                     \"value\":3785.0\n",
        "                  },\n",
        "                  \"text\":\"3785ml\"\n",
        "               },\n",
        "               {\n",
        "                  \"dim\":\"volume\",\n",
        "                  \"end\":8,\n",
        "                  \"start\":0,\n",
        "                  \"value\":{\n",
        "                     \"latent\":false,\n",
        "                     \"unit\":\"gallon\",\n",
        "                     \"value\":1.0\n",
        "                  },\n",
        "                  \"text\":\"1 gallon\"\n",
        "               }\n",
        "            ]\n",
        "        \"\"\"\n",
        "        return self._parse(input_str, dim=Dim.VOLUME)\n",
        "\n",
        "    def parse_money(self, input_str):\n",
        "        \"\"\"Parses input with Duckling for occurences of moneys.\n",
        "        Args:\n",
        "            input_str: An input string, e.g. 'You owe me 10 dollars'.\n",
        "        Returns:\n",
        "            A preprocessed list of results (dicts) from Duckling output. For\n",
        "            example:\n",
        "            [\n",
        "               {\n",
        "                  \"dim\":\"amount-of-money\",\n",
        "                  \"end\":21,\n",
        "                  \"start\":11,\n",
        "                  \"value\":{\n",
        "                     \"unit\":\"$\",\n",
        "                     \"value\":10.0\n",
        "                  },\n",
        "                  \"text\":\"10 dollars\"\n",
        "               }\n",
        "            ]\n",
        "        \"\"\"\n",
        "        return self._parse(input_str, dim=Dim.AMOUNTOFMONEY)\n",
        "\n",
        "    def parse_duration(self, input_str):\n",
        "        \"\"\"Parses input with Duckling for occurences of durations.\n",
        "        Args:\n",
        "            input_str: An input string, e.g. 'I ran for 2 hours today'.\n",
        "        Returns:\n",
        "            A preprocessed list of results (dicts) from Duckling output. For\n",
        "            example:\n",
        "            [\n",
        "               {\n",
        "                  \"dim\":\"duration\",\n",
        "                  \"end\":17,\n",
        "                  \"start\":10,\n",
        "                  \"value\":{\n",
        "                     \"hour\":2,\n",
        "                     \"value\":2.0,\n",
        "                     \"month\":null,\n",
        "                     \"second\":null,\n",
        "                     \"minute\":null,\n",
        "                     \"year\":null,\n",
        "                     \"day\":null,\n",
        "                     \"unit\":\"hour\"\n",
        "                  },\n",
        "                  \"text\":\"2 hours\"\n",
        "               }\n",
        "            ]\n",
        "        \"\"\"\n",
        "        return self._parse(input_str, dim=Dim.DURATION)\n",
        "\n",
        "    def parse_email(self, input_str):\n",
        "        \"\"\"Parses input with Duckling for occurences of emails.\n",
        "        Args:\n",
        "            input_str: An input string, e.g. 'Shoot me an email at\n",
        "                contact@frank-blechschmidt.com'.\n",
        "        Returns:\n",
        "            A preprocessed list of results (dicts) from Duckling output. For\n",
        "            example:\n",
        "            [\n",
        "               {\n",
        "                  \"dim\":\"email\",\n",
        "                  \"end\":51,\n",
        "                  \"start\":21,\n",
        "                  \"value\":{\n",
        "                     \"value\":\"contact@frank-blechschmidt.com\"\n",
        "                  },\n",
        "                  \"text\":\"contact@frank-blechschmidt.com\"\n",
        "               }\n",
        "            ]\n",
        "        \"\"\"\n",
        "        return self._parse(input_str, dim=Dim.EMAIL)\n",
        "\n",
        "    def parse_url(self, input_str):\n",
        "        \"\"\"Parses input with Duckling for occurences of urls.\n",
        "        Args:\n",
        "            input_str: An input string, e.g. 'http://frank-blechschmidt.com is\n",
        "                under construction, but you can check my github\n",
        "                github.com/FraBle'.\n",
        "        Returns:\n",
        "            A preprocessed list of results (dicts) from Duckling output. For\n",
        "            example:\n",
        "            [\n",
        "               {\n",
        "                  \"dim\":\"url\",\n",
        "                  \"end\":98,\n",
        "                  \"start\":81,\n",
        "                  \"value\":{\n",
        "                     \"value\":\"github.com/FraBle\"\n",
        "                  },\n",
        "                  \"text\":\"github.com/FraBle\"\n",
        "               },\n",
        "               {\n",
        "                  \"dim\":\"url\",\n",
        "                  \"end\":29,\n",
        "                  \"start\":0,\n",
        "                  \"value\":{\n",
        "                     \"value\":\"http://frank-blechschmidt.com\"\n",
        "                  },\n",
        "                  \"text\":\"http://frank-blechschmidt.com\"\n",
        "               }\n",
        "            ]\n",
        "        \"\"\"\n",
        "        return self._parse(input_str, dim=Dim.URL)\n",
        "\n",
        "    def parse_phone_number(self, input_str):\n",
        "        \"\"\"Parses input with Duckling for occurences of phone numbers.\n",
        "        Args:\n",
        "            input_str: An input string, e.g. '424-242-4242 is obviously a fake\n",
        "                number'.\n",
        "        Returns:\n",
        "            A preprocessed list of results (dicts) from Duckling output. For\n",
        "            example:\n",
        "            [\n",
        "               {\n",
        "                  \"dim\":\"phone-number\",\n",
        "                  \"end\":13,\n",
        "                  \"start\":0,\n",
        "                  \"value\":{\n",
        "                     \"value\":\"424-242-4242 \"\n",
        "                  },\n",
        "                  \"text\":\"424-242-4242 \"\n",
        "               }\n",
        "            ]\n",
        "        \"\"\"\n",
        "        return self._parse(input_str, dim=Dim.PHONENUMBER)\n",
        "\n",
        "    def parse_leven_product(self, input_str):\n",
        "        \"\"\"Parses input with Duckling for occurences of products.\n",
        "        Args:\n",
        "            input_str: An input string, e.g. '5 cups of sugar'.\n",
        "        Returns:\n",
        "            A preprocessed list of results (dicts) from Duckling output. For\n",
        "            example:\n",
        "            [\n",
        "               {\n",
        "                  \"dim\": \"leven-product\",\n",
        "                  \"end\": 15,\n",
        "                  \"start\": 10,\n",
        "                  \"value\":\n",
        "                  {\n",
        "                     \"value\": \"sugar\"\n",
        "                  },\n",
        "                  \"text\": \"sugar\"\n",
        "               }\n",
        "            ]\n",
        "        \"\"\"\n",
        "        return self._parse(input_str, dim=Dim.LEVENPRODUCT)\n",
        "\n",
        "    def parse_leven_unit(self, input_str):\n",
        "        \"\"\"Parses input with Duckling for occurences of leven units.\n",
        "        Args:\n",
        "            input_str: An input string, e.g. 'two pounds of meat'.\n",
        "        Returns:\n",
        "            A preprocessed list of results (dicts) from Duckling output. For\n",
        "            example:\n",
        "            [\n",
        "               {\n",
        "                  \"dim\": \"leven-unit\",\n",
        "                  \"start\": 4,\n",
        "                  \"end\": 10,\n",
        "                  \"value\":\n",
        "                  {\n",
        "                     \"value\": \"pound\"\n",
        "                  },\n",
        "                  \"text\": \"pounds\"\n",
        "               }\n",
        "            ]\n",
        "        \"\"\"\n",
        "        return self._parse(input_str, dim=Dim.LEVENUNIT)\n",
        "\n",
        "    def parse_quantity(self, input_str):\n",
        "        \"\"\"Parses input with Duckling for occurences of quantities.\n",
        "        Args:\n",
        "            input_str: An input string, e.g. '5 cups of sugar'.\n",
        "        Returns:\n",
        "            A preprocessed list of results (dicts) from Duckling output. For\n",
        "            example:\n",
        "            [\n",
        "               {\n",
        "                  \"dim\": \"quantity\",\n",
        "                  \"text\": \"5 cups of sugar\",\n",
        "                  \"start\": 0,\n",
        "                  \"end\": 15,\n",
        "                  \"value\":\n",
        "                  {\n",
        "                     \"value\": 5,\n",
        "                     \"unit\": \"cup\",\n",
        "                     \"product\": \"sugar\"\n",
        "                  }\n",
        "                }\n",
        "            ]\n",
        "        \"\"\"\n",
        "        return self._parse(input_str, dim=Dim.QUANTITY)\n",
        "\n",
        "    def parse_cycle(self, input_str):\n",
        "        \"\"\"Parses input with Duckling for occurences of cycles.\n",
        "        Args:\n",
        "            input_str: An input string, e.g. 'coming week'.\n",
        "        Returns:\n",
        "            A preprocessed list of results (dicts) from Duckling output.\n",
        "        \"\"\"\n",
        "        return self._parse(input_str, dim=Dim.CYCLE)\n",
        "\n",
        "    def parse_unit(self, input_str):\n",
        "        \"\"\"Parses input with Duckling for occurences of units.\n",
        "        Args:\n",
        "            input_str: An input string, e.g. '6 degrees outside'.\n",
        "        Returns:\n",
        "            A preprocessed list of results (dicts) from Duckling output.\n",
        "        \"\"\"\n",
        "        return self._parse(input_str, dim=Dim.UNIT)\n",
        "\n",
        "    def parse_unit_of_duration(self, input_str):\n",
        "        \"\"\"Parses input with Duckling for occurences of units of duration.\n",
        "        Args:\n",
        "            input_str: An input string, e.g. '1 second'.\n",
        "        Returns:\n",
        "            A preprocessed list of results (dicts) from Duckling output.\n",
        "        \"\"\"\n",
        "        return self._parse(input_str, dim=Dim.UNITOFDURATION)"
      ],
      "metadata": {
        "_kg_hide-input": false,
        "execution": {
          "iopub.status.busy": "2021-10-09T17:41:45.577424Z",
          "iopub.execute_input": "2021-10-09T17:41:45.577754Z",
          "iopub.status.idle": "2021-10-09T17:41:45.648978Z",
          "shell.execute_reply.started": "2021-10-09T17:41:45.577716Z",
          "shell.execute_reply": "2021-10-09T17:41:45.647641Z"
        },
        "trusted": true,
        "id": "jHfVU5pFZrIn"
      },
      "execution_count": null,
      "outputs": []
    },
    {
      "cell_type": "code",
      "source": [
        "d=DucklingWrapper()"
      ],
      "metadata": {
        "trusted": true,
        "id": "If_80OU9ZrJN"
      },
      "execution_count": null,
      "outputs": []
    },
    {
      "cell_type": "markdown",
      "source": [
        "## THATS HOW IT WORKS"
      ],
      "metadata": {
        "id": "KulTzFPpZrJY"
      }
    },
    {
      "cell_type": "code",
      "source": [
        "\n",
        "a=d.parse_money(u'i have spend Rs 10.00 ')\n",
        "a"
      ],
      "metadata": {
        "execution": {
          "iopub.status.busy": "2021-10-09T17:42:40.773164Z",
          "iopub.execute_input": "2021-10-09T17:42:40.773627Z",
          "iopub.status.idle": "2021-10-09T17:42:40.822979Z",
          "shell.execute_reply.started": "2021-10-09T17:42:40.773554Z",
          "shell.execute_reply": "2021-10-09T17:42:40.821046Z"
        },
        "trusted": true,
        "id": "wGtrcIrjZrJb"
      },
      "execution_count": null,
      "outputs": []
    },
    {
      "cell_type": "markdown",
      "source": [
        "# DATA FILTERING INVOLVING TRANSACTIONS"
      ],
      "metadata": {
        "id": "c1bXxLOVZrJd"
      }
    },
    {
      "cell_type": "code",
      "source": [
        "filter_Data=data.loc[data['message'].str.contains(\"Rs\")]"
      ],
      "metadata": {
        "execution": {
          "iopub.status.busy": "2021-10-09T17:42:40.827880Z",
          "iopub.execute_input": "2021-10-09T17:42:40.830460Z",
          "iopub.status.idle": "2021-10-09T17:42:42.511966Z",
          "shell.execute_reply.started": "2021-10-09T17:42:40.830417Z",
          "shell.execute_reply": "2021-10-09T17:42:42.510977Z"
        },
        "trusted": true,
        "id": "4Pt_99m4ZrJg"
      },
      "execution_count": null,
      "outputs": []
    },
    {
      "cell_type": "code",
      "source": [
        "#double filtering with keywords as well as using Duckling\n",
        "filter_Data=filter_Data.loc[filter_Data['message'].str.contains(\"debited\" or\"spend\" or \"charged\" or \"paid\" or \"sent\" or \"txn\" or \"billed\" or \"transaction\" or \"credited\") ]\n"
      ],
      "metadata": {
        "execution": {
          "iopub.status.busy": "2021-10-09T17:42:42.514823Z",
          "iopub.execute_input": "2021-10-09T17:42:42.515134Z",
          "iopub.status.idle": "2021-10-09T17:42:43.192668Z",
          "shell.execute_reply.started": "2021-10-09T17:42:42.515092Z",
          "shell.execute_reply": "2021-10-09T17:42:43.191606Z"
        },
        "trusted": true,
        "id": "QPeIPGX-ZrJj"
      },
      "execution_count": null,
      "outputs": []
    },
    {
      "cell_type": "markdown",
      "source": [
        "## DATA OF A PARTICULAR USER"
      ],
      "metadata": {
        "id": "t208ghZFZrJm"
      }
    },
    {
      "cell_type": "code",
      "source": [
        "#data of 1 user id\n",
        "user1_data=filter_Data[filter_Data.user_id==\"40ec6ba2-af1b-4037-9e01-3d108faa937b\"]\n",
        "#sort values by timestamp\n",
        "user1_data=user1_data.sort_values(\"timestamp\")\n",
        "#taking month as 03 of year 2021\n",
        "user1_data=user1_data[user1_data.timestamp.astype(str).str.contains(\"2021-03-\")]"
      ],
      "metadata": {
        "execution": {
          "iopub.status.busy": "2021-10-09T17:42:43.194422Z",
          "iopub.execute_input": "2021-10-09T17:42:43.194774Z",
          "iopub.status.idle": "2021-10-09T17:42:43.260275Z",
          "shell.execute_reply.started": "2021-10-09T17:42:43.194722Z",
          "shell.execute_reply": "2021-10-09T17:42:43.259207Z"
        },
        "trusted": true,
        "id": "Jmg0i-3VZrJp"
      },
      "execution_count": null,
      "outputs": []
    },
    {
      "cell_type": "code",
      "source": [
        "#transactions for subscribed member\n",
        "#make graphs for expenses\n",
        "#famous bank HDFC \n",
        "#timestamp kis time range mai maximum transactions \n",
        "# No use - okay created_at\n",
        "for i,rows in user1_data.iterrows():\n",
        "    l=rows.message.find(\"Rs.\")\n",
        "    if l!=-1:\n",
        "        user1_data.loc[i,[\"message\"]]=rows.message[:l+3]+\" \"+rows.message[l+3:]\n",
        "    print(user1_data.loc[i,[\"message\"]])"
      ],
      "metadata": {
        "execution": {
          "iopub.status.busy": "2021-10-09T17:42:43.261824Z",
          "iopub.execute_input": "2021-10-09T17:42:43.262785Z",
          "iopub.status.idle": "2021-10-09T17:42:43.342187Z",
          "shell.execute_reply.started": "2021-10-09T17:42:43.262736Z",
          "shell.execute_reply": "2021-10-09T17:42:43.341248Z"
        },
        "trusted": true,
        "id": "et9xWMq5ZrJs"
      },
      "execution_count": null,
      "outputs": []
    },
    {
      "cell_type": "code",
      "source": [
        "user1_data"
      ],
      "metadata": {
        "execution": {
          "iopub.status.busy": "2021-10-09T17:42:43.343416Z",
          "iopub.execute_input": "2021-10-09T17:42:43.343762Z",
          "iopub.status.idle": "2021-10-09T17:42:43.372869Z",
          "shell.execute_reply.started": "2021-10-09T17:42:43.343709Z",
          "shell.execute_reply": "2021-10-09T17:42:43.371599Z"
        },
        "trusted": true,
        "id": "F7otZObwZrJu"
      },
      "execution_count": null,
      "outputs": []
    },
    {
      "cell_type": "code",
      "source": [
        "##find the data with debited balance\n",
        "user1_debited_data=user1_data.loc[filter_Data['message'].str.contains(\"debited\")]\n",
        "user1_debited_array=np.array([])\n",
        "user1_amount=np.array([])\n",
        "user1_debited_amount=0\n",
        "for i,rows in user1_debited_data.iterrows():\n",
        "    a=d.parse_money(rows.message)\n",
        "    if(len(a)):\n",
        "        user1_debited_amount+=a[0]['value']['value']\n",
        "        user1_debited_array=np.append(user1_debited_array,user1_debited_amount)\n",
        "        user1_amount=np.append(user1_amount,a[0]['value']['value'])\n",
        "    else:\n",
        "        user1_debited_array=np.append(user1_debited_array,0)\n",
        "        user1_amount=np.append(user1_amount,0)\n"
      ],
      "metadata": {
        "execution": {
          "iopub.status.busy": "2021-10-09T17:42:46.737003Z",
          "iopub.execute_input": "2021-10-09T17:42:46.737685Z",
          "iopub.status.idle": "2021-10-09T17:42:47.711773Z",
          "shell.execute_reply.started": "2021-10-09T17:42:46.737652Z",
          "shell.execute_reply": "2021-10-09T17:42:47.710655Z"
        },
        "trusted": true,
        "id": "seWaX7UYZrJx"
      },
      "execution_count": null,
      "outputs": []
    },
    {
      "cell_type": "code",
      "source": [
        "user1_debited_data[\"expense\"]=user1_debited_array\n",
        "user1_debited_data[\"amount\"]=user1_amount"
      ],
      "metadata": {
        "execution": {
          "iopub.status.busy": "2021-10-09T17:42:47.717600Z",
          "iopub.execute_input": "2021-10-09T17:42:47.718695Z",
          "iopub.status.idle": "2021-10-09T17:42:47.725978Z",
          "shell.execute_reply.started": "2021-10-09T17:42:47.718651Z",
          "shell.execute_reply": "2021-10-09T17:42:47.724774Z"
        },
        "trusted": true,
        "id": "dJdE2tO_ZrJ0"
      },
      "execution_count": null,
      "outputs": []
    },
    {
      "cell_type": "code",
      "source": [
        "user1_debited_data"
      ],
      "metadata": {
        "execution": {
          "iopub.status.busy": "2021-10-09T17:42:48.488002Z",
          "iopub.execute_input": "2021-10-09T17:42:48.488297Z",
          "iopub.status.idle": "2021-10-09T17:42:48.516431Z",
          "shell.execute_reply.started": "2021-10-09T17:42:48.488258Z",
          "shell.execute_reply": "2021-10-09T17:42:48.515198Z"
        },
        "trusted": true,
        "id": "slXQEeiwZrJ4"
      },
      "execution_count": null,
      "outputs": []
    },
    {
      "cell_type": "code",
      "source": [
        "# find the data with credited balance\n",
        "user1_credited_data=user1_data.loc[filter_Data['message'].str.contains(\"credited\")]\n",
        "user1_credited_amount=0\n",
        "for i,rows in user1_credited_data.iterrows():\n",
        "    a=d.parse_money(rows.message)\n",
        "    if(len(a)):\n",
        "        user1_credited_amount+=a[0]['value']['value']\n",
        "user1_credited_data"
      ],
      "metadata": {
        "execution": {
          "iopub.status.busy": "2021-10-09T17:42:49.187025Z",
          "iopub.execute_input": "2021-10-09T17:42:49.187358Z",
          "iopub.status.idle": "2021-10-09T17:42:49.280657Z",
          "shell.execute_reply.started": "2021-10-09T17:42:49.187327Z",
          "shell.execute_reply": "2021-10-09T17:42:49.279619Z"
        },
        "trusted": true,
        "id": "6hSTbud2ZrJ5"
      },
      "execution_count": null,
      "outputs": []
    },
    {
      "cell_type": "markdown",
      "source": [
        "# INSIGHTS OF DATA"
      ],
      "metadata": {
        "id": "BAptlKwGZrJ6"
      }
    },
    {
      "cell_type": "markdown",
      "source": [
        "MOST FAMOUS BANK"
      ],
      "metadata": {
        "id": "SWO4QAb-ZrJ9"
      }
    },
    {
      "cell_type": "code",
      "source": [
        "filter_Data[\"sender\"].value_counts()"
      ],
      "metadata": {
        "execution": {
          "iopub.status.busy": "2021-10-09T17:43:00.054135Z",
          "iopub.execute_input": "2021-10-09T17:43:00.054449Z",
          "iopub.status.idle": "2021-10-09T17:43:00.105544Z",
          "shell.execute_reply.started": "2021-10-09T17:43:00.054419Z",
          "shell.execute_reply": "2021-10-09T17:43:00.103992Z"
        },
        "trusted": true,
        "id": "7BDlclVbZrJ-"
      },
      "execution_count": null,
      "outputs": []
    },
    {
      "cell_type": "markdown",
      "source": [
        "**sender - ADHDFCBK**"
      ],
      "metadata": {
        "id": "4Uehj_J0ZrJ_"
      }
    },
    {
      "cell_type": "markdown",
      "source": [
        "Number of Transactions "
      ],
      "metadata": {
        "id": "e3OPPWdhZrKA"
      }
    },
    {
      "cell_type": "code",
      "source": [
        "#data of 1 user id\n",
        "user1_data=filter_Data[filter_Data.user_id==\"40ec6ba2-af1b-4037-9e01-3d108faa937b\"]\n",
        "#sort values by timestamp\n",
        "user1_data=user1_data.sort_values(\"timestamp\")\n"
      ],
      "metadata": {
        "execution": {
          "iopub.status.busy": "2021-10-09T17:43:01.303255Z",
          "iopub.execute_input": "2021-10-09T17:43:01.304177Z",
          "iopub.status.idle": "2021-10-09T17:43:01.332321Z",
          "shell.execute_reply.started": "2021-10-09T17:43:01.304140Z",
          "shell.execute_reply": "2021-10-09T17:43:01.331136Z"
        },
        "trusted": true,
        "id": "Ycv6gFUxZrKB"
      },
      "execution_count": null,
      "outputs": []
    },
    {
      "cell_type": "code",
      "source": [
        "from matplotlib.pyplot import figure\n",
        "\n",
        "figure(figsize=(20, 20), dpi=80)\n",
        "import pandas as pd\n",
        "import numpy as np\n",
        "data_csv=user1_data\n",
        "data1=data_csv.copy(deep=True)\n",
        "data2=np.unique(data1['sender'])\n",
        "data1['sender']=data1['sender'].astype('object')\n",
        "data3=data1['sender'].value_counts()\n",
        "plt.pie(data3,labels=data3.index)"
      ],
      "metadata": {
        "execution": {
          "iopub.status.busy": "2021-10-09T17:45:27.089695Z",
          "iopub.execute_input": "2021-10-09T17:45:27.090044Z",
          "iopub.status.idle": "2021-10-09T17:45:27.959548Z",
          "shell.execute_reply.started": "2021-10-09T17:45:27.090013Z",
          "shell.execute_reply": "2021-10-09T17:45:27.958428Z"
        },
        "trusted": true,
        "id": "5kplFKdpZrKE"
      },
      "execution_count": null,
      "outputs": []
    },
    {
      "cell_type": "markdown",
      "source": [
        "# plot of number of transactions at particular amount"
      ],
      "metadata": {
        "id": "PrzhWXOcZrKG"
      }
    },
    {
      "cell_type": "code",
      "source": [
        "import matplotlib.pyplot as plt\n",
        "\n",
        "figure(figsize=(10, 10), dpi=80)\n",
        "import pandas as pd\n",
        "data_csv=pd.read_csv('graph.csv') \n",
        "data1=data_csv.copy(deep=True)\n",
        "print(data1.columns)\n",
        "data_ex=pd.crosstab(index=data1['expense'],columns=data1['sender'],dropna=True)\n",
        "data_ex=data_ex.iloc[1:]\n",
        "data_re=data_ex.sum(axis=0)\n",
        "dat=data_re.index\n",
        "data_amm=data1['amount']\n",
        "data_amm=data_amm[data_amm!=0]\n",
        "data_ew=pd.crosstab(index=data1['amount'],columns=data1['sender'],dropna=True)\n",
        "data_n=data_ew.index\n",
        "for i in range(0,len(dat),1):\n",
        "    data_ew[dat[i]]=data_n*data_ew[dat[i]]\n",
        "data_ew=data_ew.sum()\n",
        "data_re=data_re[data_re!=0]\n",
        "data_ew=data_ew[data_ew!=0]\n",
        "plt.scatter(data_ew,data_re)"
      ],
      "metadata": {
        "execution": {
          "iopub.status.busy": "2021-10-09T17:48:23.003932Z",
          "iopub.execute_input": "2021-10-09T17:48:23.004888Z",
          "iopub.status.idle": "2021-10-09T17:48:23.415104Z",
          "shell.execute_reply.started": "2021-10-09T17:48:23.004830Z",
          "shell.execute_reply": "2021-10-09T17:48:23.414119Z"
        },
        "trusted": true,
        "id": "rwxlXydtZrKH"
      },
      "execution_count": null,
      "outputs": []
    },
    {
      "cell_type": "code",
      "source": [
        ""
      ],
      "metadata": {
        "id": "P0CygHmdZrKJ"
      },
      "execution_count": null,
      "outputs": []
    },
    {
      "cell_type": "code",
      "source": [
        "##find the data with debited balance\n",
        "user1_debited_data=user1_data.loc[filter_Data['message'].str.contains(\"debited\")]\n",
        "\n",
        "user1_debited_array=np.array([])\n",
        "user1_amount=np.array([])\n",
        "user1_debited_amount=0\n",
        "for i,rows in user1_debited_data.iterrows():\n",
        "    a=d.parse_money(rows.message)\n",
        "    if(len(a)):\n",
        "        user1_debited_amount+=a[0]['value']['value']\n",
        "        user1_debited_array=np.append(user1_debited_array,user1_debited_amount)\n",
        "        user1_amount=np.append(user1_amount,a[0]['value']['value'])\n",
        "    else:\n",
        "        user1_debited_array=np.append(user1_debited_array,0)\n",
        "        user1_amount=np.append(user1_amount,0)\n",
        "        \n",
        "user1_debited_data[\"expense\"]=user1_debited_array\n",
        "user1_debited_data[\"amount\"]=user1_amount"
      ],
      "metadata": {
        "execution": {
          "iopub.status.busy": "2021-10-09T17:48:29.812261Z",
          "iopub.execute_input": "2021-10-09T17:48:29.812637Z"
        },
        "trusted": true,
        "id": "XWdobfdtZrKK"
      },
      "execution_count": null,
      "outputs": []
    },
    {
      "cell_type": "code",
      "source": [
        "user1_debited_data['expense']=user1_debited_data['expense'].replace(to_replace=0, method='ffill')\n",
        "user1_debited_data.to_csv(\"graph.csv\")"
      ],
      "metadata": {
        "trusted": true,
        "id": "3grMl0GzZrKL"
      },
      "execution_count": null,
      "outputs": []
    },
    {
      "cell_type": "code",
      "source": [
        "import matplotlib.pyplot as plt\n",
        "import pandas as pd\n",
        "data_csv=pd.read_csv('graph.csv') \n",
        "data1=data_csv.copy(deep=True)\n",
        "data1.sort_values(\"timestamp\")\n",
        "\n",
        "plt.plot(data1[\"timestamp\"],data1['expense'])\n",
        "plt.title('time Vs expense')\n",
        "plt.xlabel('time')\n",
        "plt.ylabel('expense')\n"
      ],
      "metadata": {
        "trusted": true,
        "id": "uGJyrBueZrKN"
      },
      "execution_count": null,
      "outputs": []
    },
    {
      "cell_type": "code",
      "source": [
        "plt.plot(data1[\"timestamp\"],data1['amount'])\n",
        "plt.title('time Vs amount')\n",
        "plt.xlabel('time')\n",
        "plt.ylabel('amount')"
      ],
      "metadata": {
        "trusted": true,
        "id": "yddDCmn0ZrKP"
      },
      "execution_count": null,
      "outputs": []
    },
    {
      "cell_type": "code",
      "source": [
        ""
      ],
      "metadata": {
        "trusted": true,
        "id": "xCXo-iJBZrKR"
      },
      "execution_count": null,
      "outputs": []
    },
    {
      "cell_type": "code",
      "source": [
        ""
      ],
      "metadata": {
        "id": "21u6Ao2jZrKS"
      },
      "execution_count": null,
      "outputs": []
    },
    {
      "cell_type": "code",
      "source": [
        ""
      ],
      "metadata": {
        "id": "q2Lxjz-qZrKT"
      },
      "execution_count": null,
      "outputs": []
    },
    {
      "cell_type": "code",
      "source": [
        ""
      ],
      "metadata": {
        "id": "-nHEjROWZrKW"
      },
      "execution_count": null,
      "outputs": []
    },
    {
      "cell_type": "code",
      "source": [
        ""
      ],
      "metadata": {
        "id": "WRQLjTD1ZrKW"
      },
      "execution_count": null,
      "outputs": []
    },
    {
      "cell_type": "code",
      "source": [
        ""
      ],
      "metadata": {
        "id": "kHsN-HMFZrKX"
      },
      "execution_count": null,
      "outputs": []
    }
  ]
}